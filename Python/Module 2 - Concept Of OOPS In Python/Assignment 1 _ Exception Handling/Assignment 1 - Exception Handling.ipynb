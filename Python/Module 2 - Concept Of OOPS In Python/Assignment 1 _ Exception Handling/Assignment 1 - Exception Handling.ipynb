{
 "cells": [
  {
   "cell_type": "markdown",
   "id": "6e1cff12",
   "metadata": {},
   "source": [
    "# Assignment 1 - Exception Handling"
   ]
  },
  {
   "cell_type": "markdown",
   "id": "e9519f8e",
   "metadata": {},
   "source": [
    "# Module 2: Exception Handling Assignment"
   ]
  },
  {
   "cell_type": "code",
   "execution_count": 1,
   "id": "77075c15",
   "metadata": {},
   "outputs": [],
   "source": [
    "#2. Take two user inputs and pass those input variables in a try block. If the user input is 0,\n",
    "#   then throw the ZeroDivisionError exception."
   ]
  },
  {
   "cell_type": "code",
   "execution_count": 2,
   "id": "a11b0bb1",
   "metadata": {},
   "outputs": [
    {
     "name": "stdout",
     "output_type": "stream",
     "text": [
      "Enter the numerator: 1\n",
      "Enter the denominator: 1\n",
      "The result is:  1.0\n",
      "The program executed successfully\n",
      "End of program\n"
     ]
    }
   ],
   "source": [
    "try:\n",
    "    num = int(input('Enter the numerator: '))\n",
    "    den = int(input('Enter the denominator: '))\n",
    "\n",
    "    result = num / den\n",
    "    print('The result is: ', result)\n",
    "\n",
    "except ZeroDivisionError:\n",
    "    print(\"The denominator can't be zero, please try again!!\")\n",
    "except ValueError:\n",
    "    print(\"Oops!! That isn't a valid number, please try again...\")\n",
    "\n",
    "else:\n",
    "    print('The program executed successfully')\n",
    "\n",
    "finally:\n",
    "    print('End of program')"
   ]
  },
  {
   "cell_type": "code",
   "execution_count": null,
   "id": "61c75f5f",
   "metadata": {},
   "outputs": [],
   "source": []
  },
  {
   "cell_type": "code",
   "execution_count": 3,
   "id": "529bcbdd",
   "metadata": {},
   "outputs": [],
   "source": [
    "#3. Import math package and with the help of math package, print – math.exp(50000).\n",
    "#   Now use the inbuilt OverflowError exception on the math.exp(), and print the exception."
   ]
  },
  {
   "cell_type": "code",
   "execution_count": 4,
   "id": "cfe39ff8",
   "metadata": {},
   "outputs": [
    {
     "name": "stdout",
     "output_type": "stream",
     "text": [
      "Enter a number between 0 and 700: 50\n",
      "The result is:  5.184705528587072e+21\n",
      "The program executed successfully\n",
      "End of program\n"
     ]
    }
   ],
   "source": [
    "import math\n",
    "\n",
    "try:\n",
    "    x = int(input('Enter a number between 0 and 700: '))\n",
    "    y = math.exp(x)\n",
    "    print('The result is: ', y)\n",
    "\n",
    "except OverflowError:\n",
    "    print(\"Please enter a smaller number and try again!!\")\n",
    "except ValueError:\n",
    "    print(\"Oops!! That isn't a valid number, please try again...\")\n",
    "\n",
    "else:\n",
    "    print('The program executed successfully')\n",
    "\n",
    "finally:\n",
    "    print('End of program')"
   ]
  },
  {
   "cell_type": "code",
   "execution_count": null,
   "id": "616ece21",
   "metadata": {},
   "outputs": [],
   "source": []
  },
  {
   "cell_type": "code",
   "execution_count": 5,
   "id": "827f1a77",
   "metadata": {},
   "outputs": [],
   "source": [
    "#4. Now install the ‘termcolor’ package in the anaconda prompt, and import that package to\n",
    "#   provide the colors to the print statement in Jupyter Notebook."
   ]
  },
  {
   "cell_type": "code",
   "execution_count": 6,
   "id": "74bfc0a5",
   "metadata": {},
   "outputs": [],
   "source": [
    "from termcolor import colored\n",
    "import colorama"
   ]
  },
  {
   "cell_type": "code",
   "execution_count": 7,
   "id": "ed21f91e",
   "metadata": {},
   "outputs": [
    {
     "name": "stdout",
     "output_type": "stream",
     "text": [
      "Enter the numerator: 1\n",
      "Enter the denominator: 1\n",
      "\n",
      "\u001b[42m\u001b[37mThe result is: 1\u001b[0m\n",
      "\n",
      "\u001b[43m\u001b[34mThe program executed successfully\u001b[0m\n",
      "\n",
      "\u001b[42m\u001b[37mEnd of program\u001b[0m\n"
     ]
    }
   ],
   "source": [
    "try:\n",
    "    num = int(input('Enter the numerator: '))\n",
    "    den = int(input('Enter the denominator: '))\n",
    "\n",
    "    result = num / den\n",
    "    print()\n",
    "    print(colored('The result is: %d'%result, 'white', 'on_green'))\n",
    "    print()\n",
    "\n",
    "except ZeroDivisionError as zde:\n",
    "    print(colored(\"The denominator can't be zero, please try again!!\", 'white', 'on_red'))\n",
    "    print()\n",
    "except ValueError as ve:\n",
    "    print(colored(\"Oops!! That isn't a valid number, please try again...\", 'white', 'on_red'))\n",
    "    print()\n",
    "\n",
    "else:\n",
    "    print(colored('The program executed successfully', 'blue', 'on_yellow'))\n",
    "    print()\n",
    "\n",
    "finally:\n",
    "    print(colored('End of program', 'white', 'on_green'))"
   ]
  },
  {
   "cell_type": "code",
   "execution_count": 8,
   "id": "cb4a3865",
   "metadata": {},
   "outputs": [
    {
     "name": "stdout",
     "output_type": "stream",
     "text": [
      "Enter a number between 0 and 700: 50\n",
      "\n",
      "\u001b[42m\u001b[37mThe result is: 5184705528587072045056\u001b[0m\n",
      "\n",
      "\u001b[43m\u001b[34mThe program executed successfully\u001b[0m\n",
      "\n",
      "\u001b[42m\u001b[37mEnd of program\u001b[0m\n"
     ]
    }
   ],
   "source": [
    "try:\n",
    "    x = int(input('Enter a number between 0 and 700: '))\n",
    "    y = math.exp(x)\n",
    "    print()\n",
    "    print(colored('The result is: %d'%y, 'white', 'on_green'))\n",
    "    print()\n",
    "\n",
    "except OverflowError as ofe:\n",
    "    print(colored('Please enter a smaller number and try again!!', 'white', 'on_red'))\n",
    "    print()\n",
    "except ValueError as ve:\n",
    "    print(colored(\"Oops!! That isn't a valid number, please try again...\", 'white', 'on_red'))\n",
    "    print()\n",
    "    \n",
    "else:\n",
    "    print(colored('The program executed successfully', 'blue', 'on_yellow'))\n",
    "    print()\n",
    "    \n",
    "finally:\n",
    "    print(colored('End of program', 'white', 'on_green'))"
   ]
  },
  {
   "cell_type": "code",
   "execution_count": null,
   "id": "5374a933",
   "metadata": {},
   "outputs": [],
   "source": []
  },
  {
   "cell_type": "code",
   "execution_count": 9,
   "id": "a82014c6",
   "metadata": {},
   "outputs": [],
   "source": [
    "#5. Create your own exception with the help of class and functions."
   ]
  },
  {
   "cell_type": "code",
   "execution_count": 10,
   "id": "62d8799d",
   "metadata": {},
   "outputs": [
    {
     "name": "stdout",
     "output_type": "stream",
     "text": [
      "Enter the numerator: 1\n",
      "Enter the denominator: 1\n",
      "The result is:  1.0\n",
      "The program executed successfully\n",
      "End of program\n",
      "Enter a number between 0 and 700: 50\n",
      "The result is:  5.184705528587072e+21\n",
      "The program executed successfully\n",
      "End of program\n"
     ]
    }
   ],
   "source": [
    "class MyValueError(Exception):\n",
    "    def __init__ (self):\n",
    "        print(\"Oops!! That isn't a valid number, please try again...\")\n",
    "        \n",
    "class MyZeroDivisionError(Exception):\n",
    "    def __init__ (self):\n",
    "        print(\"The denominator can't be zero, please try again!!\")\n",
    "    \n",
    "class MyOverflowError(Exception):\n",
    "    def __init__ (self):\n",
    "        print('Please enter a smaller number and try again!!')\n",
    "\n",
    "try:\n",
    "    num = int(input('Enter the numerator: '))\n",
    "    den = int(input('Enter the denominator: '))\n",
    "    \n",
    "    result = num / den\n",
    "    print('The result is: ', result)\n",
    "\n",
    "except Exception as e:\n",
    "    if e.__class__.__name__ == 'ValueError':\n",
    "        msg = MyValueError()\n",
    "    elif e.__class__.__name__ == 'ZeroDivisionError':\n",
    "        msg = MyZeroDivisionError()\n",
    "\n",
    "else:\n",
    "    print('The program executed successfully')\n",
    "\n",
    "finally:\n",
    "    print('End of program')\n",
    "    \n",
    "try:\n",
    "    x = int(input('Enter a number between 0 and 700: '))\n",
    "    y = math.exp(x)\n",
    "    print('The result is: ', y)\n",
    "\n",
    "except Exception as e:\n",
    "    if e.__class__.__name__ == 'OverflowError':\n",
    "        msg = MyOverflowError\n",
    "    elif e.__class__.__name__ == 'ValueError':\n",
    "        msg = MyValueError\n",
    "    else: pass\n",
    "\n",
    "else:\n",
    "    print('The program executed successfully')\n",
    "\n",
    "finally:\n",
    "    print('End of program')"
   ]
  }
 ],
 "metadata": {
  "kernelspec": {
   "display_name": "Python 3 (ipykernel)",
   "language": "python",
   "name": "python3"
  },
  "language_info": {
   "codemirror_mode": {
    "name": "ipython",
    "version": 3
   },
   "file_extension": ".py",
   "mimetype": "text/x-python",
   "name": "python",
   "nbconvert_exporter": "python",
   "pygments_lexer": "ipython3",
   "version": "3.9.12"
  }
 },
 "nbformat": 4,
 "nbformat_minor": 5
}
