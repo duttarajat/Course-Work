{
 "cells": [
  {
   "cell_type": "markdown",
   "id": "d8555cce",
   "metadata": {},
   "source": [
    "# Case Study Problem 1 - Concept Of OOPS"
   ]
  },
  {
   "cell_type": "markdown",
   "id": "f917ab4a",
   "metadata": {},
   "source": [
    "# Module 1: OOPs with Python Assignment-1"
   ]
  },
  {
   "cell_type": "code",
   "execution_count": 1,
   "id": "9b4415b7",
   "metadata": {},
   "outputs": [],
   "source": [
    "#1. Create a class names Employee, with a constructor ‘__init__’ method that accepts name and\n",
    "#   salary as parameters and set properties named name and salary."
   ]
  },
  {
   "cell_type": "code",
   "execution_count": 2,
   "id": "4a8a8fe0",
   "metadata": {},
   "outputs": [],
   "source": [
    "class Employee:\n",
    "    def __init__ (self, name, salary):\n",
    "        self.name = name\n",
    "        self.salary = salary"
   ]
  },
  {
   "cell_type": "code",
   "execution_count": null,
   "id": "72f1eb00",
   "metadata": {},
   "outputs": [],
   "source": []
  },
  {
   "cell_type": "code",
   "execution_count": 3,
   "id": "34cdba62",
   "metadata": {},
   "outputs": [],
   "source": [
    "#2. Define __str__ method in Employee class so that when someone tries to print the object the string Name:\n",
    "#   employee_name, Salary: employee_salary is printed with the actual employee name and salary."
   ]
  },
  {
   "cell_type": "code",
   "execution_count": 4,
   "id": "7419b3a8",
   "metadata": {},
   "outputs": [
    {
     "name": "stdout",
     "output_type": "stream",
     "text": [
      "The employee name is:  Rajat\n",
      "The salary is:  100000\n"
     ]
    }
   ],
   "source": [
    "class Employee:\n",
    "    def __init__ (self, name, salary):\n",
    "        self.name = name\n",
    "        self.salary = salary\n",
    "    def __str__ (self):\n",
    "        print ('The employee name is: ', self.name)\n",
    "        print ('The salary is: ', self.salary)\n",
    "        \n",
    "e1= Employee('Rajat', 100000)\n",
    "e1.__str__()"
   ]
  },
  {
   "cell_type": "code",
   "execution_count": null,
   "id": "04f953ef",
   "metadata": {},
   "outputs": [],
   "source": []
  },
  {
   "cell_type": "code",
   "execution_count": 5,
   "id": "dbf32141",
   "metadata": {},
   "outputs": [],
   "source": [
    "#3. Create another class named Calculator, with methods to add, subtract, multiply and divide two numbers\n",
    "#4. These methods take two numbers as parameters"
   ]
  },
  {
   "cell_type": "code",
   "execution_count": 6,
   "id": "0680ab7c",
   "metadata": {},
   "outputs": [],
   "source": [
    "class Calculator:\n",
    "    def __init__ (self):\n",
    "        self.x = x\n",
    "        self.y = y\n",
    "    def add (self, x, y):\n",
    "        a = x + y\n",
    "        print(a)\n",
    "    def sub (self, x, y):\n",
    "        s = x - y\n",
    "        print(s)\n",
    "    def mul (self, x, y):\n",
    "        m = x * y\n",
    "        print(m)\n",
    "    def div (self, x, y):\n",
    "        d = x // y\n",
    "        print(d)       "
   ]
  },
  {
   "cell_type": "code",
   "execution_count": 7,
   "id": "e2a5c938",
   "metadata": {},
   "outputs": [],
   "source": [
    "#5. These methods will be called by method named execute command.\n",
    "#6. Execute command takes in 3 parameters command which is string that can be either ‘add’, ‘sub’, ‘mul’, ‘div’,\n",
    "#   and two numbers and it will call the appropriate method based on command parameter."
   ]
  },
  {
   "cell_type": "code",
   "execution_count": 8,
   "id": "7a7a7358",
   "metadata": {},
   "outputs": [
    {
     "name": "stdout",
     "output_type": "stream",
     "text": [
      "5\n"
     ]
    }
   ],
   "source": [
    "class Calculator:\n",
    "    def __init__ (self, x, y):\n",
    "        self.x = x\n",
    "        self.y = y\n",
    "    def add (self, x, y):\n",
    "        a = x + y\n",
    "        print(a)\n",
    "    def sub (self, x, y):\n",
    "        s = x - y\n",
    "        print(s)\n",
    "    def mul (self, x, y):\n",
    "        m = x * y\n",
    "        print(m)\n",
    "    def div (self, x, y):\n",
    "        d = x // y\n",
    "        print(d)\n",
    "    def execute(self, x, y, z):\n",
    "        if z == 'add': self.add(x, y)\n",
    "        elif z == 'sub': self.sub(x, y)\n",
    "        elif z == 'mul': self.mul(x, y)\n",
    "        elif z == 'div': self.div(x, y)\n",
    "\n",
    "i = Calculator(2, 3)\n",
    "i.execute(2, 3, 'add')"
   ]
  },
  {
   "cell_type": "code",
   "execution_count": 9,
   "id": "9131402b",
   "metadata": {},
   "outputs": [
    {
     "name": "stdout",
     "output_type": "stream",
     "text": [
      "1\n"
     ]
    }
   ],
   "source": [
    "class Calculator:\n",
    "    def __init__ (self, x, y):\n",
    "        self.x = x\n",
    "        self.y = y\n",
    "    def add (self, x, y):\n",
    "        a = x + y\n",
    "        print(a)\n",
    "    def sub (self, x, y):\n",
    "        s = x - y\n",
    "        print(s)\n",
    "    def mul (self, x, y):\n",
    "        m = x * y\n",
    "        print(m)\n",
    "    def div (self, x, y):\n",
    "        d = x // y\n",
    "        print(d)\n",
    "    def execute(self, x, y, z):\n",
    "        if z == 'add': self.add(x, y)\n",
    "        elif z == 'sub': self.sub(x, y)\n",
    "        elif z == 'mul': self.mul(x, y)\n",
    "        elif z == 'div': self.div(x, y)\n",
    "\n",
    "i = Calculator(2, 3)\n",
    "i.execute(3, 2, 'sub')"
   ]
  },
  {
   "cell_type": "code",
   "execution_count": 10,
   "id": "6a03d591",
   "metadata": {},
   "outputs": [
    {
     "name": "stdout",
     "output_type": "stream",
     "text": [
      "6\n"
     ]
    }
   ],
   "source": [
    "class Calculator:\n",
    "    def __init__ (self, x, y):\n",
    "        self.x = x\n",
    "        self.y = y\n",
    "    def add (self, x, y):\n",
    "        a = x + y\n",
    "        print(a)\n",
    "    def sub (self, x, y):\n",
    "        s = x - y\n",
    "        print(s)\n",
    "    def mul (self, x, y):\n",
    "        m = x * y\n",
    "        print(m)\n",
    "    def div (self, x, y):\n",
    "        d = x // y\n",
    "        print(d)\n",
    "    def execute(self, x, y, z):\n",
    "        if z == 'add': self.add(x, y)\n",
    "        elif z == 'sub': self.sub(x, y)\n",
    "        elif z == 'mul': self.mul(x, y)\n",
    "        elif z == 'div': self.div(x, y)\n",
    "\n",
    "i = Calculator(2, 3)\n",
    "i.execute(3, 2, 'mul')"
   ]
  },
  {
   "cell_type": "code",
   "execution_count": 11,
   "id": "5c8037d4",
   "metadata": {},
   "outputs": [
    {
     "name": "stdout",
     "output_type": "stream",
     "text": [
      "2\n"
     ]
    }
   ],
   "source": [
    "class Calculator:\n",
    "    def __init__ (self, x, y):\n",
    "        self.x = x\n",
    "        self.y = y\n",
    "    def add (self, x, y):\n",
    "        a = x + y\n",
    "        print(a)\n",
    "    def sub (self, x, y):\n",
    "        s = x - y\n",
    "        print(s)\n",
    "    def mul (self, x, y):\n",
    "        m = x * y\n",
    "        print(m)\n",
    "    def div (self, x, y):\n",
    "        d = x // y\n",
    "        print(d)\n",
    "    def execute(self, x, y, z):\n",
    "        if z == 'add': self.add(x, y)\n",
    "        elif z == 'sub': self.sub(x, y)\n",
    "        elif z == 'mul': self.mul(x, y)\n",
    "        elif z == 'div': self.div(x, y)\n",
    "\n",
    "i = Calculator(2, 3)\n",
    "i.execute(4, 2, 'div')"
   ]
  }
 ],
 "metadata": {
  "kernelspec": {
   "display_name": "Python 3 (ipykernel)",
   "language": "python",
   "name": "python3"
  },
  "language_info": {
   "codemirror_mode": {
    "name": "ipython",
    "version": 3
   },
   "file_extension": ".py",
   "mimetype": "text/x-python",
   "name": "python",
   "nbconvert_exporter": "python",
   "pygments_lexer": "ipython3",
   "version": "3.9.12"
  }
 },
 "nbformat": 4,
 "nbformat_minor": 5
}
