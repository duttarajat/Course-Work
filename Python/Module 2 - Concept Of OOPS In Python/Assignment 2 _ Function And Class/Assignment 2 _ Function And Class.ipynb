{
 "cells": [
  {
   "cell_type": "markdown",
   "id": "e723502f",
   "metadata": {},
   "source": [
    "# Assignment 2 - Function And Class"
   ]
  },
  {
   "cell_type": "markdown",
   "id": "049e7527",
   "metadata": {},
   "source": [
    "# Module 2: Function and Class Assignment"
   ]
  },
  {
   "cell_type": "code",
   "execution_count": 1,
   "id": "e24ac8e5",
   "metadata": {},
   "outputs": [],
   "source": [
    "#1. Create a function named ‘factor’ that can only accepts 1 argument. The function should return the factorial of that number."
   ]
  },
  {
   "cell_type": "code",
   "execution_count": 2,
   "id": "01b7f7c0",
   "metadata": {},
   "outputs": [
    {
     "name": "stdout",
     "output_type": "stream",
     "text": [
      "Enter a no.: 5\n",
      "The factorial of 5 is 120\n"
     ]
    }
   ],
   "source": [
    "def factor(arg):\n",
    "    if arg < 0:\n",
    "        print(\"Factorial doesn't exist for negative numbers\")\n",
    "    elif arg == 0:\n",
    "        print(\"The factorial of 0 is 1\")\n",
    "    else:\n",
    "        fact=1\n",
    "        for i in range(1, arg+1):\n",
    "            fact = fact*i\n",
    "        print(\"The factorial of\",arg,\"is\",fact)\n",
    "\n",
    "factor(int(input(\"Enter a no.: \")))"
   ]
  },
  {
   "cell_type": "code",
   "execution_count": null,
   "id": "e90fafe5",
   "metadata": {},
   "outputs": [],
   "source": []
  },
  {
   "cell_type": "code",
   "execution_count": 3,
   "id": "e96d1cab",
   "metadata": {},
   "outputs": [],
   "source": [
    "#2. Create a function named ‘check_string’, the function should accept a string data from the\n",
    "#user and the function should check if the user input contains the letter ‘s’ in it. If it contains\n",
    "#the letter ‘s’ then print- ‘The string is containing the letter ‘s’’, if not then print- ‘The string\n",
    "#doesn’t contain the letter ‘s’’."
   ]
  },
  {
   "cell_type": "code",
   "execution_count": 4,
   "id": "6be66114",
   "metadata": {},
   "outputs": [
    {
     "name": "stdout",
     "output_type": "stream",
     "text": [
      "Enter a string: ra\n",
      "The string doesn't contain the letter 's'\n"
     ]
    }
   ],
   "source": [
    "def check_string(string):\n",
    "    string = str(input(\"Enter a string: \"))\n",
    "    if 's' in string:\n",
    "        print(\"The string is containing the letter 's'\")\n",
    "    else:\n",
    "        print(\"The string doesn't contain the letter 's'\")\n",
    "\n",
    "check_string('a')"
   ]
  },
  {
   "cell_type": "code",
   "execution_count": null,
   "id": "a7e90237",
   "metadata": {},
   "outputs": [],
   "source": []
  },
  {
   "cell_type": "code",
   "execution_count": 5,
   "id": "95917b26",
   "metadata": {},
   "outputs": [],
   "source": [
    "#3. Create a class named ‘student’ and inside the class, create a function named ‘fun1’-\n",
    "#this method should accepts the user defined input and return that value.\n",
    "#    a. Create another method named- message() and that method should print the user\n",
    "#    defined input that we have defined in ‘fun1’."
   ]
  },
  {
   "cell_type": "code",
   "execution_count": 6,
   "id": "eac9efcc",
   "metadata": {},
   "outputs": [
    {
     "name": "stdout",
     "output_type": "stream",
     "text": [
      "Please enter something: a\n",
      "You have entered: a\n"
     ]
    }
   ],
   "source": [
    "class student:\n",
    "    def __init__ (self):\n",
    "        self.a = ''\n",
    "    def fun1(self):\n",
    "        self.a = input('Please enter something: ')\n",
    "    def message(self):\n",
    "        print('You have entered:', self.a)\n",
    "        \n",
    "a = student()\n",
    "a.fun1()\n",
    "a.message()"
   ]
  },
  {
   "cell_type": "code",
   "execution_count": null,
   "id": "986b8438",
   "metadata": {},
   "outputs": [],
   "source": []
  },
  {
   "cell_type": "code",
   "execution_count": 7,
   "id": "cde3abd7",
   "metadata": {},
   "outputs": [],
   "source": [
    "#4. Create a lambda function that should double or multiply the number (that we will be passing\n",
    "#in the lambda function) by 2. Store the lambda function in a variable named ‘double_num’."
   ]
  },
  {
   "cell_type": "code",
   "execution_count": 8,
   "id": "daa71fa2",
   "metadata": {},
   "outputs": [
    {
     "data": {
      "text/plain": [
       "200"
      ]
     },
     "execution_count": 8,
     "metadata": {},
     "output_type": "execute_result"
    }
   ],
   "source": [
    "double_num = lambda x : x * 2 \n",
    "\n",
    "double_num(100)"
   ]
  },
  {
   "cell_type": "code",
   "execution_count": null,
   "id": "9c47cf84",
   "metadata": {},
   "outputs": [],
   "source": []
  },
  {
   "cell_type": "code",
   "execution_count": 9,
   "id": "502dbd7f",
   "metadata": {},
   "outputs": [],
   "source": [
    "#5. Take user input string and check whether that string is palindrome or not."
   ]
  },
  {
   "cell_type": "code",
   "execution_count": 10,
   "id": "937d0757",
   "metadata": {},
   "outputs": [
    {
     "name": "stdout",
     "output_type": "stream",
     "text": [
      "Please enter something: a\n",
      "The string is a palindrome\n"
     ]
    }
   ],
   "source": [
    "strg = str(input('Please enter something: '))\n",
    "\n",
    "if strg == strg [::-1]:\n",
    "    print('The string is a palindrome')\n",
    "else:\n",
    "    print('The string is not a palindrome')"
   ]
  }
 ],
 "metadata": {
  "kernelspec": {
   "display_name": "Python 3 (ipykernel)",
   "language": "python",
   "name": "python3"
  },
  "language_info": {
   "codemirror_mode": {
    "name": "ipython",
    "version": 3
   },
   "file_extension": ".py",
   "mimetype": "text/x-python",
   "name": "python",
   "nbconvert_exporter": "python",
   "pygments_lexer": "ipython3",
   "version": "3.9.12"
  }
 },
 "nbformat": 4,
 "nbformat_minor": 5
}
