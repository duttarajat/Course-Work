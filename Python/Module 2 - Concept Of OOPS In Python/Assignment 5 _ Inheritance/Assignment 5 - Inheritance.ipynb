{
 "cells": [
  {
   "cell_type": "markdown",
   "id": "0a8c8474",
   "metadata": {},
   "source": [
    "# Assignment 5 - Inheritance"
   ]
  },
  {
   "cell_type": "markdown",
   "id": "7b9bdf26",
   "metadata": {},
   "source": [
    "# Module 2: Inheritance Assignment"
   ]
  },
  {
   "cell_type": "code",
   "execution_count": 1,
   "id": "26e47597",
   "metadata": {},
   "outputs": [],
   "source": [
    "#1. Create a class named parent_Class and inside the class, initialize a global variable num as 10.\n",
    "#   a. Create another class named child_Class and this class should be inherited from the parent class.\n",
    "#   b. Now create an object for the child_Class and with the help of child_Class object, display the value of ‘num’."
   ]
  },
  {
   "cell_type": "code",
   "execution_count": 2,
   "id": "46272774",
   "metadata": {},
   "outputs": [
    {
     "data": {
      "text/plain": [
       "10"
      ]
     },
     "execution_count": 2,
     "metadata": {},
     "output_type": "execute_result"
    }
   ],
   "source": [
    "class parent_Class:\n",
    "    global num\n",
    "    num = 10\n",
    "    \n",
    "class child_Class(parent_Class):\n",
    "    def dis(self):\n",
    "        return num\n",
    "    \n",
    "cc = child_Class()\n",
    "cc.dis()"
   ]
  },
  {
   "cell_type": "code",
   "execution_count": null,
   "id": "0a389b0c",
   "metadata": {},
   "outputs": [],
   "source": []
  },
  {
   "cell_type": "code",
   "execution_count": 3,
   "id": "f1915325",
   "metadata": {},
   "outputs": [],
   "source": [
    "#2. Create three class named A, B, and C.\n",
    "#    a. Inside the A class, create a constructor. Inside the constructor, initilize 2 global variables name and age.\n",
    "#    b. After initializing the global variables inside the constructor, now create a funtion named ‘details’\n",
    "#       and that function should return the ‘name’ variable.\n",
    "#    c. Inside the B class, create a constructor. Inside the contructor, initialize 2 global veriables name and id.\n",
    "#    d. After initializing the global variables inside the constructor, now create a funtion named ‘details’\n",
    "#       and that function should return the ‘name’ variable.\n",
    "#    e. The C class should inherit from class A, and B. Inside the class C, create a constructor, and\n",
    "#       inside the constructor, call the contructor of class A.\n",
    "#    f. Now, create a method inside the class C, as get_details, and this fucntion should return the value of name.\n",
    "#    g. Atlast, create an object of class C, and with the help of the object, call the get_details()."
   ]
  },
  {
   "cell_type": "code",
   "execution_count": 4,
   "id": "fa1d34e5",
   "metadata": {},
   "outputs": [
    {
     "name": "stdout",
     "output_type": "stream",
     "text": [
      "Rajat\n"
     ]
    }
   ],
   "source": [
    "class A:\n",
    "    def __init__ (self):\n",
    "        global name\n",
    "        global age\n",
    "    def details (self):\n",
    "        return name\n",
    "class B:\n",
    "    def __init__ (self):\n",
    "        global name, ID\n",
    "    def details (self):\n",
    "        return name\n",
    "\n",
    "class C(A):\n",
    "    def __init__ (self, name):\n",
    "        super().__init__()\n",
    "    def get_details (self, name):\n",
    "        return name\n",
    "        \n",
    "c1 = C('Rajat')\n",
    "print(c1.get_details('Rajat'))"
   ]
  },
  {
   "cell_type": "code",
   "execution_count": null,
   "id": "138bafe9",
   "metadata": {},
   "outputs": [],
   "source": []
  },
  {
   "cell_type": "code",
   "execution_count": 5,
   "id": "082939b5",
   "metadata": {},
   "outputs": [],
   "source": [
    "#3. Create a class named ‘Sub1’, inside the class, generate a user defined function named ‘first’ and inside the function,\n",
    "#    pass the following statement in the print()- ‘This is the first function from Sub 1 class’.\n",
    "#    a. Now create another class named ‘Sub2’, and inside the class, create a function named ‘second’, and pass\n",
    "#    the following message in the print()- ‘This is the second function from the Sub 2 class’.\n",
    "#    b. After that, create another class named ‘Super’ and inside that class, create a method named ‘final’, and pass\n",
    "#    the below message in the print()- ‘This is the final method from the super class’.\n",
    "#    c. Now, create an object for the Super class and call all the 3 user defined methods, i.e., first(), second(), and final()."
   ]
  },
  {
   "cell_type": "code",
   "execution_count": 6,
   "id": "91d6385d",
   "metadata": {},
   "outputs": [
    {
     "name": "stdout",
     "output_type": "stream",
     "text": [
      "This is the first function from Sub 1 class\n",
      "This is the second function from the Sub 2 class\n",
      "This is the final method from the super class\n"
     ]
    }
   ],
   "source": [
    "class Sub1:\n",
    "    def first(self):\n",
    "        print('This is the first function from Sub 1 class')\n",
    "        \n",
    "class Sub2(Sub1):\n",
    "    def second(self):\n",
    "        print('This is the second function from the Sub 2 class')\n",
    "        \n",
    "class Super(Sub2):\n",
    "    def final(self):\n",
    "        print('This is the final method from the super class')\n",
    "        \n",
    "S1 = Super()\n",
    "S1.first()\n",
    "S1.second()\n",
    "S1.final()"
   ]
  },
  {
   "cell_type": "code",
   "execution_count": null,
   "id": "34ca6d35",
   "metadata": {},
   "outputs": [],
   "source": []
  },
  {
   "cell_type": "code",
   "execution_count": 7,
   "id": "e6e6676e",
   "metadata": {},
   "outputs": [],
   "source": [
    "#4. Create a class named ‘Parent’, and inside the class, create a function named ‘fun1’ and\n",
    "#   pass the following message in the print()- ‘This is the message from the fun1’.\n",
    "#    a. Now create a class named ‘Child1’ and inside the class, create a method named ‘fun2’ and\n",
    "#       pass the following message in the print()- ‘This is the message from the fun2’.\n",
    "#    b. After that, create another class named ‘Child2’ and inside the class, create a method named ‘fun3’ and\n",
    "#       pass the following message in the print()- ‘This is the message from the fun3’.\n",
    "#    c. Now, create an object of Child2 class and with the help of the object, call the ‘fun1’ method from the ‘Parent’ class."
   ]
  },
  {
   "cell_type": "code",
   "execution_count": 8,
   "id": "81a5e562",
   "metadata": {},
   "outputs": [
    {
     "name": "stdout",
     "output_type": "stream",
     "text": [
      "This is the message from the fun1\n"
     ]
    }
   ],
   "source": [
    "class Parent:\n",
    "    def fun1(self):\n",
    "        print('This is the message from the fun1')\n",
    "\n",
    "class Child1(Parent):\n",
    "    def fun2(self):\n",
    "        print('This is the message from the fun2')\n",
    "        \n",
    "class Child2(Parent):\n",
    "    def fun3(self):\n",
    "        print('This is the message from the fun3')\n",
    "\n",
    "c2 = Child2()\n",
    "c2.fun1()"
   ]
  },
  {
   "cell_type": "code",
   "execution_count": null,
   "id": "01fecc23",
   "metadata": {},
   "outputs": [],
   "source": []
  },
  {
   "cell_type": "code",
   "execution_count": 9,
   "id": "59396102",
   "metadata": {},
   "outputs": [
    {
     "name": "stdout",
     "output_type": "stream",
     "text": [
      "This is the message from the fun3\n",
      "This is the message from the fun2\n",
      "This is the message from the fun1\n"
     ]
    }
   ],
   "source": [
    "#5. Create a class named ‘Parent’, and inside the class, create a function named ‘fun1’ and pass\n",
    "#   the following message in the print()- ‘This is the message from the fun1’.\n",
    "#    a. Now create a class named ‘Child’ and inside the class, create a method named ‘fun2’ and pass\n",
    "#       the following message in the print()- ‘This is the message from the fun2’.\n",
    "#    b. After that, create another class named ‘Hybrid’ and inside the class, create a method named ‘fun3’ and\n",
    "#       pass the following message in the print()- ‘This is the message from the fun3’.\n",
    "#    c. Now, create an object of Hybrid class and with the help of the object, call the ‘fun1’, ‘fun2’, and ‘fun3’ methods.\n",
    "\n",
    "class Parent:\n",
    "    def fun1(self):\n",
    "        print('This is the message from the fun1')\n",
    "        \n",
    "class Child(Parent):\n",
    "    def fun2(self):\n",
    "        print('This is the message from the fun2')\n",
    "        \n",
    "class Hybrid(Child):\n",
    "    def fun3(self):\n",
    "        print('This is the message from the fun3')\n",
    "        \n",
    "h1 = Hybrid()\n",
    "h1.fun3()\n",
    "h1.fun2()\n",
    "h1.fun1()"
   ]
  }
 ],
 "metadata": {
  "kernelspec": {
   "display_name": "Python 3 (ipykernel)",
   "language": "python",
   "name": "python3"
  },
  "language_info": {
   "codemirror_mode": {
    "name": "ipython",
    "version": 3
   },
   "file_extension": ".py",
   "mimetype": "text/x-python",
   "name": "python",
   "nbconvert_exporter": "python",
   "pygments_lexer": "ipython3",
   "version": "3.9.12"
  }
 },
 "nbformat": 4,
 "nbformat_minor": 5
}
