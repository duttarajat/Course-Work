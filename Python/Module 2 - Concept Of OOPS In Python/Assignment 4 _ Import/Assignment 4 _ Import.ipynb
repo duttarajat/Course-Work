{
 "cells": [
  {
   "cell_type": "markdown",
   "id": "921bbaae",
   "metadata": {},
   "source": [
    "# Assignment 4 - Import"
   ]
  },
  {
   "cell_type": "markdown",
   "id": "e4c1c04f",
   "metadata": {},
   "source": [
    "# Module 2: Import Assignment"
   ]
  },
  {
   "cell_type": "markdown",
   "id": "01d9d201",
   "metadata": {},
   "source": [
    "1. Create a python file named Module.\n",
    "    a. Inside the file, define 4 methods named – addition, subtraction, multiplication, and\n",
    "    division.\n",
    "    b. Each method should only accept 2 arguments and should return the result of operation\n",
    "    performed in each method. For e.g., addition() should return the sum of two arguments.\n",
    "    c. Save the Module file in .py format.\n",
    "    2. Open a new python file and import the Module.py file.\n",
    "    a. Now call the 4 methods from the Module.py file, i.e., addition(), subtraction(),\n",
    "    multiplication(), and division().\n",
    "    3. From the Module file, import only the addition() and pass the arguments so that it can\n",
    "    display the result from the method.\n",
    "    4. From the Module file, import only the subtraction() and pass the arguments so that it can\n",
    "    display the result from the method.\n",
    "    5. From the Module file, import both the multiplication() and division() and pass the arguments\n",
    "    so that it can display the result from the methods."
   ]
  },
  {
   "cell_type": "code",
   "execution_count": 1,
   "id": "a685f36d",
   "metadata": {},
   "outputs": [],
   "source": [
    "import Module"
   ]
  },
  {
   "cell_type": "code",
   "execution_count": 2,
   "id": "7a78349c",
   "metadata": {},
   "outputs": [],
   "source": [
    "from Module import addition"
   ]
  },
  {
   "cell_type": "code",
   "execution_count": 3,
   "id": "ddf7f21c",
   "metadata": {},
   "outputs": [
    {
     "data": {
      "text/plain": [
       "9"
      ]
     },
     "execution_count": 3,
     "metadata": {},
     "output_type": "execute_result"
    }
   ],
   "source": [
    "addition(2,7)"
   ]
  },
  {
   "cell_type": "code",
   "execution_count": 4,
   "id": "3f491ea9",
   "metadata": {},
   "outputs": [],
   "source": [
    "from Module import subtraction"
   ]
  },
  {
   "cell_type": "code",
   "execution_count": 5,
   "id": "9a953879",
   "metadata": {},
   "outputs": [
    {
     "data": {
      "text/plain": [
       "5"
      ]
     },
     "execution_count": 5,
     "metadata": {},
     "output_type": "execute_result"
    }
   ],
   "source": [
    "subtraction(7,2)"
   ]
  },
  {
   "cell_type": "code",
   "execution_count": 7,
   "id": "59c9304d",
   "metadata": {},
   "outputs": [],
   "source": [
    "from Module import multiplication, division"
   ]
  },
  {
   "cell_type": "code",
   "execution_count": 8,
   "id": "32a34cc5",
   "metadata": {},
   "outputs": [
    {
     "data": {
      "text/plain": [
       "(10, 5)"
      ]
     },
     "execution_count": 8,
     "metadata": {},
     "output_type": "execute_result"
    }
   ],
   "source": [
    "multiplication(5,2), division(10,2)"
   ]
  }
 ],
 "metadata": {
  "kernelspec": {
   "display_name": "Python 3 (ipykernel)",
   "language": "python",
   "name": "python3"
  },
  "language_info": {
   "codemirror_mode": {
    "name": "ipython",
    "version": 3
   },
   "file_extension": ".py",
   "mimetype": "text/x-python",
   "name": "python",
   "nbconvert_exporter": "python",
   "pygments_lexer": "ipython3",
   "version": "3.9.12"
  }
 },
 "nbformat": 4,
 "nbformat_minor": 5
}
