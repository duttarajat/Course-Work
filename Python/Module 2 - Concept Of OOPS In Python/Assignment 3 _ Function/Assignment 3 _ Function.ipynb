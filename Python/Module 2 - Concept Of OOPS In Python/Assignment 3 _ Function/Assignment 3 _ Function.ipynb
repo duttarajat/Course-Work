{
 "cells": [
  {
   "cell_type": "markdown",
   "id": "5a09a65f",
   "metadata": {},
   "source": [
    "# Assignment 3 – Function"
   ]
  },
  {
   "cell_type": "markdown",
   "id": "8b98eae4",
   "metadata": {},
   "source": [
    "# Module 2: Functions Assignment"
   ]
  },
  {
   "cell_type": "code",
   "execution_count": 1,
   "id": "34ff6c8b",
   "metadata": {},
   "outputs": [],
   "source": [
    "#1. Create a class named ‘Super’ and inside that class define a user-defined function named fun1.\n",
    "    #a. Inside the ‘fun1’ function, pass the message “This is function 1 in the Super class.” in the print statement."
   ]
  },
  {
   "cell_type": "code",
   "execution_count": 2,
   "id": "7626479f",
   "metadata": {},
   "outputs": [
    {
     "name": "stdout",
     "output_type": "stream",
     "text": [
      "This is function 1 in the Super class.\n"
     ]
    }
   ],
   "source": [
    "class Super:\n",
    "    def fun1():\n",
    "        print('This is function 1 in the Super class.')\n",
    "\n",
    "Super.fun1()"
   ]
  },
  {
   "cell_type": "code",
   "execution_count": null,
   "id": "afac0a94",
   "metadata": {},
   "outputs": [],
   "source": []
  },
  {
   "cell_type": "code",
   "execution_count": 3,
   "id": "9d840b62",
   "metadata": {},
   "outputs": [],
   "source": [
    "#2. Create another classed named ‘Modified_Super’ and inherit this class from the Super class.\n",
    "    #a. Inside the Modified_Super class, create a function named ‘fun1’ and pass the following message\n",
    "        #inside the print statement: ‘This is function 1 in the Modified Super class.’\n",
    "    #b. Create another user-defined function named ‘fun2’ and pass the message: ‘This is the 2nd function\n",
    "        #from the Modified Super class’ in the print statement.\n",
    "    #c. After that, now create an object for the Modified_Super class and call the fun1()."
   ]
  },
  {
   "cell_type": "code",
   "execution_count": 4,
   "id": "f7da5133",
   "metadata": {},
   "outputs": [
    {
     "name": "stdout",
     "output_type": "stream",
     "text": [
      "This is function 1 in the Modified Super class.\n"
     ]
    }
   ],
   "source": [
    "class Modified_Super(Super):\n",
    "    \n",
    "    def fun1():\n",
    "        print('This is function 1 in the Modified Super class.')\n",
    "        \n",
    "    def fun2():\n",
    "        print('This is the 2nd function from the Modified Super class')\n",
    "\n",
    "Modified_Super.fun1()"
   ]
  },
  {
   "cell_type": "code",
   "execution_count": 5,
   "id": "d34851ec",
   "metadata": {},
   "outputs": [
    {
     "name": "stdout",
     "output_type": "stream",
     "text": [
      "This is the 2nd function from the Modified Super class\n"
     ]
    }
   ],
   "source": [
    "Modified_Super.fun2()"
   ]
  },
  {
   "cell_type": "code",
   "execution_count": null,
   "id": "d9575c8e",
   "metadata": {},
   "outputs": [],
   "source": []
  },
  {
   "cell_type": "code",
   "execution_count": 6,
   "id": "ad736a65",
   "metadata": {},
   "outputs": [],
   "source": [
    "#3. Create 2 methods named ‘Hello’. In the 1st Hello method, pass only one argument and pass this message:\n",
    "#   ‘This function is only having 1 argument’. And in the 2nd Hello method, pass two arguments and\n",
    "#    pass this message: ‘This function is having 2 arguments’.\n",
    "    #a. Try to call both the methods and analyze the output of both the methods."
   ]
  },
  {
   "cell_type": "code",
   "execution_count": 7,
   "id": "c85f9deb",
   "metadata": {},
   "outputs": [
    {
     "ename": "TypeError",
     "evalue": "Hello() missing 1 required positional argument: 'b'",
     "output_type": "error",
     "traceback": [
      "\u001b[1;31m---------------------------------------------------------------------------\u001b[0m",
      "\u001b[1;31mTypeError\u001b[0m                                 Traceback (most recent call last)",
      "Input \u001b[1;32mIn [7]\u001b[0m, in \u001b[0;36m<cell line: 11>\u001b[1;34m()\u001b[0m\n\u001b[0;32m      8\u001b[0m     \u001b[38;5;28;01mdef\u001b[39;00m \u001b[38;5;21mHello\u001b[39m(a,b):\n\u001b[0;32m      9\u001b[0m         \u001b[38;5;28mprint\u001b[39m(\u001b[38;5;124m'\u001b[39m\u001b[38;5;124mThis function is having 2 arguments\u001b[39m\u001b[38;5;124m'\u001b[39m)\n\u001b[1;32m---> 11\u001b[0m \u001b[43mGreeting\u001b[49m\u001b[38;5;241;43m.\u001b[39;49m\u001b[43mHello\u001b[49m\u001b[43m(\u001b[49m\u001b[38;5;241;43m1\u001b[39;49m\u001b[43m)\u001b[49m\n",
      "\u001b[1;31mTypeError\u001b[0m: Hello() missing 1 required positional argument: 'b'"
     ]
    }
   ],
   "source": [
    "#If both methods are created by the name 'Hello' then a error will be thrown if only one argument is passed\n",
    "\n",
    "class Greeting:\n",
    "    \n",
    "    def Hello(a):\n",
    "        print('This function is only having 1 argument')\n",
    "        \n",
    "    def Hello(a,b):\n",
    "        print('This function is having 2 arguments')\n",
    "\n",
    "Greeting.Hello(1)"
   ]
  },
  {
   "cell_type": "code",
   "execution_count": 8,
   "id": "fcccef9d",
   "metadata": {},
   "outputs": [
    {
     "name": "stdout",
     "output_type": "stream",
     "text": [
      "This function is having 2 arguments\n"
     ]
    }
   ],
   "source": [
    "# Desired result is received when two arguments are passed:\n",
    "\n",
    "Greeting.Hello(1,2)"
   ]
  },
  {
   "cell_type": "code",
   "execution_count": 9,
   "id": "fe174dff",
   "metadata": {},
   "outputs": [
    {
     "name": "stdout",
     "output_type": "stream",
     "text": [
      "This function is only having 1 argument\n"
     ]
    }
   ],
   "source": [
    "#The error can be rectified by naming the methods differently e.g. as 'Hello1' & 'Hello2': \n",
    "\n",
    "class Greeting:\n",
    "    \n",
    "    def Hello1(a):\n",
    "        print('This function is only having 1 argument')\n",
    "        \n",
    "    def Hello2(a,b):\n",
    "        print('This function is having 2 arguments')\n",
    "\n",
    "Greeting.Hello1(1)"
   ]
  },
  {
   "cell_type": "code",
   "execution_count": 10,
   "id": "693839d7",
   "metadata": {},
   "outputs": [
    {
     "name": "stdout",
     "output_type": "stream",
     "text": [
      "This function is having 2 arguments\n"
     ]
    }
   ],
   "source": [
    "Greeting.Hello2(1,2)"
   ]
  },
  {
   "cell_type": "code",
   "execution_count": null,
   "id": "c9a28fdf",
   "metadata": {},
   "outputs": [],
   "source": []
  },
  {
   "cell_type": "code",
   "execution_count": 11,
   "id": "4dddf08e",
   "metadata": {},
   "outputs": [],
   "source": [
    "#4. Create a method named ‘Sum’ that can accept multiple user inputs. Now add those userdefined input values\n",
    "#   using for loop and the function should return the addition of the numbers."
   ]
  },
  {
   "cell_type": "code",
   "execution_count": 12,
   "id": "3b247956",
   "metadata": {},
   "outputs": [
    {
     "name": "stdout",
     "output_type": "stream",
     "text": [
      "Enter the no. of elements in the list: 5\n",
      "Enter the elements of the list: 1\n",
      "Enter the elements of the list: 2\n",
      "Enter the elements of the list: 3\n",
      "Enter the elements of the list: 4\n",
      "Enter the elements of the list: 5\n",
      "The sum of the entered elements is: 15\n"
     ]
    }
   ],
   "source": [
    "class add1:\n",
    "    def sum():\n",
    "        a=int(input('Enter the no. of elements in the list: '))\n",
    "        l1=[]\n",
    "        for i in range (0,a):\n",
    "            l2=int(input('Enter the elements of the list: '))\n",
    "            l1.append(l2)\n",
    "        result=0\n",
    "        for i in range(len(l1)):\n",
    "            result += l1[i]\n",
    "        print('The sum of the entered elements is:', result)\n",
    "\n",
    "add1.sum()"
   ]
  },
  {
   "cell_type": "code",
   "execution_count": null,
   "id": "2d5d1260",
   "metadata": {},
   "outputs": [],
   "source": []
  },
  {
   "cell_type": "code",
   "execution_count": 13,
   "id": "edbad190",
   "metadata": {},
   "outputs": [],
   "source": [
    "#5. Create a class named ‘Encapsulation’:\n",
    "    #a. Inside the class, first create a constructor. Inside the constructor,\n",
    "        #initialize originalValue variable as 10.\n",
    "    #b. After creating the constructor, define a function named ‘Value’ and this function should return\n",
    "        #the variable that we have initialized in the constructor.\n",
    "    #c. Now create 2nd function named setValue, and pass an argument named ‘newValue’.\n",
    "        #The task of this function will be to replace the value of the originalValue\n",
    "        #variable by the value of newValue variable."
   ]
  },
  {
   "cell_type": "code",
   "execution_count": 14,
   "id": "f449d504",
   "metadata": {},
   "outputs": [],
   "source": [
    "class Encapsulation:\n",
    "    \n",
    "    def __init__(self):\n",
    "        self.originalValue=10\n",
    "    \n",
    "    def Value(self):\n",
    "        return self.originalValue\n",
    "    \n",
    "    def setValue(self,newValue):\n",
    "        self.originalValue=newValue\n",
    "        \n",
    "demo=Encapsulation()"
   ]
  },
  {
   "cell_type": "code",
   "execution_count": 15,
   "id": "2bbf4efd",
   "metadata": {},
   "outputs": [
    {
     "data": {
      "text/plain": [
       "10"
      ]
     },
     "execution_count": 15,
     "metadata": {},
     "output_type": "execute_result"
    }
   ],
   "source": [
    "demo.Value()"
   ]
  },
  {
   "cell_type": "code",
   "execution_count": 16,
   "id": "0946d306",
   "metadata": {},
   "outputs": [],
   "source": [
    "demo.setValue(90)"
   ]
  },
  {
   "cell_type": "code",
   "execution_count": 17,
   "id": "0dd18fbc",
   "metadata": {},
   "outputs": [
    {
     "data": {
      "text/plain": [
       "90"
      ]
     },
     "execution_count": 17,
     "metadata": {},
     "output_type": "execute_result"
    }
   ],
   "source": [
    "demo.Value()"
   ]
  }
 ],
 "metadata": {
  "kernelspec": {
   "display_name": "Python 3 (ipykernel)",
   "language": "python",
   "name": "python3"
  },
  "language_info": {
   "codemirror_mode": {
    "name": "ipython",
    "version": 3
   },
   "file_extension": ".py",
   "mimetype": "text/x-python",
   "name": "python",
   "nbconvert_exporter": "python",
   "pygments_lexer": "ipython3",
   "version": "3.9.12"
  }
 },
 "nbformat": 4,
 "nbformat_minor": 5
}
