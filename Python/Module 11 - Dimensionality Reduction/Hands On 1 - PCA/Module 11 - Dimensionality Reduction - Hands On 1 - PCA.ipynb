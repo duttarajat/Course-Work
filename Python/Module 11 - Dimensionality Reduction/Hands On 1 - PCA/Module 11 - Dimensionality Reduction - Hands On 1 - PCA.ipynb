{
 "cells": [
  {
   "cell_type": "markdown",
   "id": "9ba52115",
   "metadata": {},
   "source": [
    "# Module 11 - Dimensionality Reduction - Hands On 1 - PCA"
   ]
  },
  {
   "cell_type": "raw",
   "id": "9922c658",
   "metadata": {},
   "source": [
    "Step 4: Import all the required modules by typing the following code in the notebook and run it by pressing shift + enter"
   ]
  },
  {
   "cell_type": "code",
   "execution_count": 1,
   "id": "093d77ca",
   "metadata": {},
   "outputs": [],
   "source": [
    "import numpy as np\n",
    "import pandas as pd\n",
    "from sklearn.model_selection import train_test_split\n",
    "from sklearn.preprocessing import StandardScaler\n",
    "from sklearn.decomposition import PCA\n",
    "from sklearn.ensemble import RandomForestClassifier\n",
    "from sklearn.metrics import confusion_matrix, accuracy_score, classification_report"
   ]
  },
  {
   "cell_type": "code",
   "execution_count": null,
   "id": "735c5e9a",
   "metadata": {},
   "outputs": [],
   "source": []
  },
  {
   "cell_type": "raw",
   "id": "115526a2",
   "metadata": {},
   "source": [
    "Step 5: Load the iris dataset."
   ]
  },
  {
   "cell_type": "code",
   "execution_count": 2,
   "id": "36f8c9dd",
   "metadata": {},
   "outputs": [],
   "source": [
    "url = 'https://archive.ics.uci.edu/ml/machine-learning-databases/iris/iris.data'\n",
    "names = ['sepal-length', 'sepal-width', 'petal-length', 'petal-width', 'Class']\n",
    "iris = pd.read_csv(url, names = names)"
   ]
  },
  {
   "cell_type": "code",
   "execution_count": null,
   "id": "0726589e",
   "metadata": {},
   "outputs": [],
   "source": []
  },
  {
   "cell_type": "raw",
   "id": "5e354546",
   "metadata": {},
   "source": [
    "Step 6: Analyze the head of the data."
   ]
  },
  {
   "cell_type": "code",
   "execution_count": 3,
   "id": "89632435",
   "metadata": {},
   "outputs": [
    {
     "data": {
      "text/html": [
       "<div>\n",
       "<style scoped>\n",
       "    .dataframe tbody tr th:only-of-type {\n",
       "        vertical-align: middle;\n",
       "    }\n",
       "\n",
       "    .dataframe tbody tr th {\n",
       "        vertical-align: top;\n",
       "    }\n",
       "\n",
       "    .dataframe thead th {\n",
       "        text-align: right;\n",
       "    }\n",
       "</style>\n",
       "<table border=\"1\" class=\"dataframe\">\n",
       "  <thead>\n",
       "    <tr style=\"text-align: right;\">\n",
       "      <th></th>\n",
       "      <th>sepal-length</th>\n",
       "      <th>sepal-width</th>\n",
       "      <th>petal-length</th>\n",
       "      <th>petal-width</th>\n",
       "      <th>Class</th>\n",
       "    </tr>\n",
       "  </thead>\n",
       "  <tbody>\n",
       "    <tr>\n",
       "      <th>0</th>\n",
       "      <td>5.1</td>\n",
       "      <td>3.5</td>\n",
       "      <td>1.4</td>\n",
       "      <td>0.2</td>\n",
       "      <td>Iris-setosa</td>\n",
       "    </tr>\n",
       "    <tr>\n",
       "      <th>1</th>\n",
       "      <td>4.9</td>\n",
       "      <td>3.0</td>\n",
       "      <td>1.4</td>\n",
       "      <td>0.2</td>\n",
       "      <td>Iris-setosa</td>\n",
       "    </tr>\n",
       "    <tr>\n",
       "      <th>2</th>\n",
       "      <td>4.7</td>\n",
       "      <td>3.2</td>\n",
       "      <td>1.3</td>\n",
       "      <td>0.2</td>\n",
       "      <td>Iris-setosa</td>\n",
       "    </tr>\n",
       "    <tr>\n",
       "      <th>3</th>\n",
       "      <td>4.6</td>\n",
       "      <td>3.1</td>\n",
       "      <td>1.5</td>\n",
       "      <td>0.2</td>\n",
       "      <td>Iris-setosa</td>\n",
       "    </tr>\n",
       "    <tr>\n",
       "      <th>4</th>\n",
       "      <td>5.0</td>\n",
       "      <td>3.6</td>\n",
       "      <td>1.4</td>\n",
       "      <td>0.2</td>\n",
       "      <td>Iris-setosa</td>\n",
       "    </tr>\n",
       "  </tbody>\n",
       "</table>\n",
       "</div>"
      ],
      "text/plain": [
       "   sepal-length  sepal-width  petal-length  petal-width        Class\n",
       "0           5.1          3.5           1.4          0.2  Iris-setosa\n",
       "1           4.9          3.0           1.4          0.2  Iris-setosa\n",
       "2           4.7          3.2           1.3          0.2  Iris-setosa\n",
       "3           4.6          3.1           1.5          0.2  Iris-setosa\n",
       "4           5.0          3.6           1.4          0.2  Iris-setosa"
      ]
     },
     "execution_count": 3,
     "metadata": {},
     "output_type": "execute_result"
    }
   ],
   "source": [
    "iris.head()"
   ]
  },
  {
   "cell_type": "code",
   "execution_count": null,
   "id": "32533168",
   "metadata": {},
   "outputs": [],
   "source": []
  },
  {
   "cell_type": "raw",
   "id": "80e6a7f5",
   "metadata": {},
   "source": [
    "Step 7: Extract data from dataframe into X and Y variables."
   ]
  },
  {
   "cell_type": "code",
   "execution_count": 4,
   "id": "87bac88c",
   "metadata": {},
   "outputs": [],
   "source": [
    "X = iris.drop('Class', axis = 1)\n",
    "Y = iris['Class']"
   ]
  },
  {
   "cell_type": "code",
   "execution_count": null,
   "id": "e8ebe20e",
   "metadata": {},
   "outputs": [],
   "source": []
  },
  {
   "cell_type": "raw",
   "id": "dd7b626c",
   "metadata": {},
   "source": [
    "Step 8: Split the data into 70 percent for training and 30 percent testing."
   ]
  },
  {
   "cell_type": "code",
   "execution_count": 5,
   "id": "5465d249",
   "metadata": {},
   "outputs": [],
   "source": [
    "X_train, X_test, Y_train, Y_test = train_test_split(X, Y, train_size = .7, random_state = 0)"
   ]
  },
  {
   "cell_type": "code",
   "execution_count": null,
   "id": "b57caa10",
   "metadata": {},
   "outputs": [],
   "source": []
  },
  {
   "cell_type": "raw",
   "id": "a2619616",
   "metadata": {},
   "source": [
    "Step 9: Scale the data."
   ]
  },
  {
   "cell_type": "code",
   "execution_count": 6,
   "id": "376a2f26",
   "metadata": {},
   "outputs": [],
   "source": [
    "ss = StandardScaler()\n",
    "X_train = ss.fit_transform(X_train)\n",
    "X_test = ss.fit_transform(X_test)"
   ]
  },
  {
   "cell_type": "code",
   "execution_count": null,
   "id": "2d99ac55",
   "metadata": {},
   "outputs": [],
   "source": []
  },
  {
   "cell_type": "raw",
   "id": "f5d9753c",
   "metadata": {},
   "source": [
    "Step 9: Create a PCA object and transform x_train and x_test."
   ]
  },
  {
   "cell_type": "code",
   "execution_count": 7,
   "id": "1ce61946",
   "metadata": {},
   "outputs": [],
   "source": [
    "pca = PCA()\n",
    "X_train = pca.fit_transform(X_train)\n",
    "X_test = pca.fit_transform(X_test)"
   ]
  },
  {
   "cell_type": "code",
   "execution_count": null,
   "id": "47b93dbc",
   "metadata": {},
   "outputs": [],
   "source": []
  },
  {
   "cell_type": "raw",
   "id": "1fed1165",
   "metadata": {},
   "source": [
    "Step 10: Take a look at variance explained by each principal component."
   ]
  },
  {
   "cell_type": "code",
   "execution_count": 8,
   "id": "1f0e84f0",
   "metadata": {},
   "outputs": [
    {
     "data": {
      "text/plain": [
       "array([0.77006591, 0.17467955, 0.0476828 , 0.00757174])"
      ]
     },
     "execution_count": 8,
     "metadata": {},
     "output_type": "execute_result"
    }
   ],
   "source": [
    "explained_variance = pca.explained_variance_ratio_\n",
    "explained_variance"
   ]
  },
  {
   "cell_type": "code",
   "execution_count": null,
   "id": "7d6db2ce",
   "metadata": {},
   "outputs": [],
   "source": []
  },
  {
   "cell_type": "raw",
   "id": "19523237",
   "metadata": {},
   "source": [
    "Step 11: Define a function called perform_pca that takes number of components for PCA to find and creates a RandomForestClassifier and calculates its accuracy."
   ]
  },
  {
   "cell_type": "code",
   "execution_count": 9,
   "id": "04ac8707",
   "metadata": {},
   "outputs": [],
   "source": [
    "def perform_pca(n):\n",
    "    X_train, X_test, Y_train, Y_test = train_test_split(X, Y, train_size = .7, random_state = 0)\n",
    "    pca = PCA(n_components = n)\n",
    "    pca_X_train = pca.fit_transform(X_train)\n",
    "    pca_X_test = pca.fit_transform(X_test)\n",
    "    rfc = RandomForestClassifier(max_depth = 2, random_state = 0)\n",
    "    rfc.fit(pca_X_train, Y_train)\n",
    "    Y_pred = rfc.predict(pca_X_test)\n",
    "    print(confusion_matrix(Y_test, Y_pred))\n",
    "    print(classification_report(Y_test, Y_pred))\n",
    "    print('Accuracy Score: {0}\\n\\n'.format(accuracy_score(Y_test, Y_pred)))"
   ]
  },
  {
   "cell_type": "code",
   "execution_count": null,
   "id": "75ea4c9b",
   "metadata": {},
   "outputs": [],
   "source": []
  },
  {
   "cell_type": "raw",
   "id": "149ccc35",
   "metadata": {},
   "source": [
    "Step 12: Call the perform_pca method with n_components set to a number from 1 to 4 and print their confusion matrix and accuracy scores."
   ]
  },
  {
   "cell_type": "code",
   "execution_count": 10,
   "id": "4950a186",
   "metadata": {},
   "outputs": [
    {
     "name": "stdout",
     "output_type": "stream",
     "text": [
      "[[16  0  0]\n",
      " [ 0 12  6]\n",
      " [ 0  0 11]]\n",
      "                 precision    recall  f1-score   support\n",
      "\n",
      "    Iris-setosa       1.00      1.00      1.00        16\n",
      "Iris-versicolor       1.00      0.67      0.80        18\n",
      " Iris-virginica       0.65      1.00      0.79        11\n",
      "\n",
      "       accuracy                           0.87        45\n",
      "      macro avg       0.88      0.89      0.86        45\n",
      "   weighted avg       0.91      0.87      0.87        45\n",
      "\n",
      "Accuracy Score: 0.8666666666666667\n",
      "\n",
      "\n",
      "[[16  0  0]\n",
      " [ 0 12  6]\n",
      " [ 0  0 11]]\n",
      "                 precision    recall  f1-score   support\n",
      "\n",
      "    Iris-setosa       1.00      1.00      1.00        16\n",
      "Iris-versicolor       1.00      0.67      0.80        18\n",
      " Iris-virginica       0.65      1.00      0.79        11\n",
      "\n",
      "       accuracy                           0.87        45\n",
      "      macro avg       0.88      0.89      0.86        45\n",
      "   weighted avg       0.91      0.87      0.87        45\n",
      "\n",
      "Accuracy Score: 0.8666666666666667\n",
      "\n",
      "\n",
      "[[14  2  0]\n",
      " [ 0  3 15]\n",
      " [ 0  2  9]]\n",
      "                 precision    recall  f1-score   support\n",
      "\n",
      "    Iris-setosa       1.00      0.88      0.93        16\n",
      "Iris-versicolor       0.43      0.17      0.24        18\n",
      " Iris-virginica       0.38      0.82      0.51        11\n",
      "\n",
      "       accuracy                           0.58        45\n",
      "      macro avg       0.60      0.62      0.56        45\n",
      "   weighted avg       0.62      0.58      0.55        45\n",
      "\n",
      "Accuracy Score: 0.5777777777777777\n",
      "\n",
      "\n",
      "[[16  0  0]\n",
      " [ 0 10  8]\n",
      " [ 0  0 11]]\n",
      "                 precision    recall  f1-score   support\n",
      "\n",
      "    Iris-setosa       1.00      1.00      1.00        16\n",
      "Iris-versicolor       1.00      0.56      0.71        18\n",
      " Iris-virginica       0.58      1.00      0.73        11\n",
      "\n",
      "       accuracy                           0.82        45\n",
      "      macro avg       0.86      0.85      0.82        45\n",
      "   weighted avg       0.90      0.82      0.82        45\n",
      "\n",
      "Accuracy Score: 0.8222222222222222\n",
      "\n",
      "\n"
     ]
    }
   ],
   "source": [
    "for x in range(1,5): perform_pca(x)"
   ]
  }
 ],
 "metadata": {
  "kernelspec": {
   "display_name": "Python 3 (ipykernel)",
   "language": "python",
   "name": "python3"
  },
  "language_info": {
   "codemirror_mode": {
    "name": "ipython",
    "version": 3
   },
   "file_extension": ".py",
   "mimetype": "text/x-python",
   "name": "python",
   "nbconvert_exporter": "python",
   "pygments_lexer": "ipython3",
   "version": "3.9.7"
  }
 },
 "nbformat": 4,
 "nbformat_minor": 5
}
