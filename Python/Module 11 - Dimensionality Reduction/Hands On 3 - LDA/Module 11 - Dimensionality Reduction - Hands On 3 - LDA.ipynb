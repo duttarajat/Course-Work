{
 "cells": [
  {
   "cell_type": "markdown",
   "id": "5c2fb88f",
   "metadata": {},
   "source": [
    "# Module 11 - Dimensionality Reduction - Hands On 3 - LDA"
   ]
  },
  {
   "cell_type": "raw",
   "id": "3d4dd332",
   "metadata": {},
   "source": [
    "Step 4: Import all the required modules by typing the following code in the notebook and run it by pressing shift + enter"
   ]
  },
  {
   "cell_type": "code",
   "execution_count": 1,
   "id": "dedd7bc0",
   "metadata": {},
   "outputs": [],
   "source": [
    "import numpy as np\n",
    "import pandas as pd\n",
    "from sklearn.model_selection import train_test_split\n",
    "from sklearn.preprocessing import StandardScaler\n",
    "from sklearn.ensemble import RandomForestClassifier\n",
    "from sklearn.discriminant_analysis import LinearDiscriminantAnalysis as LDA\n",
    "from sklearn.metrics import confusion_matrix, accuracy_score, classification_report"
   ]
  },
  {
   "cell_type": "code",
   "execution_count": null,
   "id": "ade15c1f",
   "metadata": {},
   "outputs": [],
   "source": []
  },
  {
   "cell_type": "raw",
   "id": "49cc08b0",
   "metadata": {},
   "source": [
    "Step 5: Load the iris dataset."
   ]
  },
  {
   "cell_type": "code",
   "execution_count": 2,
   "id": "c00170e7",
   "metadata": {},
   "outputs": [],
   "source": [
    "url = 'https://archive.ics.uci.edu/ml/machine-learning-databases/iris/iris.data'\n",
    "names = ['sepal-length', 'sepal-width', 'petal-length', 'petal-width', 'Class']\n",
    "iris = pd.read_csv(url, names = names)"
   ]
  },
  {
   "cell_type": "code",
   "execution_count": null,
   "id": "f1147fe2",
   "metadata": {},
   "outputs": [],
   "source": []
  },
  {
   "cell_type": "raw",
   "id": "00018c8c",
   "metadata": {},
   "source": [
    "Step 6: Extract X and Y variables out of the dataset."
   ]
  },
  {
   "cell_type": "code",
   "execution_count": 3,
   "id": "8f9f12fb",
   "metadata": {},
   "outputs": [],
   "source": [
    "X = iris.iloc[:,:4].values\n",
    "Y = iris.iloc[:,4].values"
   ]
  },
  {
   "cell_type": "code",
   "execution_count": null,
   "id": "ded7c287",
   "metadata": {},
   "outputs": [],
   "source": []
  },
  {
   "cell_type": "raw",
   "id": "001b831b",
   "metadata": {},
   "source": [
    "Step 7: Split the data into 70 percent for training and 30 percent testing."
   ]
  },
  {
   "cell_type": "code",
   "execution_count": 4,
   "id": "092f2084",
   "metadata": {},
   "outputs": [],
   "source": [
    "X_train, X_test, Y_train, Y_test = train_test_split(X, Y, train_size = .7, random_state = 0)"
   ]
  },
  {
   "cell_type": "code",
   "execution_count": null,
   "id": "91bc454d",
   "metadata": {},
   "outputs": [],
   "source": []
  },
  {
   "cell_type": "raw",
   "id": "eeffc003",
   "metadata": {},
   "source": [
    "Step 8: Scale the data."
   ]
  },
  {
   "cell_type": "code",
   "execution_count": 5,
   "id": "cf25f854",
   "metadata": {},
   "outputs": [],
   "source": [
    "ss = StandardScaler()\n",
    "X_train = ss.fit_transform(X_train)\n",
    "X_test = ss.fit_transform(X_test)"
   ]
  },
  {
   "cell_type": "code",
   "execution_count": null,
   "id": "4f6440b2",
   "metadata": {},
   "outputs": [],
   "source": []
  },
  {
   "cell_type": "raw",
   "id": "7fb88cfe",
   "metadata": {},
   "source": [
    "Step 9: Create a RandomForestCLassifier train it on scaled data and print its accuracy score and confusion matrix."
   ]
  },
  {
   "cell_type": "code",
   "execution_count": 6,
   "id": "246a8472",
   "metadata": {},
   "outputs": [
    {
     "name": "stdout",
     "output_type": "stream",
     "text": [
      "[[16  0  0]\n",
      " [ 0 13  5]\n",
      " [ 0  0 11]]\n",
      "                 precision    recall  f1-score   support\n",
      "\n",
      "    Iris-setosa       1.00      1.00      1.00        16\n",
      "Iris-versicolor       1.00      0.72      0.84        18\n",
      " Iris-virginica       0.69      1.00      0.81        11\n",
      "\n",
      "       accuracy                           0.89        45\n",
      "      macro avg       0.90      0.91      0.88        45\n",
      "   weighted avg       0.92      0.89      0.89        45\n",
      "\n",
      "Accuracy Score: 0.8888888888888888\n"
     ]
    }
   ],
   "source": [
    "rfc = RandomForestClassifier(max_depth = 2, random_state = 0)\n",
    "rfc.fit(X_train, Y_train)\n",
    "Y_pred = rfc.predict(X_test)\n",
    "print(confusion_matrix(Y_test, Y_pred))\n",
    "print(classification_report(Y_test, Y_pred))\n",
    "print('Accuracy Score:', accuracy_score(Y_test, Y_pred))"
   ]
  },
  {
   "cell_type": "code",
   "execution_count": null,
   "id": "13c2b87f",
   "metadata": {},
   "outputs": [],
   "source": []
  },
  {
   "cell_type": "raw",
   "id": "b2383f3b",
   "metadata": {},
   "source": [
    "Step 9: Create n LDA instance and transform x_train and x_test."
   ]
  },
  {
   "cell_type": "code",
   "execution_count": 7,
   "id": "6f71f180",
   "metadata": {},
   "outputs": [],
   "source": [
    "lda = LDA(n_components = 1)\n",
    "X_train = lda.fit_transform(X_train, Y_train)\n",
    "X_test = lda.fit_transform(X_test, Y_test)"
   ]
  },
  {
   "cell_type": "code",
   "execution_count": null,
   "id": "2d685520",
   "metadata": {},
   "outputs": [],
   "source": []
  },
  {
   "cell_type": "raw",
   "id": "87db3381",
   "metadata": {},
   "source": [
    "Step 10: Create a RandomForestCLassifier train it on scaled and transformed data and print its accuracy score and confusion matrix.."
   ]
  },
  {
   "cell_type": "code",
   "execution_count": 8,
   "id": "13a9d631",
   "metadata": {},
   "outputs": [
    {
     "name": "stdout",
     "output_type": "stream",
     "text": [
      "[[16  0  0]\n",
      " [ 0 15  3]\n",
      " [ 0  0 11]]\n",
      "                 precision    recall  f1-score   support\n",
      "\n",
      "    Iris-setosa       1.00      1.00      1.00        16\n",
      "Iris-versicolor       1.00      0.83      0.91        18\n",
      " Iris-virginica       0.79      1.00      0.88        11\n",
      "\n",
      "       accuracy                           0.93        45\n",
      "      macro avg       0.93      0.94      0.93        45\n",
      "   weighted avg       0.95      0.93      0.93        45\n",
      "\n",
      "Accuracy Score: 0.9333333333333333\n"
     ]
    }
   ],
   "source": [
    "rfc = RandomForestClassifier(max_depth = 2, random_state = 0)\n",
    "rfc.fit(X_train, Y_train)\n",
    "Y_pred = rfc.predict(X_test)\n",
    "print(confusion_matrix(Y_test, Y_pred))\n",
    "print(classification_report(Y_test, Y_pred))\n",
    "print('Accuracy Score:', accuracy_score(Y_test, Y_pred))"
   ]
  }
 ],
 "metadata": {
  "kernelspec": {
   "display_name": "Python 3 (ipykernel)",
   "language": "python",
   "name": "python3"
  },
  "language_info": {
   "codemirror_mode": {
    "name": "ipython",
    "version": 3
   },
   "file_extension": ".py",
   "mimetype": "text/x-python",
   "name": "python",
   "nbconvert_exporter": "python",
   "pygments_lexer": "ipython3",
   "version": "3.9.7"
  }
 },
 "nbformat": 4,
 "nbformat_minor": 5
}
