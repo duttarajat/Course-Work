{
 "cells": [
  {
   "cell_type": "markdown",
   "id": "3ef884d2",
   "metadata": {},
   "source": [
    "# Module 11 - Dimensionality Reduction - Hands On 2 - Factor Analysis"
   ]
  },
  {
   "cell_type": "raw",
   "id": "206f6230",
   "metadata": {},
   "source": [
    "Step 4: Import all the required modules by typing the following code in the notebook and run it by pressing shift + enter"
   ]
  },
  {
   "cell_type": "code",
   "execution_count": 1,
   "id": "747ffb31",
   "metadata": {},
   "outputs": [],
   "source": [
    "import numpy as np\n",
    "import pandas as pd\n",
    "from sklearn.model_selection import train_test_split\n",
    "from sklearn.preprocessing import StandardScaler\n",
    "from sklearn.decomposition import FactorAnalysis as FA\n",
    "from sklearn.ensemble import RandomForestClassifier\n",
    "from sklearn.metrics import confusion_matrix, accuracy_score, classification_report"
   ]
  },
  {
   "cell_type": "code",
   "execution_count": null,
   "id": "8ec3eafa",
   "metadata": {},
   "outputs": [],
   "source": []
  },
  {
   "cell_type": "raw",
   "id": "c386488a",
   "metadata": {},
   "source": [
    "Step 5: Load the iris dataset."
   ]
  },
  {
   "cell_type": "code",
   "execution_count": 2,
   "id": "24f32ddb",
   "metadata": {},
   "outputs": [],
   "source": [
    "url = 'https://archive.ics.uci.edu/ml/machine-learning-databases/iris/iris.data'\n",
    "names = ['sepal-length', 'sepal-width', 'petal-length', 'petal-width', 'Class']\n",
    "iris = pd.read_csv(url, names = names)"
   ]
  },
  {
   "cell_type": "code",
   "execution_count": null,
   "id": "7d03cffa",
   "metadata": {},
   "outputs": [],
   "source": []
  },
  {
   "cell_type": "raw",
   "id": "42c48bf8",
   "metadata": {},
   "source": [
    "Step 6: Extract X and Y variables out of the dataset."
   ]
  },
  {
   "cell_type": "code",
   "execution_count": 3,
   "id": "71a206d4",
   "metadata": {},
   "outputs": [],
   "source": [
    "X = iris.iloc[:,:4].values\n",
    "Y = iris.iloc[:,4].values"
   ]
  },
  {
   "cell_type": "code",
   "execution_count": null,
   "id": "cc4eb436",
   "metadata": {},
   "outputs": [],
   "source": []
  },
  {
   "cell_type": "raw",
   "id": "214e9649",
   "metadata": {},
   "source": [
    "Step 7: Split the data into 70 percent for training and 30 percent testing."
   ]
  },
  {
   "cell_type": "code",
   "execution_count": 4,
   "id": "ce9bfdc7",
   "metadata": {},
   "outputs": [],
   "source": [
    "X_train, X_test, Y_train, Y_test = train_test_split(X, Y, train_size = .7, random_state = 0)"
   ]
  },
  {
   "cell_type": "code",
   "execution_count": null,
   "id": "70c63105",
   "metadata": {},
   "outputs": [],
   "source": []
  },
  {
   "cell_type": "raw",
   "id": "dd9b7f63",
   "metadata": {},
   "source": [
    "Step 8: Scale the data."
   ]
  },
  {
   "cell_type": "code",
   "execution_count": 5,
   "id": "ed3d9174",
   "metadata": {},
   "outputs": [],
   "source": [
    "ss = StandardScaler()\n",
    "X_train = ss.fit_transform(X_train)\n",
    "X_test = ss.fit_transform(X_test)"
   ]
  },
  {
   "cell_type": "code",
   "execution_count": null,
   "id": "d4caf02e",
   "metadata": {},
   "outputs": [],
   "source": []
  },
  {
   "cell_type": "raw",
   "id": "43ba5d24",
   "metadata": {},
   "source": [
    "Step 9: Create a RandomForestCLassifier train it on scaled data and print its accuracy score and confusion matrix."
   ]
  },
  {
   "cell_type": "code",
   "execution_count": 6,
   "id": "abfa27e1",
   "metadata": {},
   "outputs": [
    {
     "name": "stdout",
     "output_type": "stream",
     "text": [
      "[[16  0  0]\n",
      " [ 0 13  5]\n",
      " [ 0  0 11]]\n",
      "                 precision    recall  f1-score   support\n",
      "\n",
      "    Iris-setosa       1.00      1.00      1.00        16\n",
      "Iris-versicolor       1.00      0.72      0.84        18\n",
      " Iris-virginica       0.69      1.00      0.81        11\n",
      "\n",
      "       accuracy                           0.89        45\n",
      "      macro avg       0.90      0.91      0.88        45\n",
      "   weighted avg       0.92      0.89      0.89        45\n",
      "\n",
      "Accuracy Score: 0.8888888888888888\n"
     ]
    }
   ],
   "source": [
    "rfc = RandomForestClassifier(max_depth = 2, random_state = 0)\n",
    "rfc.fit(X_train, Y_train)\n",
    "Y_pred = rfc.predict(X_test)\n",
    "print(confusion_matrix(Y_test, Y_pred))\n",
    "print(classification_report(Y_test, Y_pred))\n",
    "print('Accuracy Score:', accuracy_score(Y_test, Y_pred))"
   ]
  },
  {
   "cell_type": "code",
   "execution_count": null,
   "id": "e5365384",
   "metadata": {},
   "outputs": [],
   "source": []
  },
  {
   "cell_type": "raw",
   "id": "78e8bc82",
   "metadata": {},
   "source": [
    "Step 9: Create FactorAnalysis or FA instance and transform x_train and x_test."
   ]
  },
  {
   "cell_type": "code",
   "execution_count": 7,
   "id": "f36bc59b",
   "metadata": {},
   "outputs": [],
   "source": [
    "fa = FA(n_components = 1)\n",
    "X_train = fa.fit_transform(X_train)\n",
    "X_test = fa.fit_transform(X_test)"
   ]
  },
  {
   "cell_type": "code",
   "execution_count": null,
   "id": "2a761447",
   "metadata": {},
   "outputs": [],
   "source": []
  },
  {
   "cell_type": "raw",
   "id": "c3d2821f",
   "metadata": {},
   "source": [
    "Step 10: Create a RandomForestCLassifier train it on scaled and transformed data and print its accuracy score and confusion matrix."
   ]
  },
  {
   "cell_type": "code",
   "execution_count": 8,
   "id": "52c0a6c5",
   "metadata": {},
   "outputs": [
    {
     "name": "stdout",
     "output_type": "stream",
     "text": [
      "[[16  0  0]\n",
      " [ 0 12  6]\n",
      " [ 0  0 11]]\n",
      "                 precision    recall  f1-score   support\n",
      "\n",
      "    Iris-setosa       1.00      1.00      1.00        16\n",
      "Iris-versicolor       1.00      0.67      0.80        18\n",
      " Iris-virginica       0.65      1.00      0.79        11\n",
      "\n",
      "       accuracy                           0.87        45\n",
      "      macro avg       0.88      0.89      0.86        45\n",
      "   weighted avg       0.91      0.87      0.87        45\n",
      "\n",
      "Accuracy Score: 0.8666666666666667\n"
     ]
    }
   ],
   "source": [
    "rfc = RandomForestClassifier(max_depth = 2, random_state = 0)\n",
    "rfc.fit(X_train, Y_train)\n",
    "Y_pred = rfc.predict(X_test)\n",
    "print(confusion_matrix(Y_test, Y_pred))\n",
    "print(classification_report(Y_test, Y_pred))\n",
    "print('Accuracy Score:', accuracy_score(Y_test, Y_pred))"
   ]
  }
 ],
 "metadata": {
  "kernelspec": {
   "display_name": "Python 3 (ipykernel)",
   "language": "python",
   "name": "python3"
  },
  "language_info": {
   "codemirror_mode": {
    "name": "ipython",
    "version": 3
   },
   "file_extension": ".py",
   "mimetype": "text/x-python",
   "name": "python",
   "nbconvert_exporter": "python",
   "pygments_lexer": "ipython3",
   "version": "3.9.7"
  }
 },
 "nbformat": 4,
 "nbformat_minor": 5
}
