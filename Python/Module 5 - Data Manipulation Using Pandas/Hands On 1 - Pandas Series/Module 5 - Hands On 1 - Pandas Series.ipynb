{
 "cells": [
  {
   "cell_type": "markdown",
   "id": "7f19a1b9",
   "metadata": {},
   "source": [
    "# Module 5 - Hands On 1 - Pandas Series"
   ]
  },
  {
   "cell_type": "raw",
   "id": "f5dc8f45",
   "metadata": {},
   "source": [
    "Step 4: Import pandas by typing the following code in the notebook and run it by pressing shift + enter"
   ]
  },
  {
   "cell_type": "code",
   "execution_count": 1,
   "id": "f1c521d6",
   "metadata": {},
   "outputs": [],
   "source": [
    "import numpy as np\n",
    "import pandas as pd"
   ]
  },
  {
   "cell_type": "code",
   "execution_count": null,
   "id": "315c4f67",
   "metadata": {},
   "outputs": [],
   "source": []
  },
  {
   "cell_type": "raw",
   "id": "0925b176",
   "metadata": {},
   "source": [
    "Step 5 Type the following code to create a pandas series using np.array with default index."
   ]
  },
  {
   "cell_type": "code",
   "execution_count": 2,
   "id": "423bb8d9",
   "metadata": {},
   "outputs": [
    {
     "data": {
      "text/plain": [
       "0    1\n",
       "1    2\n",
       "2    3\n",
       "3    4\n",
       "4    5\n",
       "5    6\n",
       "dtype: int32"
      ]
     },
     "execution_count": 2,
     "metadata": {},
     "output_type": "execute_result"
    }
   ],
   "source": [
    "series = pd.Series(np.array([1, 2, 3, 4, 5, 6]))\n",
    "series"
   ]
  },
  {
   "cell_type": "code",
   "execution_count": null,
   "id": "3135fff4",
   "metadata": {},
   "outputs": [],
   "source": []
  },
  {
   "cell_type": "raw",
   "id": "77c6449c",
   "metadata": {},
   "source": [
    "Step 6: Type the following code to create a pandas series using np.array with custom index."
   ]
  },
  {
   "cell_type": "code",
   "execution_count": 3,
   "id": "26c26a7d",
   "metadata": {},
   "outputs": [
    {
     "data": {
      "text/plain": [
       "a    1\n",
       "b    2\n",
       "c    3\n",
       "d    4\n",
       "e    5\n",
       "f    6\n",
       "dtype: int32"
      ]
     },
     "execution_count": 3,
     "metadata": {},
     "output_type": "execute_result"
    }
   ],
   "source": [
    "series = pd.Series(np.array([1, 2, 3, 4, 5, 6]), index=['a', 'b', 'c', 'd', 'e', 'f'])\n",
    "series"
   ]
  },
  {
   "cell_type": "code",
   "execution_count": null,
   "id": "40668886",
   "metadata": {},
   "outputs": [],
   "source": []
  },
  {
   "cell_type": "raw",
   "id": "860aae7d",
   "metadata": {},
   "source": [
    "Step 7: Type the following code to create a pandas series using a dictionary with default index."
   ]
  },
  {
   "cell_type": "code",
   "execution_count": 4,
   "id": "0da50d48",
   "metadata": {},
   "outputs": [
    {
     "data": {
      "text/plain": [
       "x    0.0\n",
       "y    1.0\n",
       "z    2.0\n",
       "dtype: float64"
      ]
     },
     "execution_count": 4,
     "metadata": {},
     "output_type": "execute_result"
    }
   ],
   "source": [
    "series = pd.Series({'x' : 0, 'y' : 1., 'z' : 2.})\n",
    "series"
   ]
  }
 ],
 "metadata": {
  "kernelspec": {
   "display_name": "Python 3 (ipykernel)",
   "language": "python",
   "name": "python3"
  },
  "language_info": {
   "codemirror_mode": {
    "name": "ipython",
    "version": 3
   },
   "file_extension": ".py",
   "mimetype": "text/x-python",
   "name": "python",
   "nbconvert_exporter": "python",
   "pygments_lexer": "ipython3",
   "version": "3.9.12"
  }
 },
 "nbformat": 4,
 "nbformat_minor": 5
}
