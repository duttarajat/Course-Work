{
 "cells": [
  {
   "cell_type": "markdown",
   "id": "554b97c0",
   "metadata": {},
   "source": [
    "# Assignment 1 - If-Else Statement"
   ]
  },
  {
   "cell_type": "code",
   "execution_count": 1,
   "id": "9c9adf80",
   "metadata": {},
   "outputs": [],
   "source": [
    "#1. Input the values of a and b as 10 and 20 respectively. Now check if a is greater or b is greater using if condition.\n",
    "#Think about all the edge cases, and print the statements accordingly."
   ]
  },
  {
   "cell_type": "code",
   "execution_count": 2,
   "id": "5c59d255",
   "metadata": {},
   "outputs": [
    {
     "name": "stdout",
     "output_type": "stream",
     "text": [
      "b is greater than a\n"
     ]
    }
   ],
   "source": [
    "a = 10\n",
    "b = 20\n",
    "\n",
    "if a >= b:\n",
    "    if a == b:\n",
    "        print('a and b are equal')\n",
    "    else:\n",
    "        print('a is greater than b')\n",
    "else:\n",
    "    print('b is greater than a')"
   ]
  }
 ],
 "metadata": {
  "kernelspec": {
   "display_name": "Python 3 (ipykernel)",
   "language": "python",
   "name": "python3"
  },
  "language_info": {
   "codemirror_mode": {
    "name": "ipython",
    "version": 3
   },
   "file_extension": ".py",
   "mimetype": "text/x-python",
   "name": "python",
   "nbconvert_exporter": "python",
   "pygments_lexer": "ipython3",
   "version": "3.9.12"
  }
 },
 "nbformat": 4,
 "nbformat_minor": 5
}
