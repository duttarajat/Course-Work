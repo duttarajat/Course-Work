{
 "cells": [
  {
   "cell_type": "markdown",
   "id": "d8ccc92d",
   "metadata": {},
   "source": [
    "# Assignment 2 - Conditional Statements"
   ]
  },
  {
   "cell_type": "code",
   "execution_count": 1,
   "id": "99e6f3ed",
   "metadata": {},
   "outputs": [],
   "source": [
    "#1. Take three user inputs and print the greatest number from those inputs using if-else condition.\n",
    "#Edge cases if any, should also be handled."
   ]
  },
  {
   "cell_type": "code",
   "execution_count": 2,
   "id": "9f16135d",
   "metadata": {},
   "outputs": [
    {
     "name": "stdout",
     "output_type": "stream",
     "text": [
      "Enter the 1st no.: 10\n",
      "Enter the 2nd no.: 15\n",
      "Enter the 3rd no.: 20\n",
      "The greatest number is 20\n"
     ]
    }
   ],
   "source": [
    "a = int(input(\"Enter the 1st no.: \"))\n",
    "b = int(input(\"Enter the 2nd no.: \"))\n",
    "c = int(input(\"Enter the 3rd no.: \"))\n",
    "\n",
    "if (a >= b) and (a >= c):\n",
    "    greatest = a\n",
    "elif (b >= a) and (b >= c):\n",
    "    greatest = b\n",
    "else:\n",
    "    greatest = c\n",
    "\n",
    "print(\"The greatest number is\", greatest)"
   ]
  }
 ],
 "metadata": {
  "kernelspec": {
   "display_name": "Python 3 (ipykernel)",
   "language": "python",
   "name": "python3"
  },
  "language_info": {
   "codemirror_mode": {
    "name": "ipython",
    "version": 3
   },
   "file_extension": ".py",
   "mimetype": "text/x-python",
   "name": "python",
   "nbconvert_exporter": "python",
   "pygments_lexer": "ipython3",
   "version": "3.9.12"
  }
 },
 "nbformat": 4,
 "nbformat_minor": 5
}
