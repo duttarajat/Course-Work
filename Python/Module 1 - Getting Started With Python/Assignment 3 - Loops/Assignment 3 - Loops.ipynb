{
 "cells": [
  {
   "cell_type": "markdown",
   "id": "36c9f4bb",
   "metadata": {},
   "source": [
    "# Assignment 3 - Loops"
   ]
  },
  {
   "cell_type": "code",
   "execution_count": 1,
   "id": "71a84d34",
   "metadata": {},
   "outputs": [],
   "source": [
    "#1. Create an array that is having user defined inputs and with the help of for loop,\n",
    "#fetch all the prime numbers and print the numbers.\n"
   ]
  },
  {
   "cell_type": "code",
   "execution_count": 2,
   "id": "ec8a4853",
   "metadata": {},
   "outputs": [
    {
     "name": "stdout",
     "output_type": "stream",
     "text": [
      "Enter the no. of elements in the array: 15\n",
      "Enter the elements of the array: 1\n",
      "Enter the elements of the array: 3\n",
      "Enter the elements of the array: 2\n",
      "Enter the elements of the array: 5\n",
      "Enter the elements of the array: 9\n",
      "Enter the elements of the array: 7\n",
      "Enter the elements of the array: 16\n",
      "Enter the elements of the array: 12\n",
      "Enter the elements of the array: 18\n",
      "Enter the elements of the array: 62\n",
      "Enter the elements of the array: 54\n",
      "Enter the elements of the array: 89\n",
      "Enter the elements of the array: 99\n",
      "Enter the elements of the array: 51\n",
      "Enter the elements of the array: 31\n",
      "[3, 2, 5, 7, 89, 31]\n"
     ]
    }
   ],
   "source": [
    "a=int(input('Enter the no. of elements in the array: '))\n",
    "l1=[]\n",
    "\n",
    "for i in range (0,a):\n",
    "    l2=int(input('Enter the elements of the array: '))\n",
    "    l1.append(l2)\n",
    "\n",
    "prime=[]\n",
    "\n",
    "for j in l1:\n",
    "    x=0\n",
    "    for k in range(1,j):\n",
    "        if j % k == 0:\n",
    "            x +=1\n",
    "    if x == 1:\n",
    "        prime.append(j)\n",
    "\n",
    "print(prime)"
   ]
  }
 ],
 "metadata": {
  "kernelspec": {
   "display_name": "Python 3 (ipykernel)",
   "language": "python",
   "name": "python3"
  },
  "language_info": {
   "codemirror_mode": {
    "name": "ipython",
    "version": 3
   },
   "file_extension": ".py",
   "mimetype": "text/x-python",
   "name": "python",
   "nbconvert_exporter": "python",
   "pygments_lexer": "ipython3",
   "version": "3.9.12"
  }
 },
 "nbformat": 4,
 "nbformat_minor": 5
}
