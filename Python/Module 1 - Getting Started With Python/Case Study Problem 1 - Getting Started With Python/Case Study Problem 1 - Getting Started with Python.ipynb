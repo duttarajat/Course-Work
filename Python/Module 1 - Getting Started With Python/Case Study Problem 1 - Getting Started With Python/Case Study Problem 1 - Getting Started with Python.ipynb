{
 "cells": [
  {
   "cell_type": "markdown",
   "id": "a014ca17",
   "metadata": {},
   "source": [
    "# Case Study Problem 1 - Getting Started with Python"
   ]
  },
  {
   "cell_type": "code",
   "execution_count": 1,
   "id": "4c479c3f",
   "metadata": {},
   "outputs": [],
   "source": [
    "#1. Create a list containing squares of numbers from 1 to 10 (HINT: use List Comprehension)."
   ]
  },
  {
   "cell_type": "code",
   "execution_count": 2,
   "id": "d28ce4b9",
   "metadata": {},
   "outputs": [
    {
     "name": "stdout",
     "output_type": "stream",
     "text": [
      "[1, 4, 9, 16, 25, 36, 49, 64, 81, 100]\n"
     ]
    }
   ],
   "source": [
    "l1 = [i**2 for i in range(1,11)]\n",
    "print(l1)"
   ]
  },
  {
   "cell_type": "code",
   "execution_count": null,
   "id": "10869aab",
   "metadata": {},
   "outputs": [],
   "source": []
  },
  {
   "cell_type": "code",
   "execution_count": 3,
   "id": "a388c6e9",
   "metadata": {},
   "outputs": [],
   "source": [
    "#2. Write a Function to check if year number is a leap year."
   ]
  },
  {
   "cell_type": "code",
   "execution_count": 4,
   "id": "72a34379",
   "metadata": {},
   "outputs": [
    {
     "name": "stdout",
     "output_type": "stream",
     "text": [
      "Enter a year: 1980\n",
      "1980 is a leap year\n"
     ]
    }
   ],
   "source": [
    "def lpyr(yr):\n",
    "    if (yr % 400 == 0) and (yr % 100 == 0):\n",
    "        print(yr, 'is a leap year')\n",
    "    elif (yr % 100 != 0) and (yr % 4 == 0):\n",
    "        print(yr, 'is a leap year')\n",
    "    else:\n",
    "        print(yr, 'is a common year')\n",
    "        \n",
    "lpyr(int(input(\"Enter a year: \")))"
   ]
  },
  {
   "cell_type": "code",
   "execution_count": null,
   "id": "2ec521b4",
   "metadata": {},
   "outputs": [],
   "source": []
  },
  {
   "cell_type": "code",
   "execution_count": 5,
   "id": "465f8bac",
   "metadata": {},
   "outputs": [],
   "source": [
    "#3. Write a Function to take an array and return another array that contains the members of first array that are even."
   ]
  },
  {
   "cell_type": "code",
   "execution_count": 6,
   "id": "452ddf74",
   "metadata": {},
   "outputs": [
    {
     "data": {
      "text/plain": [
       "[0, 2, 4, 6, 8, 10, 12, 14, 16, 18]"
      ]
     },
     "execution_count": 6,
     "metadata": {},
     "output_type": "execute_result"
    }
   ],
   "source": [
    "def even_no(lst):\n",
    "    even_nos = []\n",
    "    for i in lst:\n",
    "        if i % 2 == 0:\n",
    "            even_nos.append(i)\n",
    "    return even_nos\n",
    "\n",
    "l1 = [i for i in range(0,20)]\n",
    "even_no(l1)"
   ]
  },
  {
   "cell_type": "code",
   "execution_count": null,
   "id": "bd58cce8",
   "metadata": {},
   "outputs": [],
   "source": []
  },
  {
   "cell_type": "code",
   "execution_count": 7,
   "id": "0f1693bb",
   "metadata": {},
   "outputs": [],
   "source": [
    "#4. Write a Function that takes 2 arrays and prints the members of first array that are present of second array.\n",
    "#(HINT: use Membership Comprehension)"
   ]
  },
  {
   "cell_type": "code",
   "execution_count": 8,
   "id": "148ea90e",
   "metadata": {},
   "outputs": [
    {
     "name": "stdout",
     "output_type": "stream",
     "text": [
      "1 3 5 6 9 12 13 17 18 19 "
     ]
    }
   ],
   "source": [
    "#Solution: 1\n",
    "\n",
    "def mem(a1,a2):\n",
    "    for i in a1:\n",
    "        if i in a2:\n",
    "            print(i, end=' ')\n",
    "\n",
    "x=[1,3,5,6,9,12,13,17,18,19,20,24,26,27,29]\n",
    "y=[z for z in range(0,20)]\n",
    "mem(x,y)"
   ]
  },
  {
   "cell_type": "code",
   "execution_count": 9,
   "id": "f62e7fab",
   "metadata": {},
   "outputs": [
    {
     "name": "stdout",
     "output_type": "stream",
     "text": [
      "[1, 3, 5, 6, 9, 12, 13, 17, 18, 19] "
     ]
    }
   ],
   "source": [
    "#Solution: 2\n",
    "\n",
    "def mem1(a1,a2):\n",
    "    j = [i for i in a1 if i in a2]\n",
    "    print(j, end=' ')\n",
    "        \n",
    "x=[1,3,5,6,9,12,13,17,18,19,20,24,26,27,29]\n",
    "y=[z for z in range(0,20)]\n",
    "mem1(x,y)"
   ]
  }
 ],
 "metadata": {
  "kernelspec": {
   "display_name": "Python 3 (ipykernel)",
   "language": "python",
   "name": "python3"
  },
  "language_info": {
   "codemirror_mode": {
    "name": "ipython",
    "version": 3
   },
   "file_extension": ".py",
   "mimetype": "text/x-python",
   "name": "python",
   "nbconvert_exporter": "python",
   "pygments_lexer": "ipython3",
   "version": "3.9.12"
  }
 },
 "nbformat": 4,
 "nbformat_minor": 5
}
