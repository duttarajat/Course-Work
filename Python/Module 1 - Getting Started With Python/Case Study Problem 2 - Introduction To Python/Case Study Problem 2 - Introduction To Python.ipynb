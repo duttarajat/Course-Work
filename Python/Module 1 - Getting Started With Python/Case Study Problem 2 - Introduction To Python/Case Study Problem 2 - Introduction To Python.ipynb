{
 "cells": [
  {
   "cell_type": "markdown",
   "id": "dbfd49c4",
   "metadata": {},
   "source": [
    "# Case Study Problem 2 - Introduction To Python"
   ]
  },
  {
   "cell_type": "markdown",
   "id": "0beff7a7",
   "metadata": {},
   "source": [
    "# Module 1 Introduction to Python Assignment - 2"
   ]
  },
  {
   "cell_type": "code",
   "execution_count": 1,
   "id": "e983d229",
   "metadata": {},
   "outputs": [],
   "source": [
    "#1. Create 1st tuple with values -> (10,20,30), 2nd tuple with values -> (40,50,60).\n",
    "    #a. Concatenate the two tuples and store it in “t_combine”\n",
    "    #b. Repeat the elements of “t_combine” 3 times\n",
    "    #c. Access the 3rd element from “t_combine”\n",
    "    #d. Access the first three elements from “t_combine”\n",
    "    #e. Access the last three elements from “t_combine”"
   ]
  },
  {
   "cell_type": "code",
   "execution_count": 2,
   "id": "cc81a20f",
   "metadata": {},
   "outputs": [
    {
     "data": {
      "text/plain": [
       "(10, 20, 30, 40, 50, 60)"
      ]
     },
     "execution_count": 2,
     "metadata": {},
     "output_type": "execute_result"
    }
   ],
   "source": [
    "t1 = 10, 20, 30\n",
    "t2 = 40, 50, 60\n",
    "t_combine = t1 + t2\n",
    "t_combine"
   ]
  },
  {
   "cell_type": "code",
   "execution_count": 3,
   "id": "0ba25b0d",
   "metadata": {},
   "outputs": [
    {
     "data": {
      "text/plain": [
       "(10, 20, 30, 40, 50, 60, 10, 20, 30, 40, 50, 60, 10, 20, 30, 40, 50, 60)"
      ]
     },
     "execution_count": 3,
     "metadata": {},
     "output_type": "execute_result"
    }
   ],
   "source": [
    "t_combine * 3"
   ]
  },
  {
   "cell_type": "code",
   "execution_count": 4,
   "id": "670c9694",
   "metadata": {},
   "outputs": [
    {
     "data": {
      "text/plain": [
       "30"
      ]
     },
     "execution_count": 4,
     "metadata": {},
     "output_type": "execute_result"
    }
   ],
   "source": [
    "t_combine[2]"
   ]
  },
  {
   "cell_type": "code",
   "execution_count": 5,
   "id": "dfbe0570",
   "metadata": {},
   "outputs": [
    {
     "data": {
      "text/plain": [
       "(10, 20, 30)"
      ]
     },
     "execution_count": 5,
     "metadata": {},
     "output_type": "execute_result"
    }
   ],
   "source": [
    "t_combine[0:3]"
   ]
  },
  {
   "cell_type": "code",
   "execution_count": 6,
   "id": "bf6bc154",
   "metadata": {},
   "outputs": [
    {
     "data": {
      "text/plain": [
       "(40, 50, 60)"
      ]
     },
     "execution_count": 6,
     "metadata": {},
     "output_type": "execute_result"
    }
   ],
   "source": [
    "t_combine[-3:]"
   ]
  },
  {
   "cell_type": "code",
   "execution_count": null,
   "id": "7ee675c9",
   "metadata": {},
   "outputs": [],
   "source": []
  },
  {
   "cell_type": "code",
   "execution_count": 7,
   "id": "af64c70a",
   "metadata": {},
   "outputs": [],
   "source": [
    "#2. Create a list ‘my_list’ with these elements:\n",
    "    #a. First element is a tuple with values 1,2,3\n",
    "    #b. Second element is a tuple with values “a”,”b”,”c”\n",
    "    #c. Third element is a tuple with values True,False"
   ]
  },
  {
   "cell_type": "code",
   "execution_count": 8,
   "id": "3d6a94b1",
   "metadata": {},
   "outputs": [],
   "source": [
    "my_list = [(1,2,3),('a','b','c'),(True,False)]"
   ]
  },
  {
   "cell_type": "code",
   "execution_count": 9,
   "id": "b9a381aa",
   "metadata": {},
   "outputs": [
    {
     "data": {
      "text/plain": [
       "list"
      ]
     },
     "execution_count": 9,
     "metadata": {},
     "output_type": "execute_result"
    }
   ],
   "source": [
    "type(my_list)"
   ]
  },
  {
   "cell_type": "code",
   "execution_count": 10,
   "id": "4fce11b6",
   "metadata": {},
   "outputs": [
    {
     "data": {
      "text/plain": [
       "[(1, 2, 3), ('a', 'b', 'c'), (True, False)]"
      ]
     },
     "execution_count": 10,
     "metadata": {},
     "output_type": "execute_result"
    }
   ],
   "source": [
    "my_list"
   ]
  },
  {
   "cell_type": "code",
   "execution_count": 11,
   "id": "161f4e43",
   "metadata": {},
   "outputs": [
    {
     "data": {
      "text/plain": [
       "tuple"
      ]
     },
     "execution_count": 11,
     "metadata": {},
     "output_type": "execute_result"
    }
   ],
   "source": [
    "type(my_list[0])"
   ]
  },
  {
   "cell_type": "code",
   "execution_count": 12,
   "id": "61d86212",
   "metadata": {},
   "outputs": [
    {
     "data": {
      "text/plain": [
       "tuple"
      ]
     },
     "execution_count": 12,
     "metadata": {},
     "output_type": "execute_result"
    }
   ],
   "source": [
    "type(my_list[1])"
   ]
  },
  {
   "cell_type": "code",
   "execution_count": 13,
   "id": "7806a611",
   "metadata": {},
   "outputs": [
    {
     "data": {
      "text/plain": [
       "tuple"
      ]
     },
     "execution_count": 13,
     "metadata": {},
     "output_type": "execute_result"
    }
   ],
   "source": [
    "type(my_list[2])"
   ]
  },
  {
   "cell_type": "code",
   "execution_count": null,
   "id": "649af438",
   "metadata": {},
   "outputs": [],
   "source": []
  },
  {
   "cell_type": "code",
   "execution_count": 14,
   "id": "196549d4",
   "metadata": {},
   "outputs": [],
   "source": [
    "#3. Append a new tuple – (1,’a’,True) to ‘my_list’\n",
    "    #a. Append a new list – [“sparta”,123] to my_list"
   ]
  },
  {
   "cell_type": "code",
   "execution_count": 15,
   "id": "cc9347ce",
   "metadata": {},
   "outputs": [],
   "source": [
    "my_list.append((1,'a',True))"
   ]
  },
  {
   "cell_type": "code",
   "execution_count": 16,
   "id": "9e8fb90d",
   "metadata": {},
   "outputs": [
    {
     "data": {
      "text/plain": [
       "[(1, 2, 3), ('a', 'b', 'c'), (True, False), (1, 'a', True)]"
      ]
     },
     "execution_count": 16,
     "metadata": {},
     "output_type": "execute_result"
    }
   ],
   "source": [
    "my_list"
   ]
  },
  {
   "cell_type": "code",
   "execution_count": 17,
   "id": "2acc67a8",
   "metadata": {},
   "outputs": [
    {
     "data": {
      "text/plain": [
       "tuple"
      ]
     },
     "execution_count": 17,
     "metadata": {},
     "output_type": "execute_result"
    }
   ],
   "source": [
    "type(my_list[3])"
   ]
  },
  {
   "cell_type": "code",
   "execution_count": 18,
   "id": "d3fa981e",
   "metadata": {},
   "outputs": [],
   "source": [
    "my_list.append(['sparta',123])"
   ]
  },
  {
   "cell_type": "code",
   "execution_count": 19,
   "id": "73bdff43",
   "metadata": {},
   "outputs": [
    {
     "data": {
      "text/plain": [
       "[(1, 2, 3), ('a', 'b', 'c'), (True, False), (1, 'a', True), ['sparta', 123]]"
      ]
     },
     "execution_count": 19,
     "metadata": {},
     "output_type": "execute_result"
    }
   ],
   "source": [
    "my_list"
   ]
  },
  {
   "cell_type": "code",
   "execution_count": 20,
   "id": "084dbfdb",
   "metadata": {},
   "outputs": [
    {
     "data": {
      "text/plain": [
       "list"
      ]
     },
     "execution_count": 20,
     "metadata": {},
     "output_type": "execute_result"
    }
   ],
   "source": [
    "type(my_list[4])"
   ]
  },
  {
   "cell_type": "code",
   "execution_count": null,
   "id": "31d7852f",
   "metadata": {},
   "outputs": [],
   "source": []
  },
  {
   "cell_type": "code",
   "execution_count": 21,
   "id": "bd10ac3b",
   "metadata": {},
   "outputs": [],
   "source": [
    "#4. Create a dictionary ‘fruit’ where:\n",
    "    #a. The first key is ‘Fruit’ and the values are (“Apple”,”Banana”,”Mango”,”Guava”)\n",
    "    #b. The second key is ‘Cost’ and the values are (85,54,120,70)\n",
    "    #c. Extract all the keys from ‘fruit’\n",
    "    #d. Extract all the values from ‘fruit’"
   ]
  },
  {
   "cell_type": "code",
   "execution_count": 22,
   "id": "56323393",
   "metadata": {},
   "outputs": [],
   "source": [
    "fruit = {'Fruit':['Apple','Banana','Mango','Gauva'],'Cost':[85,54,120,70]}"
   ]
  },
  {
   "cell_type": "code",
   "execution_count": 23,
   "id": "c9b0cd68",
   "metadata": {},
   "outputs": [
    {
     "data": {
      "text/plain": [
       "{'Fruit': ['Apple', 'Banana', 'Mango', 'Gauva'], 'Cost': [85, 54, 120, 70]}"
      ]
     },
     "execution_count": 23,
     "metadata": {},
     "output_type": "execute_result"
    }
   ],
   "source": [
    "fruit"
   ]
  },
  {
   "cell_type": "code",
   "execution_count": 24,
   "id": "8edc2661",
   "metadata": {},
   "outputs": [
    {
     "data": {
      "text/plain": [
       "dict_keys(['Fruit', 'Cost'])"
      ]
     },
     "execution_count": 24,
     "metadata": {},
     "output_type": "execute_result"
    }
   ],
   "source": [
    "fruit.keys()"
   ]
  },
  {
   "cell_type": "code",
   "execution_count": 25,
   "id": "f05e8fbe",
   "metadata": {},
   "outputs": [
    {
     "data": {
      "text/plain": [
       "dict_values([['Apple', 'Banana', 'Mango', 'Gauva'], [85, 54, 120, 70]])"
      ]
     },
     "execution_count": 25,
     "metadata": {},
     "output_type": "execute_result"
    }
   ],
   "source": [
    "fruit.values()"
   ]
  },
  {
   "cell_type": "code",
   "execution_count": null,
   "id": "38a108f2",
   "metadata": {},
   "outputs": [],
   "source": []
  },
  {
   "cell_type": "code",
   "execution_count": 26,
   "id": "b149bd14",
   "metadata": {},
   "outputs": [],
   "source": [
    "#5. Crete a set named ‘my_set’ with values (1,1,”a”,”a”,True,True) and print the result"
   ]
  },
  {
   "cell_type": "code",
   "execution_count": 27,
   "id": "e965a5d8",
   "metadata": {},
   "outputs": [],
   "source": [
    "my_set = {1,1,'a','a',True,True}"
   ]
  },
  {
   "cell_type": "code",
   "execution_count": 28,
   "id": "b5b3267a",
   "metadata": {},
   "outputs": [
    {
     "data": {
      "text/plain": [
       "{1, 'a'}"
      ]
     },
     "execution_count": 28,
     "metadata": {},
     "output_type": "execute_result"
    }
   ],
   "source": [
    "my_set"
   ]
  },
  {
   "cell_type": "code",
   "execution_count": 29,
   "id": "1843536a",
   "metadata": {},
   "outputs": [
    {
     "data": {
      "text/plain": [
       "set"
      ]
     },
     "execution_count": 29,
     "metadata": {},
     "output_type": "execute_result"
    }
   ],
   "source": [
    "type(my_set)"
   ]
  },
  {
   "cell_type": "code",
   "execution_count": 30,
   "id": "0759da89",
   "metadata": {},
   "outputs": [],
   "source": [
    "#Since set can only take unique values, duplicate 1 and a haven't been taken and both True haven't been taken"
   ]
  }
 ],
 "metadata": {
  "kernelspec": {
   "display_name": "Python 3 (ipykernel)",
   "language": "python",
   "name": "python3"
  },
  "language_info": {
   "codemirror_mode": {
    "name": "ipython",
    "version": 3
   },
   "file_extension": ".py",
   "mimetype": "text/x-python",
   "name": "python",
   "nbconvert_exporter": "python",
   "pygments_lexer": "ipython3",
   "version": "3.9.12"
  }
 },
 "nbformat": 4,
 "nbformat_minor": 5
}
