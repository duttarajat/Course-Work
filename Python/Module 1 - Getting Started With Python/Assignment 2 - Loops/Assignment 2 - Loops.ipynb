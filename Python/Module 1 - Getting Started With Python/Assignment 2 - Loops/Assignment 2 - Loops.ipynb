{
 "cells": [
  {
   "cell_type": "markdown",
   "id": "e30527ef",
   "metadata": {},
   "source": [
    "# Assignment 2 - Loops"
   ]
  },
  {
   "cell_type": "code",
   "execution_count": 1,
   "id": "cba872bf",
   "metadata": {},
   "outputs": [],
   "source": [
    "#Create a list that is having 10,23,4,26,4,75,24,54 values and with the help of while loop,\n",
    "#fetch the even numbers and print the numbers."
   ]
  },
  {
   "cell_type": "code",
   "execution_count": 2,
   "id": "d8777fff",
   "metadata": {},
   "outputs": [
    {
     "name": "stdout",
     "output_type": "stream",
     "text": [
      "10\n",
      "4\n",
      "26\n",
      "4\n",
      "24\n",
      "54\n"
     ]
    }
   ],
   "source": [
    "l = [10,23,4,26,4,75,24,54]\n",
    "\n",
    "i = 0\n",
    "\n",
    "while i < len(l):\n",
    "    if l[i] % 2 == 0:\n",
    "        print(l[i])\n",
    "    i += 1"
   ]
  }
 ],
 "metadata": {
  "kernelspec": {
   "display_name": "Python 3 (ipykernel)",
   "language": "python",
   "name": "python3"
  },
  "language_info": {
   "codemirror_mode": {
    "name": "ipython",
    "version": 3
   },
   "file_extension": ".py",
   "mimetype": "text/x-python",
   "name": "python",
   "nbconvert_exporter": "python",
   "pygments_lexer": "ipython3",
   "version": "3.9.12"
  }
 },
 "nbformat": 4,
 "nbformat_minor": 5
}
