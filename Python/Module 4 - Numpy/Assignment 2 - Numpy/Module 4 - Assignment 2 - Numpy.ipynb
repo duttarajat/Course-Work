{
 "cells": [
  {
   "cell_type": "markdown",
   "id": "fb5f7bc8",
   "metadata": {},
   "source": [
    "# Module 4 - Assignment 1 - Data Structure"
   ]
  },
  {
   "cell_type": "code",
   "execution_count": 1,
   "id": "c7a651bc",
   "metadata": {},
   "outputs": [],
   "source": [
    "import numpy as np"
   ]
  },
  {
   "cell_type": "code",
   "execution_count": null,
   "id": "b6db1fe1",
   "metadata": {},
   "outputs": [],
   "source": []
  },
  {
   "cell_type": "raw",
   "id": "af9e09eb",
   "metadata": {},
   "source": [
    "1. Create a 3x3 matrix array with values ranging from 2 to 10."
   ]
  },
  {
   "cell_type": "code",
   "execution_count": 2,
   "id": "27944767",
   "metadata": {},
   "outputs": [
    {
     "data": {
      "text/plain": [
       "array([[8, 5, 8],\n",
       "       [6, 3, 8],\n",
       "       [8, 5, 2]])"
      ]
     },
     "execution_count": 2,
     "metadata": {},
     "output_type": "execute_result"
    }
   ],
   "source": [
    "np.random.randint(2,10,(3,3))"
   ]
  },
  {
   "cell_type": "code",
   "execution_count": null,
   "id": "6c0fbd90",
   "metadata": {},
   "outputs": [],
   "source": []
  },
  {
   "cell_type": "raw",
   "id": "c4cd54ed",
   "metadata": {},
   "source": [
    "2. Create a numpy array having user input values and convert the integer type to the float type\n",
    "of the elements of the array. For instance:\n",
    "Original array\n",
    "[1, 2, 3, 4]\n",
    "Array converted to a float type:\n",
    "[ 1. 2. 3. 4.]"
   ]
  },
  {
   "cell_type": "code",
   "execution_count": 3,
   "id": "a0c62198",
   "metadata": {},
   "outputs": [
    {
     "name": "stdout",
     "output_type": "stream",
     "text": [
      "How many elements in the array? 9\n",
      "Enter the elements of the array: 1\n",
      "Enter the elements of the array: 2\n",
      "Enter the elements of the array: 3\n",
      "Enter the elements of the array: 4\n",
      "Enter the elements of the array: 5\n",
      "Enter the elements of the array: 6\n",
      "Enter the elements of the array: 7\n",
      "Enter the elements of the array: 8\n",
      "Enter the elements of the array: 9\n"
     ]
    },
    {
     "data": {
      "text/plain": [
       "array([1., 2., 3., 4., 5., 6., 7., 8., 9.])"
      ]
     },
     "execution_count": 3,
     "metadata": {},
     "output_type": "execute_result"
    }
   ],
   "source": [
    "def ar_int_float():\n",
    "    a=int(input('How many elements in the array? '))\n",
    "    l1=[]\n",
    "    for i in range (0,a):\n",
    "        l2=int(input('Enter the elements of the array: '))\n",
    "        l1.append(l2)\n",
    "    ar = np.array(l1)\n",
    "    return ar.astype(float)\n",
    "\n",
    "ar_int_float()"
   ]
  },
  {
   "cell_type": "code",
   "execution_count": null,
   "id": "879e65bf",
   "metadata": {},
   "outputs": [],
   "source": []
  },
  {
   "cell_type": "raw",
   "id": "3282e865",
   "metadata": {},
   "source": [
    "3. Write a Numpy program to append values to the end of an array. For instance:\n",
    "Original array:\n",
    "[10, 20, 30]\n",
    "After append values to the end of the array:\n",
    "[10 20 30 40 50 60 70 80 90]"
   ]
  },
  {
   "cell_type": "code",
   "execution_count": 4,
   "id": "09e89874",
   "metadata": {},
   "outputs": [
    {
     "data": {
      "text/plain": [
       "array([10, 20, 30, 40, 50, 60, 70, 80, 90])"
      ]
     },
     "execution_count": 4,
     "metadata": {},
     "output_type": "execute_result"
    }
   ],
   "source": [
    "ar = np.array([10, 20, 30])\n",
    "def ar_append():\n",
    "    ar1 = np.array([40, 50, 60, 70, 80, 90])\n",
    "    ar_app = np.append(ar,ar1)\n",
    "    return ar_app\n",
    "\n",
    "ar_append()"
   ]
  },
  {
   "cell_type": "code",
   "execution_count": null,
   "id": "8955ace3",
   "metadata": {},
   "outputs": [],
   "source": []
  },
  {
   "cell_type": "raw",
   "id": "481386a4",
   "metadata": {},
   "source": [
    "4. Create two numpy arrays and add the elements of both the arrays and store the result in sumArray."
   ]
  },
  {
   "cell_type": "code",
   "execution_count": 5,
   "id": "a0fac45f",
   "metadata": {},
   "outputs": [
    {
     "name": "stdout",
     "output_type": "stream",
     "text": [
      "Array1 is: [56 62 23  7 57]\n",
      "Array2 is: [91 77 65 40  0]\n",
      "Sum of Array1 and Array2 is: [147 139  88  47  57]\n"
     ]
    }
   ],
   "source": [
    "ar1 = np.random.randint(0, 100, 5)\n",
    "ar2 = np.random.randint(0, 100, 5)\n",
    "sumArray = ar1 + ar2\n",
    "print('Array1 is:', ar1)\n",
    "print('Array2 is:', ar2)\n",
    "print('Sum of Array1 and Array2 is:', sumArray)"
   ]
  },
  {
   "cell_type": "code",
   "execution_count": null,
   "id": "e016a5c6",
   "metadata": {},
   "outputs": [],
   "source": []
  },
  {
   "cell_type": "raw",
   "id": "32de7fd4",
   "metadata": {},
   "source": [
    "5. Create a 3*3 array having values from 10-90(interval of 10) and store that in array1. Perform\n",
    "the following tasks:\n",
    "a. Extract the 1st row from the array.\n",
    "b. Extract the last element from the array."
   ]
  },
  {
   "cell_type": "code",
   "execution_count": 6,
   "id": "f078fb0a",
   "metadata": {},
   "outputs": [
    {
     "data": {
      "text/plain": [
       "array([[10, 20, 30],\n",
       "       [40, 50, 60],\n",
       "       [70, 80, 90]])"
      ]
     },
     "execution_count": 6,
     "metadata": {},
     "output_type": "execute_result"
    }
   ],
   "source": [
    "array1 = np.reshape(np.arange(10,91,10),(3,3))\n",
    "array1"
   ]
  },
  {
   "cell_type": "code",
   "execution_count": 7,
   "id": "e9bc6646",
   "metadata": {},
   "outputs": [
    {
     "data": {
      "text/plain": [
       "array([10, 20, 30])"
      ]
     },
     "execution_count": 7,
     "metadata": {},
     "output_type": "execute_result"
    }
   ],
   "source": [
    "array1[0]"
   ]
  },
  {
   "cell_type": "code",
   "execution_count": 8,
   "id": "b3d59dee",
   "metadata": {},
   "outputs": [
    {
     "data": {
      "text/plain": [
       "90"
      ]
     },
     "execution_count": 8,
     "metadata": {},
     "output_type": "execute_result"
    }
   ],
   "source": [
    "array1[2][2]"
   ]
  }
 ],
 "metadata": {
  "kernelspec": {
   "display_name": "Python 3 (ipykernel)",
   "language": "python",
   "name": "python3"
  },
  "language_info": {
   "codemirror_mode": {
    "name": "ipython",
    "version": 3
   },
   "file_extension": ".py",
   "mimetype": "text/x-python",
   "name": "python",
   "nbconvert_exporter": "python",
   "pygments_lexer": "ipython3",
   "version": "3.9.12"
  }
 },
 "nbformat": 4,
 "nbformat_minor": 5
}
