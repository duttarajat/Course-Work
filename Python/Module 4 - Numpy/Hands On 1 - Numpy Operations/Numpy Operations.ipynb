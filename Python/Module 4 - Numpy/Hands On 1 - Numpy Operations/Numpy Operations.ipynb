{
 "cells": [
  {
   "cell_type": "markdown",
   "id": "06206300",
   "metadata": {},
   "source": [
    "# Step 4: Import numpy by typing the following code in the notebook and run it by pressing shift + enter"
   ]
  },
  {
   "cell_type": "code",
   "execution_count": 1,
   "id": "fcd4e01a",
   "metadata": {},
   "outputs": [],
   "source": [
    "import numpy as np"
   ]
  },
  {
   "cell_type": "markdown",
   "id": "4966f586",
   "metadata": {},
   "source": [
    "# Step 5: Create np array of zeroes of size (2, 3) run the following code."
   ]
  },
  {
   "cell_type": "code",
   "execution_count": 2,
   "id": "cabea333",
   "metadata": {},
   "outputs": [
    {
     "data": {
      "text/plain": [
       "array([[0., 0., 0.],\n",
       "       [0., 0., 0.]])"
      ]
     },
     "execution_count": 2,
     "metadata": {},
     "output_type": "execute_result"
    }
   ],
   "source": [
    "np.zeros((2, 3))"
   ]
  },
  {
   "cell_type": "markdown",
   "id": "81ed78c2",
   "metadata": {},
   "source": [
    "# Step 6: Flatten 2D np Array to 1d np array."
   ]
  },
  {
   "cell_type": "code",
   "execution_count": 3,
   "id": "d83630d5",
   "metadata": {},
   "outputs": [
    {
     "data": {
      "text/plain": [
       "array([1, 2, 3, 4, 5, 6])"
      ]
     },
     "execution_count": 3,
     "metadata": {},
     "output_type": "execute_result"
    }
   ],
   "source": [
    "ar = np.array([[1, 2, 3], [4, 5, 6]])\n",
    "ar.ravel()"
   ]
  },
  {
   "cell_type": "markdown",
   "id": "6e182717",
   "metadata": {},
   "source": [
    "# Step 7: Convert 1D np Array to 2d np array from a python list:"
   ]
  },
  {
   "cell_type": "code",
   "execution_count": 4,
   "id": "5f7b2209",
   "metadata": {},
   "outputs": [
    {
     "data": {
      "text/plain": [
       "array([[1, 2, 3],\n",
       "       [4, 5, 6]])"
      ]
     },
     "execution_count": 4,
     "metadata": {},
     "output_type": "execute_result"
    }
   ],
   "source": [
    "ar = np.array([[1, 2, 3, 4, 5, 6]])\n",
    "ar.reshape((2, 3))"
   ]
  },
  {
   "cell_type": "markdown",
   "id": "31783ef5",
   "metadata": {},
   "source": [
    "# Step 8: Create np array and sort"
   ]
  },
  {
   "cell_type": "code",
   "execution_count": 5,
   "id": "5fac1983",
   "metadata": {},
   "outputs": [
    {
     "data": {
      "text/plain": [
       "array([1, 2, 3, 4, 5, 6])"
      ]
     },
     "execution_count": 5,
     "metadata": {},
     "output_type": "execute_result"
    }
   ],
   "source": [
    "ar = np.array([1, 3, 4, 6, 5, 2])\n",
    "ar.sort()\n",
    "ar"
   ]
  },
  {
   "cell_type": "markdown",
   "id": "043694bc",
   "metadata": {},
   "source": [
    "# Step 9: Slice an np array to create another array without the first two elements of the original array"
   ]
  },
  {
   "cell_type": "code",
   "execution_count": 6,
   "id": "20645d1b",
   "metadata": {},
   "outputs": [
    {
     "data": {
      "text/plain": [
       "array([3, 4, 5, 6])"
      ]
     },
     "execution_count": 6,
     "metadata": {},
     "output_type": "execute_result"
    }
   ],
   "source": [
    "ar[2:]"
   ]
  }
 ],
 "metadata": {
  "kernelspec": {
   "display_name": "Python 3 (ipykernel)",
   "language": "python",
   "name": "python3"
  },
  "language_info": {
   "codemirror_mode": {
    "name": "ipython",
    "version": 3
   },
   "file_extension": ".py",
   "mimetype": "text/x-python",
   "name": "python",
   "nbconvert_exporter": "python",
   "pygments_lexer": "ipython3",
   "version": "3.9.7"
  }
 },
 "nbformat": 4,
 "nbformat_minor": 5
}
