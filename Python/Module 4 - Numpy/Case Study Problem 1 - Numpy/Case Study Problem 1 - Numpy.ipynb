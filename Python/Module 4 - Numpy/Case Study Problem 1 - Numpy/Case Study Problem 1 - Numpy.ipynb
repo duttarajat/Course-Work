{
 "cells": [
  {
   "cell_type": "markdown",
   "id": "bb04122e",
   "metadata": {},
   "source": [
    "# Module 4 - Case Study Problem 1 - Numpy"
   ]
  },
  {
   "cell_type": "raw",
   "id": "3ce11bd8",
   "metadata": {},
   "source": [
    "1. Create a function that takes dimensions as tuples e.g.(3, 3) and a numeric value and returns a\n",
    "Numpy array of the given dimension filled with the given value e.g.: solve((3, 3), 5) will return\n",
    "[\n",
    " [5, 5, 5],\n",
    " [5, 5, 5],\n",
    " [5, 5, 5]\n",
    "]"
   ]
  },
  {
   "cell_type": "code",
   "execution_count": 1,
   "id": "038909cc",
   "metadata": {},
   "outputs": [
    {
     "name": "stdout",
     "output_type": "stream",
     "text": [
      "3\n",
      "3\n",
      "[[5 5 5]\n",
      " [5 5 5]\n",
      " [5 5 5]]\n"
     ]
    }
   ],
   "source": [
    "import numpy as np\n",
    "\n",
    "def solve():\n",
    "    y=[]\n",
    "    for i in range(2):\n",
    "        y.append(int(input()))\n",
    "    a=tuple(y)\n",
    "    b=np.full(a,5)\n",
    "    return b\n",
    "print(solve())"
   ]
  },
  {
   "cell_type": "code",
   "execution_count": null,
   "id": "e2f3cb7a",
   "metadata": {},
   "outputs": [],
   "source": []
  },
  {
   "cell_type": "raw",
   "id": "a8c9489f",
   "metadata": {},
   "source": [
    "2. Create a method that takes n Numpy arrays of same dimensions sums them and return the answer."
   ]
  },
  {
   "cell_type": "code",
   "execution_count": 2,
   "id": "4d17405c",
   "metadata": {},
   "outputs": [
    {
     "data": {
      "text/plain": [
       "array([[ 6, 19, 14],\n",
       "       [20, 13, 13],\n",
       "       [19, 12, 15]])"
      ]
     },
     "execution_count": 2,
     "metadata": {},
     "output_type": "execute_result"
    }
   ],
   "source": [
    "ar1 = np.random.randint(0,9,(3,3)) \n",
    "ar2 = np.random.randint(0,9,(3,3))\n",
    "ar3 = np.random.randint(0,9,(3,3))\n",
    "\n",
    "def ar_sum():\n",
    "    ar4 = ar1 + ar2 + ar3\n",
    "    return ar4\n",
    "\n",
    "ar_sum()"
   ]
  },
  {
   "cell_type": "code",
   "execution_count": null,
   "id": "7e5a5f0e",
   "metadata": {},
   "outputs": [],
   "source": []
  },
  {
   "cell_type": "raw",
   "id": "d82c6888",
   "metadata": {},
   "source": [
    "3. Given a 2 D Array of N X M Dimension, Write a function that accepts this array as well as two\n",
    "numbers N and M. The method should return the top-left N X M sub matrix e.g:\n",
    " [\n",
    " [1, 2, 3],\n",
    " [4, 5, 6],\n",
    " [7, 8, 9],\n",
    " ]\n",
    "top_left_sub_matrix (matrix, 2, 2) -> should return:\n",
    " [\n",
    " [1, 2]\n",
    " [4, 5]\n",
    " ]"
   ]
  },
  {
   "cell_type": "code",
   "execution_count": 3,
   "id": "fef4111b",
   "metadata": {},
   "outputs": [
    {
     "name": "stdout",
     "output_type": "stream",
     "text": [
      "[[95 60 18]\n",
      " [27 91  1]\n",
      " [85 38 23]]\n",
      "[[95 60]\n",
      " [27 91]]\n"
     ]
    }
   ],
   "source": [
    "ar = np.random.randint(0,100,(3,3))\n",
    "\n",
    "def top_left(ar,m,n):\n",
    "    print(ar)\n",
    "    print(ar[0:m,:n])\n",
    "\n",
    "top_left(ar,2,2)"
   ]
  },
  {
   "cell_type": "code",
   "execution_count": null,
   "id": "c30dc489",
   "metadata": {},
   "outputs": [],
   "source": []
  },
  {
   "cell_type": "raw",
   "id": "4410f21a",
   "metadata": {},
   "source": [
    "4. Given a 2 D Array of N X M Dimension, Write a function that accepts this array as well as two\n",
    "numbers N and M The method should return the bottom-right N X M sub matrix e.g.:\n",
    " [\n",
    " [1, 2, 3],\n",
    " [4, 5, 6],\n",
    " [7, 8, 9],\n",
    " ]\n",
    "sub_matrix(matrix, 1, 1) -> should return : (Keep in mind these arrays are zero indexed)\n",
    " [\n",
    " [5, 6]\n",
    " [8, 9]\n",
    " ]"
   ]
  },
  {
   "cell_type": "code",
   "execution_count": 4,
   "id": "68f2300e",
   "metadata": {},
   "outputs": [
    {
     "name": "stdout",
     "output_type": "stream",
     "text": [
      "[[64 75 90]\n",
      " [72 21 64]\n",
      " [85 17 16]]\n",
      "[[21 64]\n",
      " [17 16]]\n"
     ]
    }
   ],
   "source": [
    "ar = np.random.randint(0,100,(3,3))\n",
    "\n",
    "def bot_rt(ar,m,n):\n",
    "    print(ar)\n",
    "    print(ar[m:,n:])\n",
    "\n",
    "bot_rt(ar,1,1)"
   ]
  },
  {
   "cell_type": "code",
   "execution_count": null,
   "id": "94fb8bd1",
   "metadata": {},
   "outputs": [],
   "source": []
  },
  {
   "cell_type": "raw",
   "id": "a315c32e",
   "metadata": {},
   "source": [
    "5. Given a 1 D Numpy Array. Write a function that accepts this array as parameters. The method\n",
    "should return a dictionary with 'mean' and 'std_dev' as key and array's mean and array's\n",
    "standard deviation as values:\n",
    " [1, 1, 1]\n",
    "solution(arr) -> should return :\n",
    " {'mean': 1.0, 'std_dev': 0.0}"
   ]
  },
  {
   "cell_type": "code",
   "execution_count": 5,
   "id": "daaf0ce3",
   "metadata": {},
   "outputs": [
    {
     "data": {
      "text/plain": [
       "{'Mean': 1.0, 'std_dev': 0.0}"
      ]
     },
     "execution_count": 5,
     "metadata": {},
     "output_type": "execute_result"
    }
   ],
   "source": [
    "ar=np.array([1,1,1])\n",
    "\n",
    "def mn_sd():\n",
    "    mn = np.mean(ar)\n",
    "    sd = np.std(ar)\n",
    "    res = {\"Mean\":mn,\"std_dev\":sd}\n",
    "    return res\n",
    "\n",
    "mn_sd()"
   ]
  }
 ],
 "metadata": {
  "kernelspec": {
   "display_name": "Python 3 (ipykernel)",
   "language": "python",
   "name": "python3"
  },
  "language_info": {
   "codemirror_mode": {
    "name": "ipython",
    "version": 3
   },
   "file_extension": ".py",
   "mimetype": "text/x-python",
   "name": "python",
   "nbconvert_exporter": "python",
   "pygments_lexer": "ipython3",
   "version": "3.9.12"
  }
 },
 "nbformat": 4,
 "nbformat_minor": 5
}
