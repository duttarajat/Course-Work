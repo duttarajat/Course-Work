{
 "cells": [
  {
   "cell_type": "markdown",
   "id": "a62d08fb",
   "metadata": {},
   "source": [
    "# Module 9 - Unsupervised Learning - Assignment 5 - Association Rule Mining"
   ]
  },
  {
   "cell_type": "raw",
   "id": "d7e862ff",
   "metadata": {},
   "source": [
    "You work in XYZ Company as a Python. The company officials want you to write code for a Association Rule Mining\n",
    "Dataset: retail_dataset.csv\n",
    "Tasks to be performed:\n",
    "    - Using pandas import the dataset as dataframe\n",
    "    - Install the mlxtend library to use apriory and association rule mining\n",
    "    - Using the apriori algorithm generate a list of item frequently brought together\n",
    "    - Generate the association rules for the given items from apriori algorithm"
   ]
  },
  {
   "cell_type": "code",
   "execution_count": 1,
   "id": "a448dc8a",
   "metadata": {},
   "outputs": [
    {
     "data": {
      "text/html": [
       "<div>\n",
       "<style scoped>\n",
       "    .dataframe tbody tr th:only-of-type {\n",
       "        vertical-align: middle;\n",
       "    }\n",
       "\n",
       "    .dataframe tbody tr th {\n",
       "        vertical-align: top;\n",
       "    }\n",
       "\n",
       "    .dataframe thead th {\n",
       "        text-align: right;\n",
       "    }\n",
       "</style>\n",
       "<table border=\"1\" class=\"dataframe\">\n",
       "  <thead>\n",
       "    <tr style=\"text-align: right;\">\n",
       "      <th></th>\n",
       "      <th>Transactions from the Database</th>\n",
       "      <th>Unnamed: 1</th>\n",
       "      <th>Unnamed: 2</th>\n",
       "      <th>#Transactions in which\\r\\n the item is bought</th>\n",
       "      <th>Support</th>\n",
       "      <th>Unnamed: 5</th>\n",
       "    </tr>\n",
       "  </thead>\n",
       "  <tbody>\n",
       "    <tr>\n",
       "      <th>0</th>\n",
       "      <td>1 : { Pencils, Markers, Highlighters, Papers}</td>\n",
       "      <td>NaN</td>\n",
       "      <td>Pencils</td>\n",
       "      <td>2.0</td>\n",
       "      <td>0.2</td>\n",
       "      <td>NaN</td>\n",
       "    </tr>\n",
       "    <tr>\n",
       "      <th>1</th>\n",
       "      <td>2 : {Markers, Erasers}</td>\n",
       "      <td>NaN</td>\n",
       "      <td>Markers</td>\n",
       "      <td>6.0</td>\n",
       "      <td>0.6</td>\n",
       "      <td>NaN</td>\n",
       "    </tr>\n",
       "    <tr>\n",
       "      <th>2</th>\n",
       "      <td>3 : {Stapler Pins, Papers, Erasers, Card Holde...</td>\n",
       "      <td>NaN</td>\n",
       "      <td>Highlighters</td>\n",
       "      <td>3.0</td>\n",
       "      <td>0.3</td>\n",
       "      <td>NaN</td>\n",
       "    </tr>\n",
       "    <tr>\n",
       "      <th>3</th>\n",
       "      <td>4 : {Papers, Erasers, Cad Holders}</td>\n",
       "      <td>NaN</td>\n",
       "      <td>Papers</td>\n",
       "      <td>4.0</td>\n",
       "      <td>0.4</td>\n",
       "      <td>NaN</td>\n",
       "    </tr>\n",
       "    <tr>\n",
       "      <th>4</th>\n",
       "      <td>5 : {Markers, Post-it, Erasers}</td>\n",
       "      <td>NaN</td>\n",
       "      <td>Erasers</td>\n",
       "      <td>7.0</td>\n",
       "      <td>0.7</td>\n",
       "      <td>NaN</td>\n",
       "    </tr>\n",
       "    <tr>\n",
       "      <th>5</th>\n",
       "      <td>6 : {Envelop}</td>\n",
       "      <td>NaN</td>\n",
       "      <td>Stapler Pins</td>\n",
       "      <td>3.0</td>\n",
       "      <td>0.3</td>\n",
       "      <td>NaN</td>\n",
       "    </tr>\n",
       "    <tr>\n",
       "      <th>6</th>\n",
       "      <td>7 : {Markers, Erasers}</td>\n",
       "      <td>NaN</td>\n",
       "      <td>Card Holders</td>\n",
       "      <td>2.0</td>\n",
       "      <td>0.2</td>\n",
       "      <td>NaN</td>\n",
       "    </tr>\n",
       "    <tr>\n",
       "      <th>7</th>\n",
       "      <td>8 : {Pencils, Markers, StaplerPins, Post-it, H...</td>\n",
       "      <td>NaN</td>\n",
       "      <td>Post-it</td>\n",
       "      <td>3.0</td>\n",
       "      <td>0.3</td>\n",
       "      <td>NaN</td>\n",
       "    </tr>\n",
       "    <tr>\n",
       "      <th>8</th>\n",
       "      <td>9 : {StaplerPins, Post-it, Markers, Erasers}</td>\n",
       "      <td>NaN</td>\n",
       "      <td>Envelop</td>\n",
       "      <td>2.0</td>\n",
       "      <td>0.2</td>\n",
       "      <td>NaN</td>\n",
       "    </tr>\n",
       "    <tr>\n",
       "      <th>9</th>\n",
       "      <td>10 : {Envelop}</td>\n",
       "      <td>NaN</td>\n",
       "      <td>NaN</td>\n",
       "      <td>NaN</td>\n",
       "      <td>NaN</td>\n",
       "      <td>NaN</td>\n",
       "    </tr>\n",
       "    <tr>\n",
       "      <th>10</th>\n",
       "      <td>NaN</td>\n",
       "      <td>NaN</td>\n",
       "      <td>Markers,Erasers</td>\n",
       "      <td>5.0</td>\n",
       "      <td>0.5</td>\n",
       "      <td>NaN</td>\n",
       "    </tr>\n",
       "    <tr>\n",
       "      <th>11</th>\n",
       "      <td>NaN</td>\n",
       "      <td>NaN</td>\n",
       "      <td>NaN</td>\n",
       "      <td>NaN</td>\n",
       "      <td>NaN</td>\n",
       "      <td>NaN</td>\n",
       "    </tr>\n",
       "    <tr>\n",
       "      <th>12</th>\n",
       "      <td>NaN</td>\n",
       "      <td>NaN</td>\n",
       "      <td>NaN</td>\n",
       "      <td>NaN</td>\n",
       "      <td>NaN</td>\n",
       "      <td>NaN</td>\n",
       "    </tr>\n",
       "    <tr>\n",
       "      <th>13</th>\n",
       "      <td>NaN</td>\n",
       "      <td>NaN</td>\n",
       "      <td>NaN</td>\n",
       "      <td>NaN</td>\n",
       "      <td>NaN</td>\n",
       "      <td>NaN</td>\n",
       "    </tr>\n",
       "  </tbody>\n",
       "</table>\n",
       "</div>"
      ],
      "text/plain": [
       "                       Transactions from the Database  Unnamed: 1  \\\n",
       "0       1 : { Pencils, Markers, Highlighters, Papers}         NaN   \n",
       "1                              2 : {Markers, Erasers}         NaN   \n",
       "2   3 : {Stapler Pins, Papers, Erasers, Card Holde...         NaN   \n",
       "3                  4 : {Papers, Erasers, Cad Holders}         NaN   \n",
       "4                     5 : {Markers, Post-it, Erasers}         NaN   \n",
       "5                                       6 : {Envelop}         NaN   \n",
       "6                              7 : {Markers, Erasers}         NaN   \n",
       "7   8 : {Pencils, Markers, StaplerPins, Post-it, H...         NaN   \n",
       "8        9 : {StaplerPins, Post-it, Markers, Erasers}         NaN   \n",
       "9                                      10 : {Envelop}         NaN   \n",
       "10                                                NaN         NaN   \n",
       "11                                                NaN         NaN   \n",
       "12                                                NaN         NaN   \n",
       "13                                                NaN         NaN   \n",
       "\n",
       "         Unnamed: 2  #Transactions in which\\r\\n the item is bought  Support  \\\n",
       "0           Pencils                                            2.0      0.2   \n",
       "1           Markers                                            6.0      0.6   \n",
       "2      Highlighters                                            3.0      0.3   \n",
       "3            Papers                                            4.0      0.4   \n",
       "4           Erasers                                            7.0      0.7   \n",
       "5      Stapler Pins                                            3.0      0.3   \n",
       "6      Card Holders                                            2.0      0.2   \n",
       "7           Post-it                                            3.0      0.3   \n",
       "8           Envelop                                            2.0      0.2   \n",
       "9               NaN                                            NaN      NaN   \n",
       "10  Markers,Erasers                                            5.0      0.5   \n",
       "11              NaN                                            NaN      NaN   \n",
       "12              NaN                                            NaN      NaN   \n",
       "13              NaN                                            NaN      NaN   \n",
       "\n",
       "    Unnamed: 5  \n",
       "0          NaN  \n",
       "1          NaN  \n",
       "2          NaN  \n",
       "3          NaN  \n",
       "4          NaN  \n",
       "5          NaN  \n",
       "6          NaN  \n",
       "7          NaN  \n",
       "8          NaN  \n",
       "9          NaN  \n",
       "10         NaN  \n",
       "11         NaN  \n",
       "12         NaN  \n",
       "13         NaN  "
      ]
     },
     "execution_count": 1,
     "metadata": {},
     "output_type": "execute_result"
    }
   ],
   "source": [
    "import pandas as pd\n",
    "data = pd.read_csv('Retail1.csv')\n",
    "data"
   ]
  },
  {
   "cell_type": "code",
   "execution_count": 2,
   "id": "a33f42dd",
   "metadata": {},
   "outputs": [],
   "source": [
    "data.rename(columns = {'Transactions from the Database':'Transactions'}, inplace = True)\n",
    "data = data.drop(['Unnamed: 1', 'Unnamed: 5'], axis = 1)\n",
    "data.dropna(how = 'all', inplace = True)"
   ]
  },
  {
   "cell_type": "code",
   "execution_count": 3,
   "id": "407d13b2",
   "metadata": {},
   "outputs": [
    {
     "data": {
      "text/html": [
       "<div>\n",
       "<style scoped>\n",
       "    .dataframe tbody tr th:only-of-type {\n",
       "        vertical-align: middle;\n",
       "    }\n",
       "\n",
       "    .dataframe tbody tr th {\n",
       "        vertical-align: top;\n",
       "    }\n",
       "\n",
       "    .dataframe thead th {\n",
       "        text-align: right;\n",
       "    }\n",
       "</style>\n",
       "<table border=\"1\" class=\"dataframe\">\n",
       "  <thead>\n",
       "    <tr style=\"text-align: right;\">\n",
       "      <th></th>\n",
       "      <th>Transactions</th>\n",
       "      <th>Unnamed: 2</th>\n",
       "      <th>#Transactions in which\\r\\n the item is bought</th>\n",
       "      <th>Support</th>\n",
       "    </tr>\n",
       "  </thead>\n",
       "  <tbody>\n",
       "    <tr>\n",
       "      <th>0</th>\n",
       "      <td>1 : { Pencils, Markers, Highlighters, Papers}</td>\n",
       "      <td>Pencils</td>\n",
       "      <td>2.0</td>\n",
       "      <td>0.2</td>\n",
       "    </tr>\n",
       "    <tr>\n",
       "      <th>1</th>\n",
       "      <td>2 : {Markers, Erasers}</td>\n",
       "      <td>Markers</td>\n",
       "      <td>6.0</td>\n",
       "      <td>0.6</td>\n",
       "    </tr>\n",
       "    <tr>\n",
       "      <th>2</th>\n",
       "      <td>3 : {Stapler Pins, Papers, Erasers, Card Holde...</td>\n",
       "      <td>Highlighters</td>\n",
       "      <td>3.0</td>\n",
       "      <td>0.3</td>\n",
       "    </tr>\n",
       "    <tr>\n",
       "      <th>3</th>\n",
       "      <td>4 : {Papers, Erasers, Cad Holders}</td>\n",
       "      <td>Papers</td>\n",
       "      <td>4.0</td>\n",
       "      <td>0.4</td>\n",
       "    </tr>\n",
       "    <tr>\n",
       "      <th>4</th>\n",
       "      <td>5 : {Markers, Post-it, Erasers}</td>\n",
       "      <td>Erasers</td>\n",
       "      <td>7.0</td>\n",
       "      <td>0.7</td>\n",
       "    </tr>\n",
       "    <tr>\n",
       "      <th>5</th>\n",
       "      <td>6 : {Envelop}</td>\n",
       "      <td>Stapler Pins</td>\n",
       "      <td>3.0</td>\n",
       "      <td>0.3</td>\n",
       "    </tr>\n",
       "    <tr>\n",
       "      <th>6</th>\n",
       "      <td>7 : {Markers, Erasers}</td>\n",
       "      <td>Card Holders</td>\n",
       "      <td>2.0</td>\n",
       "      <td>0.2</td>\n",
       "    </tr>\n",
       "    <tr>\n",
       "      <th>7</th>\n",
       "      <td>8 : {Pencils, Markers, StaplerPins, Post-it, H...</td>\n",
       "      <td>Post-it</td>\n",
       "      <td>3.0</td>\n",
       "      <td>0.3</td>\n",
       "    </tr>\n",
       "    <tr>\n",
       "      <th>8</th>\n",
       "      <td>9 : {StaplerPins, Post-it, Markers, Erasers}</td>\n",
       "      <td>Envelop</td>\n",
       "      <td>2.0</td>\n",
       "      <td>0.2</td>\n",
       "    </tr>\n",
       "    <tr>\n",
       "      <th>9</th>\n",
       "      <td>10 : {Envelop}</td>\n",
       "      <td>NaN</td>\n",
       "      <td>NaN</td>\n",
       "      <td>NaN</td>\n",
       "    </tr>\n",
       "    <tr>\n",
       "      <th>10</th>\n",
       "      <td>NaN</td>\n",
       "      <td>Markers,Erasers</td>\n",
       "      <td>5.0</td>\n",
       "      <td>0.5</td>\n",
       "    </tr>\n",
       "  </tbody>\n",
       "</table>\n",
       "</div>"
      ],
      "text/plain": [
       "                                         Transactions       Unnamed: 2  \\\n",
       "0       1 : { Pencils, Markers, Highlighters, Papers}          Pencils   \n",
       "1                              2 : {Markers, Erasers}          Markers   \n",
       "2   3 : {Stapler Pins, Papers, Erasers, Card Holde...     Highlighters   \n",
       "3                  4 : {Papers, Erasers, Cad Holders}           Papers   \n",
       "4                     5 : {Markers, Post-it, Erasers}          Erasers   \n",
       "5                                       6 : {Envelop}     Stapler Pins   \n",
       "6                              7 : {Markers, Erasers}     Card Holders   \n",
       "7   8 : {Pencils, Markers, StaplerPins, Post-it, H...          Post-it   \n",
       "8        9 : {StaplerPins, Post-it, Markers, Erasers}          Envelop   \n",
       "9                                      10 : {Envelop}              NaN   \n",
       "10                                                NaN  Markers,Erasers   \n",
       "\n",
       "    #Transactions in which\\r\\n the item is bought  Support  \n",
       "0                                             2.0      0.2  \n",
       "1                                             6.0      0.6  \n",
       "2                                             3.0      0.3  \n",
       "3                                             4.0      0.4  \n",
       "4                                             7.0      0.7  \n",
       "5                                             3.0      0.3  \n",
       "6                                             2.0      0.2  \n",
       "7                                             3.0      0.3  \n",
       "8                                             2.0      0.2  \n",
       "9                                             NaN      NaN  \n",
       "10                                            5.0      0.5  "
      ]
     },
     "execution_count": 3,
     "metadata": {},
     "output_type": "execute_result"
    }
   ],
   "source": [
    "data"
   ]
  },
  {
   "cell_type": "code",
   "execution_count": 4,
   "id": "c64b160f",
   "metadata": {},
   "outputs": [
    {
     "data": {
      "text/plain": [
       "(11, 4)"
      ]
     },
     "execution_count": 4,
     "metadata": {},
     "output_type": "execute_result"
    }
   ],
   "source": [
    "data.shape"
   ]
  },
  {
   "cell_type": "code",
   "execution_count": 5,
   "id": "fe6085f2",
   "metadata": {},
   "outputs": [
    {
     "data": {
      "text/plain": [
       "[['1 : { Pencils, Markers, Highlighters, Papers}', 'Pencils', '2.0', '0.2'],\n",
       " ['2 : {Markers, Erasers}', 'Markers', '6.0', '0.6'],\n",
       " ['3 : {Stapler Pins, Papers, Erasers, Card Holders, Highlighters}',\n",
       "  'Highlighters',\n",
       "  '3.0',\n",
       "  '0.3'],\n",
       " ['4 : {Papers, Erasers, Cad Holders}', 'Papers', '4.0', '0.4'],\n",
       " ['5 : {Markers, Post-it, Erasers}', 'Erasers', '7.0', '0.7'],\n",
       " ['6 : {Envelop}', 'Stapler Pins', '3.0', '0.3'],\n",
       " ['7 : {Markers, Erasers}', 'Card Holders', '2.0', '0.2'],\n",
       " ['8 : {Pencils, Markers, StaplerPins, Post-it, Highlighter, Papers, Erasers}',\n",
       "  'Post-it',\n",
       "  '3.0',\n",
       "  '0.3'],\n",
       " ['9 : {StaplerPins, Post-it, Markers, Erasers}', 'Envelop', '2.0', '0.2'],\n",
       " ['10 : {Envelop}', 'nan', 'nan', 'nan'],\n",
       " ['nan', 'Markers,Erasers', '5.0', '0.5']]"
      ]
     },
     "execution_count": 5,
     "metadata": {},
     "output_type": "execute_result"
    }
   ],
   "source": [
    "readings = []\n",
    "for i in range(0,11):\n",
    "    readings.append([str(data.values[i,j]) for j in range(0,4)])\n",
    "readings"
   ]
  },
  {
   "cell_type": "code",
   "execution_count": null,
   "id": "d8460089",
   "metadata": {},
   "outputs": [],
   "source": []
  },
  {
   "cell_type": "raw",
   "id": "46cb21cf",
   "metadata": {},
   "source": [
    "    - Install the mixtend library to use apriory and association rule mining"
   ]
  },
  {
   "cell_type": "code",
   "execution_count": 6,
   "id": "c59f4f36",
   "metadata": {},
   "outputs": [
    {
     "name": "stdout",
     "output_type": "stream",
     "text": [
      "Requirement already satisfied: mlxtend in c:\\users\\dutta\\anaconda3\\lib\\site-packages (0.20.0)\n",
      "Requirement already satisfied: matplotlib>=3.0.0 in c:\\users\\dutta\\anaconda3\\lib\\site-packages (from mlxtend) (3.4.3)\n",
      "Requirement already satisfied: numpy>=1.16.2 in c:\\users\\dutta\\anaconda3\\lib\\site-packages (from mlxtend) (1.20.3)\n",
      "Requirement already satisfied: joblib>=0.13.2 in c:\\users\\dutta\\anaconda3\\lib\\site-packages (from mlxtend) (1.1.0)\n",
      "Requirement already satisfied: setuptools in c:\\users\\dutta\\anaconda3\\lib\\site-packages (from mlxtend) (58.0.4)\n",
      "Requirement already satisfied: scipy>=1.2.1 in c:\\users\\dutta\\anaconda3\\lib\\site-packages (from mlxtend) (1.7.1)\n",
      "Requirement already satisfied: scikit-learn>=1.0.2 in c:\\users\\dutta\\anaconda3\\lib\\site-packages (from mlxtend) (1.1.1)\n",
      "Requirement already satisfied: pandas>=0.24.2 in c:\\users\\dutta\\anaconda3\\lib\\site-packages (from mlxtend) (1.3.4)\n",
      "Requirement already satisfied: kiwisolver>=1.0.1 in c:\\users\\dutta\\anaconda3\\lib\\site-packages (from matplotlib>=3.0.0->mlxtend) (1.3.1)\n",
      "Requirement already satisfied: python-dateutil>=2.7 in c:\\users\\dutta\\anaconda3\\lib\\site-packages (from matplotlib>=3.0.0->mlxtend) (2.8.2)\n",
      "Requirement already satisfied: pyparsing>=2.2.1 in c:\\users\\dutta\\anaconda3\\lib\\site-packages (from matplotlib>=3.0.0->mlxtend) (3.0.4)\n",
      "Requirement already satisfied: pillow>=6.2.0 in c:\\users\\dutta\\anaconda3\\lib\\site-packages (from matplotlib>=3.0.0->mlxtend) (8.4.0)\n",
      "Requirement already satisfied: cycler>=0.10 in c:\\users\\dutta\\anaconda3\\lib\\site-packages (from matplotlib>=3.0.0->mlxtend) (0.10.0)\n",
      "Requirement already satisfied: pytz>=2017.3 in c:\\users\\dutta\\anaconda3\\lib\\site-packages (from pandas>=0.24.2->mlxtend) (2021.3)\n",
      "Requirement already satisfied: threadpoolctl>=2.0.0 in c:\\users\\dutta\\anaconda3\\lib\\site-packages (from scikit-learn>=1.0.2->mlxtend) (2.2.0)\n",
      "Requirement already satisfied: six in c:\\users\\dutta\\anaconda3\\lib\\site-packages (from cycler>=0.10->matplotlib>=3.0.0->mlxtend) (1.16.0)\n"
     ]
    }
   ],
   "source": [
    "!pip install mlxtend\n",
    "from apyori import apriori"
   ]
  },
  {
   "cell_type": "code",
   "execution_count": null,
   "id": "22e897b8",
   "metadata": {},
   "outputs": [],
   "source": []
  },
  {
   "cell_type": "raw",
   "id": "e7479662",
   "metadata": {},
   "source": [
    "    - Using the apriori algorithm generate a list of item frequently brought together"
   ]
  },
  {
   "cell_type": "code",
   "execution_count": 7,
   "id": "417b8236",
   "metadata": {},
   "outputs": [],
   "source": [
    "association_rules = apriori(readings, min_support = 0.09, min_confidence = 0.95, min_lift = 11, min_length = 10)\n",
    "association_results = list(association_rules)"
   ]
  },
  {
   "cell_type": "code",
   "execution_count": 8,
   "id": "99cf9545",
   "metadata": {},
   "outputs": [
    {
     "data": {
      "text/plain": [
       "65"
      ]
     },
     "execution_count": 8,
     "metadata": {},
     "output_type": "execute_result"
    }
   ],
   "source": [
    "len(association_results)"
   ]
  },
  {
   "cell_type": "code",
   "execution_count": null,
   "id": "4c12f132",
   "metadata": {},
   "outputs": [],
   "source": []
  },
  {
   "cell_type": "raw",
   "id": "ba0468aa",
   "metadata": {},
   "source": [
    "    - Generate the association rules for the given items from apriori algorithm"
   ]
  },
  {
   "cell_type": "code",
   "execution_count": 9,
   "id": "f0cd9c2e",
   "metadata": {},
   "outputs": [
    {
     "data": {
      "text/plain": [
       "RelationRecord(items=frozenset({'4 : {Papers, Erasers, Cad Holders}', '0.4'}), support=0.09090909090909091, ordered_statistics=[OrderedStatistic(items_base=frozenset({'0.4'}), items_add=frozenset({'4 : {Papers, Erasers, Cad Holders}'}), confidence=1.0, lift=11.0), OrderedStatistic(items_base=frozenset({'4 : {Papers, Erasers, Cad Holders}'}), items_add=frozenset({'0.4'}), confidence=1.0, lift=11.0)])"
      ]
     },
     "execution_count": 9,
     "metadata": {},
     "output_type": "execute_result"
    }
   ],
   "source": [
    "association_results[0]"
   ]
  },
  {
   "cell_type": "code",
   "execution_count": 10,
   "id": "7aa930a2",
   "metadata": {},
   "outputs": [
    {
     "data": {
      "text/plain": [
       "RelationRecord(items=frozenset({'2 : {Markers, Erasers}', '0.6'}), support=0.09090909090909091, ordered_statistics=[OrderedStatistic(items_base=frozenset({'0.6'}), items_add=frozenset({'2 : {Markers, Erasers}'}), confidence=1.0, lift=11.0), OrderedStatistic(items_base=frozenset({'2 : {Markers, Erasers}'}), items_add=frozenset({'0.6'}), confidence=1.0, lift=11.0)])"
      ]
     },
     "execution_count": 10,
     "metadata": {},
     "output_type": "execute_result"
    }
   ],
   "source": [
    "association_results[5]"
   ]
  },
  {
   "cell_type": "code",
   "execution_count": 11,
   "id": "eaa67b18",
   "metadata": {},
   "outputs": [
    {
     "data": {
      "text/plain": [
       "RelationRecord(items=frozenset({'Erasers', '0.7'}), support=0.09090909090909091, ordered_statistics=[OrderedStatistic(items_base=frozenset({'0.7'}), items_add=frozenset({'Erasers'}), confidence=1.0, lift=11.0), OrderedStatistic(items_base=frozenset({'Erasers'}), items_add=frozenset({'0.7'}), confidence=1.0, lift=11.0)])"
      ]
     },
     "execution_count": 11,
     "metadata": {},
     "output_type": "execute_result"
    }
   ],
   "source": [
    "association_results[10]"
   ]
  },
  {
   "cell_type": "code",
   "execution_count": 12,
   "id": "c46a3b50",
   "metadata": {},
   "outputs": [
    {
     "data": {
      "text/plain": [
       "RelationRecord(items=frozenset({'8 : {Pencils, Markers, StaplerPins, Post-it, Highlighter, Papers, Erasers}', 'Post-it'}), support=0.09090909090909091, ordered_statistics=[OrderedStatistic(items_base=frozenset({'8 : {Pencils, Markers, StaplerPins, Post-it, Highlighter, Papers, Erasers}'}), items_add=frozenset({'Post-it'}), confidence=1.0, lift=11.0), OrderedStatistic(items_base=frozenset({'Post-it'}), items_add=frozenset({'8 : {Pencils, Markers, StaplerPins, Post-it, Highlighter, Papers, Erasers}'}), confidence=1.0, lift=11.0)])"
      ]
     },
     "execution_count": 12,
     "metadata": {},
     "output_type": "execute_result"
    }
   ],
   "source": [
    "association_results[25]"
   ]
  },
  {
   "cell_type": "code",
   "execution_count": 13,
   "id": "52ee9cc4",
   "metadata": {},
   "outputs": [
    {
     "data": {
      "text/plain": [
       "RelationRecord(items=frozenset({'Stapler Pins', '6 : {Envelop}', '3.0'}), support=0.09090909090909091, ordered_statistics=[OrderedStatistic(items_base=frozenset({'6 : {Envelop}'}), items_add=frozenset({'Stapler Pins', '3.0'}), confidence=1.0, lift=11.0), OrderedStatistic(items_base=frozenset({'Stapler Pins'}), items_add=frozenset({'6 : {Envelop}', '3.0'}), confidence=1.0, lift=11.0), OrderedStatistic(items_base=frozenset({'6 : {Envelop}', '3.0'}), items_add=frozenset({'Stapler Pins'}), confidence=1.0, lift=11.0), OrderedStatistic(items_base=frozenset({'Stapler Pins', '3.0'}), items_add=frozenset({'6 : {Envelop}'}), confidence=1.0, lift=11.0)])"
      ]
     },
     "execution_count": 13,
     "metadata": {},
     "output_type": "execute_result"
    }
   ],
   "source": [
    "association_results[50]"
   ]
  },
  {
   "cell_type": "code",
   "execution_count": 14,
   "id": "858201da",
   "metadata": {},
   "outputs": [
    {
     "data": {
      "text/plain": [
       "RelationRecord(items=frozenset({'Erasers', '5 : {Markers, Post-it, Erasers}', '7.0', '0.7'}), support=0.09090909090909091, ordered_statistics=[OrderedStatistic(items_base=frozenset({'0.7'}), items_add=frozenset({'Erasers', '5 : {Markers, Post-it, Erasers}', '7.0'}), confidence=1.0, lift=11.0), OrderedStatistic(items_base=frozenset({'5 : {Markers, Post-it, Erasers}'}), items_add=frozenset({'Erasers', '7.0', '0.7'}), confidence=1.0, lift=11.0), OrderedStatistic(items_base=frozenset({'7.0'}), items_add=frozenset({'Erasers', '5 : {Markers, Post-it, Erasers}', '0.7'}), confidence=1.0, lift=11.0), OrderedStatistic(items_base=frozenset({'Erasers'}), items_add=frozenset({'5 : {Markers, Post-it, Erasers}', '7.0', '0.7'}), confidence=1.0, lift=11.0), OrderedStatistic(items_base=frozenset({'5 : {Markers, Post-it, Erasers}', '0.7'}), items_add=frozenset({'Erasers', '7.0'}), confidence=1.0, lift=11.0), OrderedStatistic(items_base=frozenset({'7.0', '0.7'}), items_add=frozenset({'Erasers', '5 : {Markers, Post-it, Erasers}'}), confidence=1.0, lift=11.0), OrderedStatistic(items_base=frozenset({'Erasers', '0.7'}), items_add=frozenset({'5 : {Markers, Post-it, Erasers}', '7.0'}), confidence=1.0, lift=11.0), OrderedStatistic(items_base=frozenset({'5 : {Markers, Post-it, Erasers}', '7.0'}), items_add=frozenset({'Erasers', '0.7'}), confidence=1.0, lift=11.0), OrderedStatistic(items_base=frozenset({'Erasers', '5 : {Markers, Post-it, Erasers}'}), items_add=frozenset({'7.0', '0.7'}), confidence=1.0, lift=11.0), OrderedStatistic(items_base=frozenset({'Erasers', '7.0'}), items_add=frozenset({'5 : {Markers, Post-it, Erasers}', '0.7'}), confidence=1.0, lift=11.0), OrderedStatistic(items_base=frozenset({'5 : {Markers, Post-it, Erasers}', '7.0', '0.7'}), items_add=frozenset({'Erasers'}), confidence=1.0, lift=11.0), OrderedStatistic(items_base=frozenset({'Erasers', '5 : {Markers, Post-it, Erasers}', '0.7'}), items_add=frozenset({'7.0'}), confidence=1.0, lift=11.0), OrderedStatistic(items_base=frozenset({'Erasers', '7.0', '0.7'}), items_add=frozenset({'5 : {Markers, Post-it, Erasers}'}), confidence=1.0, lift=11.0), OrderedStatistic(items_base=frozenset({'Erasers', '5 : {Markers, Post-it, Erasers}', '7.0'}), items_add=frozenset({'0.7'}), confidence=1.0, lift=11.0)])"
      ]
     },
     "execution_count": 14,
     "metadata": {},
     "output_type": "execute_result"
    }
   ],
   "source": [
    "association_results[64]"
   ]
  }
 ],
 "metadata": {
  "kernelspec": {
   "display_name": "Python 3 (ipykernel)",
   "language": "python",
   "name": "python3"
  },
  "language_info": {
   "codemirror_mode": {
    "name": "ipython",
    "version": 3
   },
   "file_extension": ".py",
   "mimetype": "text/x-python",
   "name": "python",
   "nbconvert_exporter": "python",
   "pygments_lexer": "ipython3",
   "version": "3.9.7"
  }
 },
 "nbformat": 4,
 "nbformat_minor": 5
}
