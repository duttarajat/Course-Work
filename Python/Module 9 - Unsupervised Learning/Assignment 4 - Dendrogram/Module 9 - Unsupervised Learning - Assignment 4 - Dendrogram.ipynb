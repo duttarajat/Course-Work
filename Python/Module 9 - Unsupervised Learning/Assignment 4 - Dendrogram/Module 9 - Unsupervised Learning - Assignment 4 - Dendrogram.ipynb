{
 "cells": [
  {
   "cell_type": "markdown",
   "id": "a5f3a03f",
   "metadata": {},
   "source": [
    "# Module 9 - Unsupervised Learning - Assignment 4 - Dendrogram"
   ]
  },
  {
   "cell_type": "code",
   "execution_count": 1,
   "id": "33005b9a",
   "metadata": {},
   "outputs": [],
   "source": [
    "import numpy as np\n",
    "import pandas as pd\n",
    "import matplotlib.pyplot as plt\n",
    "import seaborn as sns\n",
    "from sklearn.cluster import AgglomerativeClustering\n",
    "import scipy.cluster.hierarchy as shc"
   ]
  },
  {
   "cell_type": "raw",
   "id": "7f0dd819",
   "metadata": {},
   "source": [
    "You work in XYZ Company as a Python. The company officials want you to write code for a Agglomerative Clustering Problem.\n",
    "Data:[[5,3],[10,15],[15,12],[24,10],[30,30],[85,70],[71,80],[60,78],[70,55],[80,91]]\n",
    "Tasks to be performed:\n",
    "     Using the np.array function create an np array from the data given above.\n",
    "     Generate a scatter plot for the data.\n",
    "     Plot dendrogram to visualize the clustering linkage"
   ]
  },
  {
   "cell_type": "code",
   "execution_count": 2,
   "id": "c478df65",
   "metadata": {},
   "outputs": [],
   "source": [
    "data = np.array([[5,3],[10,15],[15,12],[24,10],[30,30],[85,70],[71,80],[60,78],[70,55],[80,91],])\n",
    "data = pd.DataFrame(data, columns = ['X', 'Y'])"
   ]
  },
  {
   "cell_type": "code",
   "execution_count": null,
   "id": "571bd48a",
   "metadata": {},
   "outputs": [],
   "source": []
  },
  {
   "cell_type": "raw",
   "id": "aec98578",
   "metadata": {},
   "source": [
    "     Generate a scatter plot for the data."
   ]
  },
  {
   "cell_type": "code",
   "execution_count": 3,
   "id": "c5116011",
   "metadata": {},
   "outputs": [
    {
     "data": {
      "image/png": "[encoded data removed]",
      "text/plain": [
       "<Figure size 432x288 with 1 Axes>"
      ]
     },
     "metadata": {
      "needs_background": "light"
     },
     "output_type": "display_data"
    }
   ],
   "source": [
    "sns.scatterplot(data = data, x = 'X',y = 'Y')\n",
    "plt.show()"
   ]
  },
  {
   "cell_type": "code",
   "execution_count": null,
   "id": "3d638bae",
   "metadata": {},
   "outputs": [],
   "source": []
  },
  {
   "cell_type": "raw",
   "id": "e878f6cb",
   "metadata": {},
   "source": [
    "     Plot dendrogram to visualize the clustering linkage"
   ]
  },
  {
   "cell_type": "code",
   "execution_count": 4,
   "id": "0deb40ed",
   "metadata": {},
   "outputs": [
    {
     "data": {
      "image/png": "[encoded data removed]",
      "text/plain": [
       "<Figure size 432x288 with 1 Axes>"
      ]
     },
     "metadata": {
      "needs_background": "light"
     },
     "output_type": "display_data"
    }
   ],
   "source": [
    "shc.dendrogram(shc.linkage(data));"
   ]
  }
 ],
 "metadata": {
  "kernelspec": {
   "display_name": "Python 3 (ipykernel)",
   "language": "python",
   "name": "python3"
  },
  "language_info": {
   "codemirror_mode": {
    "name": "ipython",
    "version": 3
   },
   "file_extension": ".py",
   "mimetype": "text/x-python",
   "name": "python",
   "nbconvert_exporter": "python",
   "pygments_lexer": "ipython3",
   "version": "3.9.7"
  }
 },
 "nbformat": 4,
 "nbformat_minor": 5
}
