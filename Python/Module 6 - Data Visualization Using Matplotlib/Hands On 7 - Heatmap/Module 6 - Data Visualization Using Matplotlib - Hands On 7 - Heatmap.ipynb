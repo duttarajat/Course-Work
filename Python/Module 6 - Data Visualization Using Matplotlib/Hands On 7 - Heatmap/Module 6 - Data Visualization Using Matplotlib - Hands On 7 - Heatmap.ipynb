{
 "cells": [
  {
   "cell_type": "raw",
   "id": "6096dc60",
   "metadata": {},
   "source": [
    "Module 6 - Data Visualization Using Matplotlib - Hands On 7 - Heatmap"
   ]
  },
  {
   "cell_type": "raw",
   "id": "d5b63604",
   "metadata": {},
   "source": [
    "Step 4: Import matplotlib.pyplot and seaborn by typing the following code in the notebook and run it by pressing shift + enter"
   ]
  },
  {
   "cell_type": "code",
   "execution_count": 1,
   "id": "7726d828",
   "metadata": {},
   "outputs": [],
   "source": [
    "import matplotlib.pyplot as plt\n",
    "import seaborn as sns"
   ]
  },
  {
   "cell_type": "raw",
   "id": "a24b3188",
   "metadata": {},
   "source": [
    "Step 5: Run this code to run create a heatmap based on a 2-d matrix.\n",
    "    Step 5.1: Run this code to create a 2-d matrix.\n",
    "    Step 5.2: Run this code to create a heatmap based on data passed as argument, the annot argument is set to true to get the\n",
    "    data displayed in the heatmap cells.\n",
    "    Step 5.3: Run this code and analyze the output."
   ]
  },
  {
   "cell_type": "code",
   "execution_count": 2,
   "id": "e8771611",
   "metadata": {},
   "outputs": [
    {
     "data": {
      "text/plain": [
       "<AxesSubplot:>"
      ]
     },
     "execution_count": 2,
     "metadata": {},
     "output_type": "execute_result"
    },
    {
     "data": {
      "image/png": "[encoded data removed]",
      "text/plain": [
       "<Figure size 432x288 with 2 Axes>"
      ]
     },
     "metadata": {
      "needs_background": "light"
     },
     "output_type": "display_data"
    }
   ],
   "source": [
    "data = [\n",
    "        [99, 85, 15],\n",
    "        [78, 5, 25],\n",
    "        [90, 45, 35],\n",
    "       ]\n",
    "\n",
    "sns.heatmap(data, annot = True)"
   ]
  }
 ],
 "metadata": {
  "kernelspec": {
   "display_name": "Python 3 (ipykernel)",
   "language": "python",
   "name": "python3"
  },
  "language_info": {
   "codemirror_mode": {
    "name": "ipython",
    "version": 3
   },
   "file_extension": ".py",
   "mimetype": "text/x-python",
   "name": "python",
   "nbconvert_exporter": "python",
   "pygments_lexer": "ipython3",
   "version": "3.9.7"
  }
 },
 "nbformat": 4,
 "nbformat_minor": 5
}
