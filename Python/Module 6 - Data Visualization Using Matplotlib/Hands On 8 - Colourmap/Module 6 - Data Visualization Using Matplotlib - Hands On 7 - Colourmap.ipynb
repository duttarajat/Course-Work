{
 "cells": [
  {
   "cell_type": "markdown",
   "id": "58b0a45c",
   "metadata": {},
   "source": [
    "# Module 6 - Data Visualization Using Matplotlib - Hands On 7 - Colourmap"
   ]
  },
  {
   "cell_type": "raw",
   "id": "02c05fc7",
   "metadata": {},
   "source": [
    "Step 4: Import matplotlib.pyplot and seaborn by typing the following code in the notebook and run it by pressing shift + enter"
   ]
  },
  {
   "cell_type": "code",
   "execution_count": 1,
   "id": "8cf9efb0",
   "metadata": {},
   "outputs": [],
   "source": [
    "import matplotlib.pyplot as plt\n",
    "import seaborn as sns"
   ]
  },
  {
   "cell_type": "raw",
   "id": "710a0e64",
   "metadata": {},
   "source": [
    "Step 5: Run this code to load the titanic dataset that comes with seaborn."
   ]
  },
  {
   "cell_type": "code",
   "execution_count": 2,
   "id": "efd7873e",
   "metadata": {},
   "outputs": [],
   "source": [
    "titanic = sns.load_dataset('titanic')"
   ]
  },
  {
   "cell_type": "raw",
   "id": "0dad100a",
   "metadata": {},
   "source": [
    "Step 6: Run the following code to create a count plot with custom color palette."
   ]
  },
  {
   "cell_type": "code",
   "execution_count": 3,
   "id": "98b56d5d",
   "metadata": {},
   "outputs": [
    {
     "data": {
      "text/plain": [
       "<AxesSubplot:xlabel='class', ylabel='count'>"
      ]
     },
     "execution_count": 3,
     "metadata": {},
     "output_type": "execute_result"
    },
    {
     "data": {
      "image/png": "[encoded data removed]",
      "text/plain": [
       "<Figure size 432x288 with 1 Axes>"
      ]
     },
     "metadata": {
      "needs_background": "light"
     },
     "output_type": "display_data"
    }
   ],
   "source": [
    "sns.countplot(x = 'class', data = titanic, palette = ['red', 'green', 'blue'])"
   ]
  },
  {
   "cell_type": "raw",
   "id": "814b4092",
   "metadata": {},
   "source": [
    "Step 6: Run the following code to create a count plot that uses a built in color palette."
   ]
  },
  {
   "cell_type": "code",
   "execution_count": 4,
   "id": "8761a4a3",
   "metadata": {},
   "outputs": [
    {
     "data": {
      "text/plain": [
       "<AxesSubplot:xlabel='class', ylabel='count'>"
      ]
     },
     "execution_count": 4,
     "metadata": {},
     "output_type": "execute_result"
    },
    {
     "data": {
      "image/png": "[encoded data removed]",
      "text/plain": [
       "<Figure size 432x288 with 1 Axes>"
      ]
     },
     "metadata": {
      "needs_background": "light"
     },
     "output_type": "display_data"
    }
   ],
   "source": [
    "sns.countplot(x = 'class', data = titanic, palette = 'Blues')"
   ]
  }
 ],
 "metadata": {
  "kernelspec": {
   "display_name": "Python 3 (ipykernel)",
   "language": "python",
   "name": "python3"
  },
  "language_info": {
   "codemirror_mode": {
    "name": "ipython",
    "version": 3
   },
   "file_extension": ".py",
   "mimetype": "text/x-python",
   "name": "python",
   "nbconvert_exporter": "python",
   "pygments_lexer": "ipython3",
   "version": "3.9.7"
  }
 },
 "nbformat": 4,
 "nbformat_minor": 5
}
