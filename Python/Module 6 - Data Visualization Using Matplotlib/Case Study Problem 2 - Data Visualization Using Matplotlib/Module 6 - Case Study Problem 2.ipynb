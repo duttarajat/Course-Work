{
 "cells": [
  {
   "cell_type": "markdown",
   "id": "bab450fe",
   "metadata": {},
   "source": [
    "# Module 6 - Data Visualization Using Matplotlib - Case Study Problem 2"
   ]
  },
  {
   "cell_type": "code",
   "execution_count": 1,
   "id": "668d88b5",
   "metadata": {},
   "outputs": [],
   "source": [
    "import pandas as pd\n",
    "import matplotlib.pyplot as plt"
   ]
  },
  {
   "cell_type": "code",
   "execution_count": null,
   "id": "8f539906",
   "metadata": {},
   "outputs": [],
   "source": []
  },
  {
   "cell_type": "raw",
   "id": "c8e3681f",
   "metadata": {},
   "source": [
    "1. Load cars data as dataframe using pandas and create a bar plot between number of cylinders and frequency of cars with that many number of cylinders.\n",
    "    - Set xlabel as Number of cylinders.\n",
    "    - Set ylabel as Frequency of cars.\n",
    "    - Draw a bar plot.2."
   ]
  },
  {
   "cell_type": "code",
   "execution_count": 2,
   "id": "fd9e34d4",
   "metadata": {},
   "outputs": [
    {
     "data": {
      "image/png": "[encoded data removed]",
      "text/plain": [
       "<Figure size 432x288 with 1 Axes>"
      ]
     },
     "metadata": {
      "needs_background": "light"
     },
     "output_type": "display_data"
    }
   ],
   "source": [
    "cars = pd.read_csv('cars-6.csv')\n",
    "\n",
    "Cyls = list(cars['cyl'].value_counts().sort_index().index)\n",
    "Count = list(cars['cyl'].value_counts().sort_index())\n",
    "plt.bar(Cyls, Count)\n",
    "plt.xlabel('Number of Cylinders')\n",
    "plt.ylabel('Frequency of Cars')\n",
    "plt.show()"
   ]
  },
  {
   "cell_type": "code",
   "execution_count": null,
   "id": "ac5313dc",
   "metadata": {},
   "outputs": [],
   "source": []
  },
  {
   "cell_type": "raw",
   "id": "02e5702b",
   "metadata": {},
   "source": [
    "2. Write code to load data from cars and print a bar graph of count of columns with null values."
   ]
  },
  {
   "cell_type": "code",
   "execution_count": 3,
   "id": "b9a8bf6a",
   "metadata": {},
   "outputs": [
    {
     "data": {
      "text/plain": [
       "model    0\n",
       "mpg      0\n",
       "cyl      0\n",
       "disp     0\n",
       "hp       0\n",
       "drat     0\n",
       "wt       0\n",
       "qsec     0\n",
       "vs       0\n",
       "am       0\n",
       "gear     0\n",
       "carb     0\n",
       "dtype: int64"
      ]
     },
     "execution_count": 3,
     "metadata": {},
     "output_type": "execute_result"
    }
   ],
   "source": [
    "cars = pd.read_csv('cars-6.csv')\n",
    "cars.isna().sum()"
   ]
  },
  {
   "cell_type": "raw",
   "id": "d08943dc",
   "metadata": {},
   "source": [
    "There are no columns with Null Values"
   ]
  },
  {
   "cell_type": "code",
   "execution_count": null,
   "id": "35192dc9",
   "metadata": {},
   "outputs": [],
   "source": []
  },
  {
   "cell_type": "raw",
   "id": "268d9b8d",
   "metadata": {},
   "source": [
    "3. Use the 'mpg' (Miles Per Gallon column) and draw a histogram\n",
    "    i. Set xlabel: Miles per gallon\n",
    "    ii. Set ylabel: Frequency\n",
    "    iii. Set title as Miles Per Gallon Histogram\n",
    "    iv. Use mpg column to generate a histogram"
   ]
  },
  {
   "cell_type": "code",
   "execution_count": 4,
   "id": "7b55a584",
   "metadata": {},
   "outputs": [
    {
     "data": {
      "image/png": "[encoded data removed]",
      "text/plain": [
       "<Figure size 432x288 with 1 Axes>"
      ]
     },
     "metadata": {
      "needs_background": "light"
     },
     "output_type": "display_data"
    }
   ],
   "source": [
    "plt.hist(cars['mpg'])\n",
    "plt.xlabel('Miles per gallon')\n",
    "plt.ylabel('Frequency')\n",
    "plt.title('Miles Per Gallon Histogram')\n",
    "plt.show()"
   ]
  },
  {
   "cell_type": "code",
   "execution_count": null,
   "id": "ab8ead97",
   "metadata": {},
   "outputs": [],
   "source": []
  },
  {
   "cell_type": "raw",
   "id": "46606c89",
   "metadata": {},
   "source": [
    "4. Draw a boxplot on the cars dataframes hp column\n",
    "    i. Set xlabel: Car Horsepower\n",
    "    ii. Set title as Boxplot for car horsepower\n",
    "    iii. Use hp column to generate a boxplot"
   ]
  },
  {
   "cell_type": "code",
   "execution_count": 5,
   "id": "efeb942b",
   "metadata": {},
   "outputs": [
    {
     "data": {
      "image/png": "[encoded data removed]",
      "text/plain": [
       "<Figure size 432x288 with 1 Axes>"
      ]
     },
     "metadata": {
      "needs_background": "light"
     },
     "output_type": "display_data"
    }
   ],
   "source": [
    "plt.boxplot(cars['hp'])\n",
    "plt.xlabel('Car Horsepower')\n",
    "plt.title('Boxplot for Car Horsepower')\n",
    "plt.xticks([1],[])\n",
    "plt.show()"
   ]
  }
 ],
 "metadata": {
  "kernelspec": {
   "display_name": "Python 3 (ipykernel)",
   "language": "python",
   "name": "python3"
  },
  "language_info": {
   "codemirror_mode": {
    "name": "ipython",
    "version": 3
   },
   "file_extension": ".py",
   "mimetype": "text/x-python",
   "name": "python",
   "nbconvert_exporter": "python",
   "pygments_lexer": "ipython3",
   "version": "3.9.7"
  }
 },
 "nbformat": 4,
 "nbformat_minor": 5
}
