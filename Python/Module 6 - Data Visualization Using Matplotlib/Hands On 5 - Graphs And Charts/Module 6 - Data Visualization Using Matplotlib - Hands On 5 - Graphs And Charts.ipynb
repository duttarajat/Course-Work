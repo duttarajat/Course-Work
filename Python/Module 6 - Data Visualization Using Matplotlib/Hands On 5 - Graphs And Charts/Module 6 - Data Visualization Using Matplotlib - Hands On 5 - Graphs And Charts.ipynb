{
 "cells": [
  {
   "cell_type": "markdown",
   "id": "945fe3a1",
   "metadata": {},
   "source": [
    "# Module 6 - Data Visualization Using Matplotlib - Hands On 5 - Graphs And Charts"
   ]
  },
  {
   "cell_type": "raw",
   "id": "36ca8b8e",
   "metadata": {},
   "source": [
    "Step 4: Import matplotlib.pyplot and numpy by typing the following code in the notebook and run it by pressing shift + enter"
   ]
  },
  {
   "cell_type": "code",
   "execution_count": 1,
   "id": "56a76835",
   "metadata": {},
   "outputs": [],
   "source": [
    "import numpy as np\n",
    "import matplotlib.pyplot as plt"
   ]
  },
  {
   "cell_type": "raw",
   "id": "0933486d",
   "metadata": {},
   "source": [
    "Step 5: Run the following code to create a histogram by passing in data."
   ]
  },
  {
   "cell_type": "code",
   "execution_count": 2,
   "id": "d24b3d91",
   "metadata": {},
   "outputs": [
    {
     "data": {
      "image/png": "[encoded data removed]",
      "text/plain": [
       "<Figure size 432x288 with 1 Axes>"
      ]
     },
     "metadata": {
      "needs_background": "light"
     },
     "output_type": "display_data"
    }
   ],
   "source": [
    "plt.hist([10, 15, 15, 10, 20, 20, 1, 14, 10, 14, 12, 14])\n",
    "plt.show()"
   ]
  },
  {
   "cell_type": "raw",
   "id": "283431c6",
   "metadata": {},
   "source": [
    "Step 6: Run the following code to create a pie chart by passing in sizes of slices of pies with their labels."
   ]
  },
  {
   "cell_type": "code",
   "execution_count": 3,
   "id": "fa461eb2",
   "metadata": {},
   "outputs": [
    {
     "data": {
      "image/png": "[encoded data removed]",
      "text/plain": [
       "<Figure size 432x288 with 1 Axes>"
      ]
     },
     "metadata": {},
     "output_type": "display_data"
    }
   ],
   "source": [
    "labels = ['Frogs', 'Hogs', 'Dogs', 'Logs']\n",
    "sizes = [15, 30, 45, 10]\n",
    "\n",
    "plt.pie(sizes, labels = labels)\n",
    "plt.show()"
   ]
  },
  {
   "cell_type": "raw",
   "id": "844d2916",
   "metadata": {},
   "source": [
    "Step 7: Run the following code to create a bar graph.\n",
    "    Step 7.1: Create labels, data and position for x_axis to be plotted.\n",
    "    Step 7.2: Plot bar graph using x_pos and data.\n",
    "    Step 7.3: set xticks on the x axis positions using the labels.\n",
    "    Step 7.4: Set xlabel, ylabel and title.\n",
    "    Step 7.5: Show the plot.\n",
    "    Step 7.6: Run the code using Shift + Enter and observe the output."
   ]
  },
  {
   "cell_type": "code",
   "execution_count": 4,
   "id": "c6079cea",
   "metadata": {},
   "outputs": [
    {
     "data": {
      "image/png": "[encoded data removed]",
      "text/plain": [
       "<Figure size 432x288 with 1 Axes>"
      ]
     },
     "metadata": {
      "needs_background": "light"
     },
     "output_type": "display_data"
    }
   ],
   "source": [
    "#Step 7.1: creating labels, data and position of X Asis to be plotted\n",
    "labels = ['Jane', 'John', 'James', 'Johnny']\n",
    "x_pos = np.arange (len(labels))\n",
    "data = [55, 25, 28, 45]\n",
    "\n",
    "#Step 7.2: plotting the bar graph using x_pos and data\n",
    "plt.bar(x_pos, data)\n",
    "\n",
    "#Step 7.3: setting xticks on the X Axis positions using labels\n",
    "plt.xticks(x_pos, labels)\n",
    "\n",
    "#Step 7.4: setting xlabel, ylabel and title\n",
    "plt.xlabel('Name')\n",
    "plt.ylabel('Age')\n",
    "plt.title('Name Vs Age')\n",
    "\n",
    "#Step 7.5: showing the plot\n",
    "plt.show()"
   ]
  }
 ],
 "metadata": {
  "kernelspec": {
   "display_name": "Python 3 (ipykernel)",
   "language": "python",
   "name": "python3"
  },
  "language_info": {
   "codemirror_mode": {
    "name": "ipython",
    "version": 3
   },
   "file_extension": ".py",
   "mimetype": "text/x-python",
   "name": "python",
   "nbconvert_exporter": "python",
   "pygments_lexer": "ipython3",
   "version": "3.9.7"
  }
 },
 "nbformat": 4,
 "nbformat_minor": 5
}
