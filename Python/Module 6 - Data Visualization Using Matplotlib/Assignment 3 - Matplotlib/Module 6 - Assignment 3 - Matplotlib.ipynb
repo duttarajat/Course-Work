{
 "cells": [
  {
   "cell_type": "markdown",
   "id": "1516f486",
   "metadata": {},
   "source": [
    "# Module 6 - Assignment 3 - Matplotlib"
   ]
  },
  {
   "cell_type": "code",
   "execution_count": 1,
   "id": "cd275735",
   "metadata": {},
   "outputs": [],
   "source": [
    "import pandas as pd\n",
    "import matplotlib.pyplot as plt"
   ]
  },
  {
   "cell_type": "code",
   "execution_count": 2,
   "id": "813508c6",
   "metadata": {},
   "outputs": [],
   "source": [
    "cars = pd.read_csv('cars-3.csv')"
   ]
  },
  {
   "cell_type": "raw",
   "id": "44d03863",
   "metadata": {},
   "source": [
    "1. Plot a histogram for the column ‘wt’.\n",
    "    a. Map the ‘wt’ onto the x-axis.\n",
    "    b. Provide the x-axis label as ‘weight of the cars’.\n",
    "    c. Provide the y-axis label as ‘Count’\n",
    "    d. Set the number of bins as 30.\n",
    "    e. Set the title as ‘Histogram for the weight values’"
   ]
  },
  {
   "cell_type": "code",
   "execution_count": 3,
   "id": "bfbcef85",
   "metadata": {},
   "outputs": [
    {
     "data": {
      "image/png": "[encoded data removed]",
      "text/plain": [
       "<Figure size 432x288 with 1 Axes>"
      ]
     },
     "metadata": {
      "needs_background": "light"
     },
     "output_type": "display_data"
    }
   ],
   "source": [
    "plt.hist(cars['wt'], bins = 30)\n",
    "plt.xlabel('Weight of the Cars')\n",
    "plt.ylabel('Count')\n",
    "plt.title('Histogram for the weight values')\n",
    "plt.show()"
   ]
  }
 ],
 "metadata": {
  "kernelspec": {
   "display_name": "Python 3 (ipykernel)",
   "language": "python",
   "name": "python3"
  },
  "language_info": {
   "codemirror_mode": {
    "name": "ipython",
    "version": 3
   },
   "file_extension": ".py",
   "mimetype": "text/x-python",
   "name": "python",
   "nbconvert_exporter": "python",
   "pygments_lexer": "ipython3",
   "version": "3.9.7"
  }
 },
 "nbformat": 4,
 "nbformat_minor": 5
}
