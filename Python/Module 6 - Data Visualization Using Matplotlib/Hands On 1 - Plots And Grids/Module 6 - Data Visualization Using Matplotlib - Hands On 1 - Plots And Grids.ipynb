{
 "cells": [
  {
   "cell_type": "markdown",
   "id": "f941b9b3",
   "metadata": {},
   "source": [
    "# Module 6 - Module 6 - Data Visualization Using Matplotlib - Hands On 1 - Plots And Grids"
   ]
  },
  {
   "cell_type": "raw",
   "id": "7b75b5f6",
   "metadata": {},
   "source": [
    "Step 4: Import numpy and matplotlib.pyplot by typing the following code in the notebook and run it by pressing shift + enter"
   ]
  },
  {
   "cell_type": "code",
   "execution_count": 1,
   "id": "38411555",
   "metadata": {},
   "outputs": [],
   "source": [
    "import numpy as np\n",
    "import matplotlib.pyplot as plt"
   ]
  },
  {
   "cell_type": "raw",
   "id": "99450a9b",
   "metadata": {},
   "source": [
    "Step 5: Type the following code to create a plot with grids.\n",
    "    Step 5.1: Generate some data to plot.\n",
    "    Step 5.2: Create a figure to plot data on.\n",
    "    Step 5.3: Get the current axes of the figure.\n",
    "    Step 5.4: Set xticks and yticks on the axes.\n",
    "    Step 5.5: Generate a scatter plot based on the data generated on previous step.\n",
    "    Step 5.6: Create a grid.\n",
    "    Step 5.7: Show the plot."
   ]
  },
  {
   "cell_type": "code",
   "execution_count": 2,
   "id": "6b942340",
   "metadata": {},
   "outputs": [
    {
     "data": {
      "image/png": "[encoded data removed]",
      "text/plain": [
       "<Figure size 432x288 with 1 Axes>"
      ]
     },
     "metadata": {
      "needs_background": "light"
     },
     "output_type": "display_data"
    }
   ],
   "source": [
    "#Step 5.1: generating data\n",
    "x = [_ for _ in range (0,10)]\n",
    "y = [_*_ for _ in range (0,10)]\n",
    "\n",
    "#Step 5.2: creating a figure\n",
    "fig = plt.figure()\n",
    "\n",
    "#Step 5.3: getting current axis\n",
    "ax = fig.gca()\n",
    "\n",
    "#Step 5.4: setting xticks and yticks\n",
    "ax.set_xticks (np.arange (0, 10, 1))\n",
    "ax.set_yticks (np.arange (0, 100, 10))\n",
    "\n",
    "#Step 5.5: creating a scatter plot\n",
    "plt.scatter (x,y)\n",
    "\n",
    "#Step 5.6: creating a grid\n",
    "plt.grid()\n",
    "\n",
    "#Step 5.7: showing the grid\n",
    "plt.show()"
   ]
  }
 ],
 "metadata": {
  "kernelspec": {
   "display_name": "Python 3 (ipykernel)",
   "language": "python",
   "name": "python3"
  },
  "language_info": {
   "codemirror_mode": {
    "name": "ipython",
    "version": 3
   },
   "file_extension": ".py",
   "mimetype": "text/x-python",
   "name": "python",
   "nbconvert_exporter": "python",
   "pygments_lexer": "ipython3",
   "version": "3.9.7"
  }
 },
 "nbformat": 4,
 "nbformat_minor": 5
}
