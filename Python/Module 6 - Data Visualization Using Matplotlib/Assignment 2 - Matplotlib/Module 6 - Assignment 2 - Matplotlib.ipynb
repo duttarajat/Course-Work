{
 "cells": [
  {
   "cell_type": "markdown",
   "id": "32fca4d3",
   "metadata": {},
   "source": [
    "# Module 6 - Assignment 2 - Matplotlib"
   ]
  },
  {
   "cell_type": "code",
   "execution_count": 1,
   "id": "0180d801",
   "metadata": {},
   "outputs": [],
   "source": [
    "import pandas as pd\n",
    "import matplotlib.pyplot as plt"
   ]
  },
  {
   "cell_type": "code",
   "execution_count": 2,
   "id": "52156499",
   "metadata": {},
   "outputs": [],
   "source": [
    "cars = pd.read_csv('cars-2.csv')"
   ]
  },
  {
   "cell_type": "raw",
   "id": "f9af3ecd",
   "metadata": {},
   "source": [
    "1. Generate a bar plot graph for the columns ‘carbs’ and ‘gear’.\n",
    "    a. Map the ‘carbs’ onto the x-axis.\n",
    "    b. Map the ‘gear’ onto the y-axis.\n",
    "    c. Provide the x-axis label as Number of carburetors.\n",
    "    d. Provide the y-axis label as Number of forward gears.\n",
    "    e. Set the title as carbs vs gear."
   ]
  },
  {
   "cell_type": "code",
   "execution_count": 3,
   "id": "2904357c",
   "metadata": {},
   "outputs": [
    {
     "data": {
      "image/png": "[encoded data removed]",
      "text/plain": [
       "<Figure size 432x288 with 1 Axes>"
      ]
     },
     "metadata": {
      "needs_background": "light"
     },
     "output_type": "display_data"
    }
   ],
   "source": [
    "plt.bar(cars['carb'].values, cars['gear'].values)\n",
    "plt.xlabel('Number of Carburetors')\n",
    "plt.ylabel('Number of forward gears')\n",
    "plt.title('Carbs vs Gear')\n",
    "plt.show()"
   ]
  }
 ],
 "metadata": {
  "kernelspec": {
   "display_name": "Python 3 (ipykernel)",
   "language": "python",
   "name": "python3"
  },
  "language_info": {
   "codemirror_mode": {
    "name": "ipython",
    "version": 3
   },
   "file_extension": ".py",
   "mimetype": "text/x-python",
   "name": "python",
   "nbconvert_exporter": "python",
   "pygments_lexer": "ipython3",
   "version": "3.9.7"
  }
 },
 "nbformat": 4,
 "nbformat_minor": 5
}
