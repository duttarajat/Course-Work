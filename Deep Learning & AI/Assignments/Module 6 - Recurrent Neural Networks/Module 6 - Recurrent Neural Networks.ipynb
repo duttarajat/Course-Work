{
 "cells": [
  {
   "cell_type": "markdown",
   "id": "7ebbbc04",
   "metadata": {},
   "source": [
    "# Module 6 - Recurrent Neural Networks"
   ]
  },
  {
   "cell_type": "markdown",
   "id": "0c199c98",
   "metadata": {},
   "source": [
    "#### Tasks to be Done:"
   ]
  },
  {
   "cell_type": "raw",
   "id": "1e9a02dd",
   "metadata": {},
   "source": [
    "Using airline-passenger Dataset try to predict the number of passengers for next month, given the number of passengers (in units of thousands) for this month\n",
    "    A. You can write a simple function to convert our single column of data into a two-column dataset:\n",
    "        a. The first column containing this month’s (t) passenger count and the second column containing next month’s (t+1) \n",
    "           passenger count, to be predicted.\n",
    "        b. Divide the data into train and test set\n",
    "        c. Fit an LSTM model on top of the data where the optimizer = ‘adam’ and epoch =’100’\n",
    "        d. Build another model where optimizer = ‘sgd’ and epoch = ‘50’"
   ]
  },
  {
   "cell_type": "code",
   "execution_count": 1,
   "id": "dab0019c",
   "metadata": {},
   "outputs": [],
   "source": [
    "import numpy as np\n",
    "import pandas as pd \n",
    "import matplotlib.pyplot as plt\n",
    "from keras.models import Sequential\n",
    "from keras.layers import Dense, LSTM\n",
    "from sklearn.preprocessing import RobustScaler\n",
    "from sklearn.metrics import mean_squared_error"
   ]
  },
  {
   "cell_type": "code",
   "execution_count": 2,
   "id": "d3d1d2ac",
   "metadata": {},
   "outputs": [
    {
     "data": {
      "text/html": [
       "<div>\n",
       "<style scoped>\n",
       "    .dataframe tbody tr th:only-of-type {\n",
       "        vertical-align: middle;\n",
       "    }\n",
       "\n",
       "    .dataframe tbody tr th {\n",
       "        vertical-align: top;\n",
       "    }\n",
       "\n",
       "    .dataframe thead th {\n",
       "        text-align: right;\n",
       "    }\n",
       "</style>\n",
       "<table border=\"1\" class=\"dataframe\">\n",
       "  <thead>\n",
       "    <tr style=\"text-align: right;\">\n",
       "      <th></th>\n",
       "      <th>Month</th>\n",
       "      <th>Passengers</th>\n",
       "    </tr>\n",
       "  </thead>\n",
       "  <tbody>\n",
       "    <tr>\n",
       "      <th>0</th>\n",
       "      <td>1949-01</td>\n",
       "      <td>112</td>\n",
       "    </tr>\n",
       "    <tr>\n",
       "      <th>1</th>\n",
       "      <td>1949-02</td>\n",
       "      <td>118</td>\n",
       "    </tr>\n",
       "    <tr>\n",
       "      <th>2</th>\n",
       "      <td>1949-03</td>\n",
       "      <td>132</td>\n",
       "    </tr>\n",
       "    <tr>\n",
       "      <th>3</th>\n",
       "      <td>1949-04</td>\n",
       "      <td>129</td>\n",
       "    </tr>\n",
       "    <tr>\n",
       "      <th>4</th>\n",
       "      <td>1949-05</td>\n",
       "      <td>121</td>\n",
       "    </tr>\n",
       "  </tbody>\n",
       "</table>\n",
       "</div>"
      ],
      "text/plain": [
       "     Month  Passengers\n",
       "0  1949-01         112\n",
       "1  1949-02         118\n",
       "2  1949-03         132\n",
       "3  1949-04         129\n",
       "4  1949-05         121"
      ]
     },
     "execution_count": 2,
     "metadata": {},
     "output_type": "execute_result"
    }
   ],
   "source": [
    "data = pd.read_csv('airline-passengers.csv',sep=(','))\n",
    "data.head()"
   ]
  },
  {
   "cell_type": "code",
   "execution_count": 3,
   "id": "1e66779c",
   "metadata": {},
   "outputs": [
    {
     "data": {
      "text/html": [
       "<div>\n",
       "<style scoped>\n",
       "    .dataframe tbody tr th:only-of-type {\n",
       "        vertical-align: middle;\n",
       "    }\n",
       "\n",
       "    .dataframe tbody tr th {\n",
       "        vertical-align: top;\n",
       "    }\n",
       "\n",
       "    .dataframe thead th {\n",
       "        text-align: right;\n",
       "    }\n",
       "</style>\n",
       "<table border=\"1\" class=\"dataframe\">\n",
       "  <thead>\n",
       "    <tr style=\"text-align: right;\">\n",
       "      <th></th>\n",
       "      <th>Month</th>\n",
       "      <th>Passengers</th>\n",
       "    </tr>\n",
       "  </thead>\n",
       "  <tbody>\n",
       "    <tr>\n",
       "      <th>139</th>\n",
       "      <td>1960-08</td>\n",
       "      <td>606</td>\n",
       "    </tr>\n",
       "    <tr>\n",
       "      <th>140</th>\n",
       "      <td>1960-09</td>\n",
       "      <td>508</td>\n",
       "    </tr>\n",
       "    <tr>\n",
       "      <th>141</th>\n",
       "      <td>1960-10</td>\n",
       "      <td>461</td>\n",
       "    </tr>\n",
       "    <tr>\n",
       "      <th>142</th>\n",
       "      <td>1960-11</td>\n",
       "      <td>390</td>\n",
       "    </tr>\n",
       "    <tr>\n",
       "      <th>143</th>\n",
       "      <td>1960-12</td>\n",
       "      <td>432</td>\n",
       "    </tr>\n",
       "  </tbody>\n",
       "</table>\n",
       "</div>"
      ],
      "text/plain": [
       "       Month  Passengers\n",
       "139  1960-08         606\n",
       "140  1960-09         508\n",
       "141  1960-10         461\n",
       "142  1960-11         390\n",
       "143  1960-12         432"
      ]
     },
     "execution_count": 3,
     "metadata": {},
     "output_type": "execute_result"
    }
   ],
   "source": [
    "data.tail()"
   ]
  },
  {
   "cell_type": "code",
   "execution_count": 4,
   "id": "a836e3dd",
   "metadata": {},
   "outputs": [
    {
     "data": {
      "image/png": "[encoded data removed]",
      "text/plain": [
       "<Figure size 432x288 with 1 Axes>"
      ]
     },
     "metadata": {
      "needs_background": "light"
     },
     "output_type": "display_data"
    }
   ],
   "source": [
    "dataset = data.iloc[:,1].values\n",
    "plt.plot(dataset)\n",
    "plt.xlabel('Time')\n",
    "plt.ylabel('Number of Passengers')\n",
    "plt.title('Airline Passengers')\n",
    "plt.show()"
   ]
  },
  {
   "cell_type": "code",
   "execution_count": 5,
   "id": "b8f1c092",
   "metadata": {},
   "outputs": [
    {
     "data": {
      "text/plain": [
       "(144, 1)"
      ]
     },
     "execution_count": 5,
     "metadata": {},
     "output_type": "execute_result"
    }
   ],
   "source": [
    "dataset = dataset.reshape(-1,1)\n",
    "dataset = dataset.astype(\"float32\")\n",
    "dataset.shape"
   ]
  },
  {
   "cell_type": "code",
   "execution_count": 6,
   "id": "a619e65b",
   "metadata": {},
   "outputs": [],
   "source": [
    "scaler = RobustScaler()\n",
    "dataset = scaler.fit_transform(dataset)"
   ]
  },
  {
   "cell_type": "code",
   "execution_count": 7,
   "id": "3511e368",
   "metadata": {},
   "outputs": [],
   "source": [
    "def create_dataset(dataset,window):\n",
    "    dataX, dataY = [], []\n",
    "    for i in range(len(dataset)-window-1):\n",
    "        a = dataset[i:(i+window),0]\n",
    "        dataX.append(a)\n",
    "        dataY.append(dataset[i+window,0])\n",
    "    return np.array(dataX), np.array(dataY)"
   ]
  },
  {
   "cell_type": "code",
   "execution_count": 8,
   "id": "a84256e4",
   "metadata": {},
   "outputs": [],
   "source": [
    "def split_data(X, Y, test_size):\n",
    "    pos = int(round(len(X) * (1-test_size)))\n",
    "    X_train, Y_train = X[:pos], Y[:pos]\n",
    "    X_test, Y_test = X[pos:], Y[pos:]\n",
    "    return X_train, Y_train, X_test, Y_test"
   ]
  },
  {
   "cell_type": "code",
   "execution_count": 9,
   "id": "1cc3c6d9",
   "metadata": {},
   "outputs": [
    {
     "name": "stdout",
     "output_type": "stream",
     "text": [
      "X.shape:(142, 1),Y.shape:(142,)\n",
      "X_train.shape:(114, 1), Y_train.shape:(114,), X_test.shape:(28, 1), Y_test.shape(28,)\n"
     ]
    }
   ],
   "source": [
    "window = 1\n",
    "X, Y = create_dataset(dataset,window)\n",
    "print('X.shape:{},Y.shape:{}'.format(X.shape, Y.shape))\n",
    "X_train, Y_train, X_test, Y_test = split_data(X, Y, 0.2)\n",
    "print('X_train.shape:{}, Y_train.shape:{}, X_test.shape:{}, Y_test.shape{}'.format(X_train.shape, Y_train.shape, X_test.shape, Y_test.shape))"
   ]
  },
  {
   "cell_type": "code",
   "execution_count": 10,
   "id": "028db4a6",
   "metadata": {},
   "outputs": [
    {
     "name": "stdout",
     "output_type": "stream",
     "text": [
      "X_train.shape:(114, 1), Y_train.shape:(114, 1), X_test.shape:(28, 1), Y_test.shape(28, 1)\n"
     ]
    }
   ],
   "source": [
    "Y = Y.reshape(-1,1)\n",
    "Y_train=Y_train.reshape(-1,1)\n",
    "Y_test=Y_test.reshape(-1,1)\n",
    "print('X_train.shape:{}, Y_train.shape:{}, X_test.shape:{}, Y_test.shape{}'.format(X_train.shape, Y_train.shape, X_test.shape, Y_test.shape))"
   ]
  },
  {
   "cell_type": "code",
   "execution_count": 11,
   "id": "7f5d0b25",
   "metadata": {},
   "outputs": [],
   "source": [
    "X_train = np.reshape(X_train, (X_train.shape[0], 1, X_train.shape[1]))\n",
    "X_test = np.reshape(X_test, (X_test.shape[0], 1, X_test.shape[1]))"
   ]
  },
  {
   "cell_type": "code",
   "execution_count": 12,
   "id": "09079663",
   "metadata": {},
   "outputs": [
    {
     "name": "stdout",
     "output_type": "stream",
     "text": [
      "Model: \"sequential\"\n",
      "_________________________________________________________________\n",
      " Layer (type)                Output Shape              Param #   \n",
      "=================================================================\n",
      " lstm (LSTM)                 (None, 4)                 96        \n",
      "                                                                 \n",
      " dense (Dense)               (None, 1)                 5         \n",
      "                                                                 \n",
      "=================================================================\n",
      "Total params: 101\n",
      "Trainable params: 101\n",
      "Non-trainable params: 0\n",
      "_________________________________________________________________\n"
     ]
    }
   ],
   "source": [
    "model=Sequential()\n",
    "model.add(LSTM(4,input_shape=(1,window)))\n",
    "model.add(Dense(1))\n",
    "model.compile(loss='mse',optimizer='adam')\n",
    "model.summary()"
   ]
  },
  {
   "cell_type": "code",
   "execution_count": 13,
   "id": "07edcfdd",
   "metadata": {
    "scrolled": false
   },
   "outputs": [
    {
     "name": "stdout",
     "output_type": "stream",
     "text": [
      "Epoch 1/100\n",
      "4/4 [==============================] - 7s 515ms/step - loss: 0.2264 - val_loss: 0.9853\n",
      "Epoch 2/100\n",
      "4/4 [==============================] - 0s 24ms/step - loss: 0.2232 - val_loss: 0.9907\n",
      "Epoch 3/100\n",
      "4/4 [==============================] - 0s 22ms/step - loss: 0.2201 - val_loss: 0.9958\n",
      "Epoch 4/100\n",
      "4/4 [==============================] - 0s 20ms/step - loss: 0.2171 - val_loss: 1.0011\n",
      "Epoch 5/100\n",
      "4/4 [==============================] - 0s 23ms/step - loss: 0.2142 - val_loss: 1.0063\n",
      "Epoch 6/100\n",
      "4/4 [==============================] - 0s 21ms/step - loss: 0.2114 - val_loss: 1.0107\n",
      "Epoch 7/100\n",
      "4/4 [==============================] - 0s 27ms/step - loss: 0.2085 - val_loss: 1.0147\n",
      "Epoch 8/100\n",
      "4/4 [==============================] - 0s 22ms/step - loss: 0.2061 - val_loss: 1.0191\n",
      "Epoch 9/100\n",
      "4/4 [==============================] - 0s 28ms/step - loss: 0.2037 - val_loss: 1.0229\n",
      "Epoch 10/100\n",
      "4/4 [==============================] - 0s 26ms/step - loss: 0.2014 - val_loss: 1.0266\n",
      "Epoch 11/100\n",
      "4/4 [==============================] - 0s 21ms/step - loss: 0.1991 - val_loss: 1.0293\n",
      "Epoch 12/100\n",
      "4/4 [==============================] - 0s 23ms/step - loss: 0.1967 - val_loss: 1.0299\n",
      "Epoch 13/100\n",
      "4/4 [==============================] - 0s 22ms/step - loss: 0.1947 - val_loss: 1.0309\n",
      "Epoch 14/100\n",
      "4/4 [==============================] - 0s 22ms/step - loss: 0.1925 - val_loss: 1.0314\n",
      "Epoch 15/100\n",
      "4/4 [==============================] - 0s 22ms/step - loss: 0.1907 - val_loss: 1.0322\n",
      "Epoch 16/100\n",
      "4/4 [==============================] - 0s 27ms/step - loss: 0.1886 - val_loss: 1.0326\n",
      "Epoch 17/100\n",
      "4/4 [==============================] - 0s 22ms/step - loss: 0.1867 - val_loss: 1.0323\n",
      "Epoch 18/100\n",
      "4/4 [==============================] - 0s 27ms/step - loss: 0.1849 - val_loss: 1.0322\n",
      "Epoch 19/100\n",
      "4/4 [==============================] - 0s 31ms/step - loss: 0.1829 - val_loss: 1.0302\n",
      "Epoch 20/100\n",
      "4/4 [==============================] - 0s 20ms/step - loss: 0.1811 - val_loss: 1.0285\n",
      "Epoch 21/100\n",
      "4/4 [==============================] - 0s 22ms/step - loss: 0.1793 - val_loss: 1.0274\n",
      "Epoch 22/100\n",
      "4/4 [==============================] - 0s 22ms/step - loss: 0.1775 - val_loss: 1.0255\n",
      "Epoch 23/100\n",
      "4/4 [==============================] - 0s 23ms/step - loss: 0.1755 - val_loss: 1.0234\n",
      "Epoch 24/100\n",
      "4/4 [==============================] - 0s 23ms/step - loss: 0.1737 - val_loss: 1.0204\n",
      "Epoch 25/100\n",
      "4/4 [==============================] - 0s 27ms/step - loss: 0.1720 - val_loss: 1.0172\n",
      "Epoch 26/100\n",
      "4/4 [==============================] - 0s 20ms/step - loss: 0.1703 - val_loss: 1.0147\n",
      "Epoch 27/100\n",
      "4/4 [==============================] - 0s 20ms/step - loss: 0.1685 - val_loss: 1.0105\n",
      "Epoch 28/100\n",
      "4/4 [==============================] - 0s 24ms/step - loss: 0.1666 - val_loss: 1.0053\n",
      "Epoch 29/100\n",
      "4/4 [==============================] - 0s 23ms/step - loss: 0.1649 - val_loss: 0.9997\n",
      "Epoch 30/100\n",
      "4/4 [==============================] - 0s 19ms/step - loss: 0.1631 - val_loss: 0.9950\n",
      "Epoch 31/100\n",
      "4/4 [==============================] - 0s 20ms/step - loss: 0.1612 - val_loss: 0.9901\n",
      "Epoch 32/100\n",
      "4/4 [==============================] - 0s 21ms/step - loss: 0.1594 - val_loss: 0.9846\n",
      "Epoch 33/100\n",
      "4/4 [==============================] - 0s 29ms/step - loss: 0.1576 - val_loss: 0.9786\n",
      "Epoch 34/100\n",
      "4/4 [==============================] - 0s 22ms/step - loss: 0.1558 - val_loss: 0.9740\n",
      "Epoch 35/100\n",
      "4/4 [==============================] - 0s 20ms/step - loss: 0.1539 - val_loss: 0.9689\n",
      "Epoch 36/100\n",
      "4/4 [==============================] - 0s 22ms/step - loss: 0.1521 - val_loss: 0.9627\n",
      "Epoch 37/100\n",
      "4/4 [==============================] - 0s 25ms/step - loss: 0.1501 - val_loss: 0.9561\n",
      "Epoch 38/100\n",
      "4/4 [==============================] - 0s 22ms/step - loss: 0.1482 - val_loss: 0.9486\n",
      "Epoch 39/100\n",
      "4/4 [==============================] - 0s 28ms/step - loss: 0.1464 - val_loss: 0.9422\n",
      "Epoch 40/100\n",
      "4/4 [==============================] - 0s 19ms/step - loss: 0.1444 - val_loss: 0.9350\n",
      "Epoch 41/100\n",
      "4/4 [==============================] - 0s 22ms/step - loss: 0.1425 - val_loss: 0.9276\n",
      "Epoch 42/100\n",
      "4/4 [==============================] - 0s 29ms/step - loss: 0.1407 - val_loss: 0.9212\n",
      "Epoch 43/100\n",
      "4/4 [==============================] - 0s 24ms/step - loss: 0.1387 - val_loss: 0.9134\n",
      "Epoch 44/100\n",
      "4/4 [==============================] - 0s 18ms/step - loss: 0.1368 - val_loss: 0.9050\n",
      "Epoch 45/100\n",
      "4/4 [==============================] - 0s 23ms/step - loss: 0.1347 - val_loss: 0.8973\n",
      "Epoch 46/100\n",
      "4/4 [==============================] - 0s 23ms/step - loss: 0.1329 - val_loss: 0.8884\n",
      "Epoch 47/100\n",
      "4/4 [==============================] - 0s 22ms/step - loss: 0.1308 - val_loss: 0.8806\n",
      "Epoch 48/100\n",
      "4/4 [==============================] - 0s 32ms/step - loss: 0.1289 - val_loss: 0.8709\n",
      "Epoch 49/100\n",
      "4/4 [==============================] - 0s 24ms/step - loss: 0.1268 - val_loss: 0.8628\n",
      "Epoch 50/100\n",
      "4/4 [==============================] - 0s 25ms/step - loss: 0.1249 - val_loss: 0.8533\n",
      "Epoch 51/100\n",
      "4/4 [==============================] - 0s 21ms/step - loss: 0.1229 - val_loss: 0.8441\n",
      "Epoch 52/100\n",
      "4/4 [==============================] - 0s 23ms/step - loss: 0.1208 - val_loss: 0.8353\n",
      "Epoch 53/100\n",
      "4/4 [==============================] - 0s 25ms/step - loss: 0.1189 - val_loss: 0.8263\n",
      "Epoch 54/100\n",
      "4/4 [==============================] - 0s 22ms/step - loss: 0.1168 - val_loss: 0.8172\n",
      "Epoch 55/100\n",
      "4/4 [==============================] - 0s 23ms/step - loss: 0.1148 - val_loss: 0.8080\n",
      "Epoch 56/100\n",
      "4/4 [==============================] - 0s 24ms/step - loss: 0.1128 - val_loss: 0.7989\n",
      "Epoch 57/100\n",
      "4/4 [==============================] - 0s 24ms/step - loss: 0.1108 - val_loss: 0.7899\n",
      "Epoch 58/100\n",
      "4/4 [==============================] - 0s 22ms/step - loss: 0.1087 - val_loss: 0.7818\n",
      "Epoch 59/100\n",
      "4/4 [==============================] - 0s 23ms/step - loss: 0.1068 - val_loss: 0.7719\n",
      "Epoch 60/100\n",
      "4/4 [==============================] - 0s 26ms/step - loss: 0.1047 - val_loss: 0.7640\n",
      "Epoch 61/100\n",
      "4/4 [==============================] - 0s 23ms/step - loss: 0.1028 - val_loss: 0.7549\n",
      "Epoch 62/100\n",
      "4/4 [==============================] - 0s 22ms/step - loss: 0.1007 - val_loss: 0.7463\n",
      "Epoch 63/100\n",
      "4/4 [==============================] - 0s 23ms/step - loss: 0.0987 - val_loss: 0.7382\n",
      "Epoch 64/100\n",
      "4/4 [==============================] - 0s 23ms/step - loss: 0.0970 - val_loss: 0.7295\n",
      "Epoch 65/100\n",
      "4/4 [==============================] - 0s 23ms/step - loss: 0.0949 - val_loss: 0.7209\n",
      "Epoch 66/100\n",
      "4/4 [==============================] - 0s 21ms/step - loss: 0.0929 - val_loss: 0.7117\n",
      "Epoch 67/100\n",
      "4/4 [==============================] - 0s 23ms/step - loss: 0.0909 - val_loss: 0.7020\n",
      "Epoch 68/100\n",
      "4/4 [==============================] - 0s 24ms/step - loss: 0.0890 - val_loss: 0.6915\n",
      "Epoch 69/100\n",
      "4/4 [==============================] - 0s 23ms/step - loss: 0.0871 - val_loss: 0.6806\n",
      "Epoch 70/100\n",
      "4/4 [==============================] - 0s 22ms/step - loss: 0.0852 - val_loss: 0.6695\n",
      "Epoch 71/100\n",
      "4/4 [==============================] - 0s 24ms/step - loss: 0.0832 - val_loss: 0.6599\n",
      "Epoch 72/100\n",
      "4/4 [==============================] - 0s 23ms/step - loss: 0.0812 - val_loss: 0.6499\n",
      "Epoch 73/100\n",
      "4/4 [==============================] - 0s 21ms/step - loss: 0.0794 - val_loss: 0.6397\n",
      "Epoch 74/100\n",
      "4/4 [==============================] - 0s 24ms/step - loss: 0.0778 - val_loss: 0.6286\n",
      "Epoch 75/100\n",
      "4/4 [==============================] - 0s 24ms/step - loss: 0.0758 - val_loss: 0.6191\n",
      "Epoch 76/100\n",
      "4/4 [==============================] - 0s 23ms/step - loss: 0.0739 - val_loss: 0.6096\n",
      "Epoch 77/100\n",
      "4/4 [==============================] - 0s 22ms/step - loss: 0.0722 - val_loss: 0.5999\n",
      "Epoch 78/100\n",
      "4/4 [==============================] - 0s 23ms/step - loss: 0.0706 - val_loss: 0.5902\n",
      "Epoch 79/100\n",
      "4/4 [==============================] - 0s 21ms/step - loss: 0.0688 - val_loss: 0.5812\n",
      "Epoch 80/100\n",
      "4/4 [==============================] - 0s 23ms/step - loss: 0.0671 - val_loss: 0.5730\n",
      "Epoch 81/100\n",
      "4/4 [==============================] - 0s 22ms/step - loss: 0.0655 - val_loss: 0.5647\n",
      "Epoch 82/100\n",
      "4/4 [==============================] - 0s 24ms/step - loss: 0.0639 - val_loss: 0.5558\n",
      "Epoch 83/100\n",
      "4/4 [==============================] - 0s 22ms/step - loss: 0.0624 - val_loss: 0.5458\n"
     ]
    },
    {
     "name": "stdout",
     "output_type": "stream",
     "text": [
      "Epoch 84/100\n",
      "4/4 [==============================] - 0s 21ms/step - loss: 0.0608 - val_loss: 0.5375\n",
      "Epoch 85/100\n",
      "4/4 [==============================] - 0s 23ms/step - loss: 0.0594 - val_loss: 0.5282\n",
      "Epoch 86/100\n",
      "4/4 [==============================] - 0s 20ms/step - loss: 0.0578 - val_loss: 0.5194\n",
      "Epoch 87/100\n",
      "4/4 [==============================] - 0s 26ms/step - loss: 0.0564 - val_loss: 0.5105\n",
      "Epoch 88/100\n",
      "4/4 [==============================] - 0s 22ms/step - loss: 0.0550 - val_loss: 0.5018\n",
      "Epoch 89/100\n",
      "4/4 [==============================] - 0s 22ms/step - loss: 0.0537 - val_loss: 0.4926\n",
      "Epoch 90/100\n",
      "4/4 [==============================] - 0s 29ms/step - loss: 0.0524 - val_loss: 0.4835\n",
      "Epoch 91/100\n",
      "4/4 [==============================] - 0s 22ms/step - loss: 0.0510 - val_loss: 0.4751\n",
      "Epoch 92/100\n",
      "4/4 [==============================] - 0s 21ms/step - loss: 0.0498 - val_loss: 0.4668\n",
      "Epoch 93/100\n",
      "4/4 [==============================] - 0s 29ms/step - loss: 0.0486 - val_loss: 0.4587\n",
      "Epoch 94/100\n",
      "4/4 [==============================] - 0s 18ms/step - loss: 0.0474 - val_loss: 0.4503\n",
      "Epoch 95/100\n",
      "4/4 [==============================] - 0s 22ms/step - loss: 0.0463 - val_loss: 0.4426\n",
      "Epoch 96/100\n",
      "4/4 [==============================] - 0s 26ms/step - loss: 0.0452 - val_loss: 0.4351\n",
      "Epoch 97/100\n",
      "4/4 [==============================] - 0s 25ms/step - loss: 0.0441 - val_loss: 0.4269\n",
      "Epoch 98/100\n",
      "4/4 [==============================] - 0s 21ms/step - loss: 0.0431 - val_loss: 0.4193\n",
      "Epoch 99/100\n",
      "4/4 [==============================] - 0s 28ms/step - loss: 0.0421 - val_loss: 0.4119\n",
      "Epoch 100/100\n",
      "4/4 [==============================] - 0s 26ms/step - loss: 0.0412 - val_loss: 0.4039\n"
     ]
    },
    {
     "data": {
      "text/plain": [
       "<keras.callbacks.History at 0x19d9e121940>"
      ]
     },
     "execution_count": 13,
     "metadata": {},
     "output_type": "execute_result"
    }
   ],
   "source": [
    "model.fit(X_train, Y_train, epochs=100, validation_data=(X_test,Y_test))"
   ]
  },
  {
   "cell_type": "code",
   "execution_count": 14,
   "id": "9faf1988",
   "metadata": {},
   "outputs": [
    {
     "data": {
      "image/png": "[encoded data removed]",
      "text/plain": [
       "<Figure size 432x288 with 1 Axes>"
      ]
     },
     "metadata": {
      "needs_background": "light"
     },
     "output_type": "display_data"
    }
   ],
   "source": [
    "plt.plot(model.history.history['loss'], label='Loss')\n",
    "plt.plot(model.history.history['val_loss'], label='Val Loss')\n",
    "plt.title('Loss Plot')\n",
    "plt.legend()\n",
    "plt.show()"
   ]
  },
  {
   "cell_type": "code",
   "execution_count": 15,
   "id": "9b644c83",
   "metadata": {},
   "outputs": [
    {
     "name": "stdout",
     "output_type": "stream",
     "text": [
      "(114, 1, 1)\n",
      "(114, 1)\n",
      "(28, 1, 1)\n",
      "(28, 1)\n"
     ]
    }
   ],
   "source": [
    "X_train = np.reshape(X_train, (X_train.shape[0], 1, X_train.shape[1]))\n",
    "X_test = np.reshape(X_test, (X_test.shape[0], 1, X_test.shape[1]))\n",
    "print(X_train.shape)\n",
    "print(Y_train.shape)\n",
    "print(X_test.shape)\n",
    "print(Y_test.shape)"
   ]
  },
  {
   "cell_type": "code",
   "execution_count": 16,
   "id": "777805fb",
   "metadata": {},
   "outputs": [],
   "source": [
    "trainPredict = model.predict(X_train, verbose=0)\n",
    "testPredict = model.predict(X_test, verbose=0)\n",
    "trainPredict = scaler.inverse_transform(trainPredict)\n",
    "trainY = scaler.inverse_transform(Y_train)\n",
    "testPredict = scaler.inverse_transform(testPredict)\n",
    "testY = scaler.inverse_transform(Y_test)"
   ]
  },
  {
   "cell_type": "code",
   "execution_count": 17,
   "id": "d61a292f",
   "metadata": {},
   "outputs": [
    {
     "name": "stdout",
     "output_type": "stream",
     "text": [
      "Train Score RMSE: 36.36\n",
      "Test Score RMSE: 36.36\n"
     ]
    }
   ],
   "source": [
    "trainY=trainY.reshape(1,-1)\n",
    "testY = testY.reshape(1,-1)\n",
    "trainSctrainScore = np.sqrt(mean_squared_error(trainY[0], trainPredict[:,0]))\n",
    "print('Train Score RMSE: %.2f' % (trainSctrainScore))\n",
    "testScore = np.sqrt(mean_squared_error(testY[0], testPredict[:,0]))\n",
    "print('Test Score RMSE: %.2f' % (trainSctrainScore))"
   ]
  },
  {
   "cell_type": "code",
   "execution_count": 18,
   "id": "0170e2f0",
   "metadata": {},
   "outputs": [
    {
     "data": {
      "image/png": "[encoded data removed]",
      "text/plain": [
       "<Figure size 432x288 with 1 Axes>"
      ]
     },
     "metadata": {
      "needs_background": "light"
     },
     "output_type": "display_data"
    }
   ],
   "source": [
    "trainPredictPlot = np.empty_like(dataset)\n",
    "trainPredictPlot[:,:] = np.nan\n",
    "trainPredictPlot[window:len(trainPredict)+window,:] = trainPredict\n",
    "testPredictPlot = np.empty_like(dataset)\n",
    "testPredictPlot[:, :] = np.nan\n",
    "testPredictPlot[len(trainPredict)+(window):len(dataset)-1, :] = testPredict\n",
    "plt.plot(scaler.inverse_transform(dataset))\n",
    "plt.plot(trainPredictPlot)\n",
    "plt.plot(testPredictPlot)\n",
    "plt.show()"
   ]
  },
  {
   "cell_type": "code",
   "execution_count": null,
   "id": "1f41e9ee",
   "metadata": {},
   "outputs": [],
   "source": []
  },
  {
   "cell_type": "code",
   "execution_count": 19,
   "id": "396e0ca6",
   "metadata": {},
   "outputs": [
    {
     "name": "stdout",
     "output_type": "stream",
     "text": [
      "Model: \"sequential_1\"\n",
      "_________________________________________________________________\n",
      " Layer (type)                Output Shape              Param #   \n",
      "=================================================================\n",
      " lstm_1 (LSTM)               (None, 4)                 96        \n",
      "                                                                 \n",
      " dense_1 (Dense)             (None, 1)                 5         \n",
      "                                                                 \n",
      "=================================================================\n",
      "Total params: 101\n",
      "Trainable params: 101\n",
      "Non-trainable params: 0\n",
      "_________________________________________________________________\n"
     ]
    }
   ],
   "source": [
    "model=Sequential()\n",
    "model.add(LSTM(4,input_shape=(1,window)))\n",
    "model.add(Dense(1))\n",
    "model.compile(loss='mse',optimizer='sgd')\n",
    "model.summary()"
   ]
  },
  {
   "cell_type": "code",
   "execution_count": 20,
   "id": "bdcb1227",
   "metadata": {},
   "outputs": [
    {
     "name": "stdout",
     "output_type": "stream",
     "text": [
      "Epoch 1/50\n",
      "4/4 [==============================] - 7s 410ms/step - loss: 0.2123 - val_loss: 0.8940\n",
      "Epoch 2/50\n",
      "4/4 [==============================] - 0s 20ms/step - loss: 0.2088 - val_loss: 0.9066\n",
      "Epoch 3/50\n",
      "4/4 [==============================] - 0s 20ms/step - loss: 0.2057 - val_loss: 0.9149\n",
      "Epoch 4/50\n",
      "4/4 [==============================] - 0s 28ms/step - loss: 0.2034 - val_loss: 0.9255\n",
      "Epoch 5/50\n",
      "4/4 [==============================] - 0s 23ms/step - loss: 0.2010 - val_loss: 0.9336\n",
      "Epoch 6/50\n",
      "4/4 [==============================] - 0s 21ms/step - loss: 0.1989 - val_loss: 0.9396\n",
      "Epoch 7/50\n",
      "4/4 [==============================] - 0s 22ms/step - loss: 0.1972 - val_loss: 0.9452\n",
      "Epoch 8/50\n",
      "4/4 [==============================] - 0s 23ms/step - loss: 0.1956 - val_loss: 0.9496\n",
      "Epoch 9/50\n",
      "4/4 [==============================] - 0s 23ms/step - loss: 0.1940 - val_loss: 0.9547\n",
      "Epoch 10/50\n",
      "4/4 [==============================] - 0s 22ms/step - loss: 0.1926 - val_loss: 0.9544\n",
      "Epoch 11/50\n",
      "4/4 [==============================] - 0s 22ms/step - loss: 0.1915 - val_loss: 0.9540\n",
      "Epoch 12/50\n",
      "4/4 [==============================] - 0s 22ms/step - loss: 0.1902 - val_loss: 0.9571\n",
      "Epoch 13/50\n",
      "4/4 [==============================] - 0s 22ms/step - loss: 0.1888 - val_loss: 0.9586\n",
      "Epoch 14/50\n",
      "4/4 [==============================] - 0s 29ms/step - loss: 0.1876 - val_loss: 0.9624\n",
      "Epoch 15/50\n",
      "4/4 [==============================] - 0s 28ms/step - loss: 0.1863 - val_loss: 0.9632\n",
      "Epoch 16/50\n",
      "4/4 [==============================] - 0s 30ms/step - loss: 0.1852 - val_loss: 0.9619\n",
      "Epoch 17/50\n",
      "4/4 [==============================] - 0s 27ms/step - loss: 0.1842 - val_loss: 0.9626\n",
      "Epoch 18/50\n",
      "4/4 [==============================] - 0s 25ms/step - loss: 0.1832 - val_loss: 0.9596\n",
      "Epoch 19/50\n",
      "4/4 [==============================] - 0s 28ms/step - loss: 0.1822 - val_loss: 0.9561\n",
      "Epoch 20/50\n",
      "4/4 [==============================] - 0s 26ms/step - loss: 0.1812 - val_loss: 0.9569\n",
      "Epoch 21/50\n",
      "4/4 [==============================] - 0s 25ms/step - loss: 0.1802 - val_loss: 0.9548\n",
      "Epoch 22/50\n",
      "4/4 [==============================] - 0s 23ms/step - loss: 0.1794 - val_loss: 0.9552\n",
      "Epoch 23/50\n",
      "4/4 [==============================] - 0s 26ms/step - loss: 0.1783 - val_loss: 0.9518\n",
      "Epoch 24/50\n",
      "4/4 [==============================] - 0s 24ms/step - loss: 0.1775 - val_loss: 0.9491\n",
      "Epoch 25/50\n",
      "4/4 [==============================] - 0s 23ms/step - loss: 0.1766 - val_loss: 0.9447\n",
      "Epoch 26/50\n",
      "4/4 [==============================] - 0s 21ms/step - loss: 0.1756 - val_loss: 0.9401\n",
      "Epoch 27/50\n",
      "4/4 [==============================] - 0s 23ms/step - loss: 0.1748 - val_loss: 0.9373\n",
      "Epoch 28/50\n",
      "4/4 [==============================] - 0s 26ms/step - loss: 0.1739 - val_loss: 0.9370\n",
      "Epoch 29/50\n",
      "4/4 [==============================] - 0s 21ms/step - loss: 0.1730 - val_loss: 0.9322\n",
      "Epoch 30/50\n",
      "4/4 [==============================] - 0s 28ms/step - loss: 0.1721 - val_loss: 0.9286\n",
      "Epoch 31/50\n",
      "4/4 [==============================] - 0s 31ms/step - loss: 0.1711 - val_loss: 0.9240\n",
      "Epoch 32/50\n",
      "4/4 [==============================] - 0s 24ms/step - loss: 0.1703 - val_loss: 0.9205\n",
      "Epoch 33/50\n",
      "4/4 [==============================] - 0s 22ms/step - loss: 0.1694 - val_loss: 0.9153\n",
      "Epoch 34/50\n",
      "4/4 [==============================] - 0s 23ms/step - loss: 0.1685 - val_loss: 0.9117\n",
      "Epoch 35/50\n",
      "4/4 [==============================] - 0s 23ms/step - loss: 0.1676 - val_loss: 0.9064\n",
      "Epoch 36/50\n",
      "4/4 [==============================] - 0s 22ms/step - loss: 0.1667 - val_loss: 0.9010\n",
      "Epoch 37/50\n",
      "4/4 [==============================] - 0s 23ms/step - loss: 0.1659 - val_loss: 0.8971\n",
      "Epoch 38/50\n",
      "4/4 [==============================] - 0s 24ms/step - loss: 0.1650 - val_loss: 0.8902\n",
      "Epoch 39/50\n",
      "4/4 [==============================] - 0s 24ms/step - loss: 0.1642 - val_loss: 0.8869\n",
      "Epoch 40/50\n",
      "4/4 [==============================] - 0s 21ms/step - loss: 0.1632 - val_loss: 0.8836\n",
      "Epoch 41/50\n",
      "4/4 [==============================] - 0s 23ms/step - loss: 0.1623 - val_loss: 0.8801\n",
      "Epoch 42/50\n",
      "4/4 [==============================] - 0s 23ms/step - loss: 0.1615 - val_loss: 0.8744\n",
      "Epoch 43/50\n",
      "4/4 [==============================] - 0s 23ms/step - loss: 0.1606 - val_loss: 0.8705\n",
      "Epoch 44/50\n",
      "4/4 [==============================] - 0s 23ms/step - loss: 0.1598 - val_loss: 0.8665\n",
      "Epoch 45/50\n",
      "4/4 [==============================] - 0s 24ms/step - loss: 0.1589 - val_loss: 0.8613\n",
      "Epoch 46/50\n",
      "4/4 [==============================] - 0s 23ms/step - loss: 0.1580 - val_loss: 0.8554\n",
      "Epoch 47/50\n",
      "4/4 [==============================] - 0s 20ms/step - loss: 0.1573 - val_loss: 0.8488\n",
      "Epoch 48/50\n",
      "4/4 [==============================] - 0s 24ms/step - loss: 0.1565 - val_loss: 0.8414\n",
      "Epoch 49/50\n",
      "4/4 [==============================] - 0s 22ms/step - loss: 0.1556 - val_loss: 0.8380\n",
      "Epoch 50/50\n",
      "4/4 [==============================] - 0s 22ms/step - loss: 0.1546 - val_loss: 0.8338\n"
     ]
    },
    {
     "data": {
      "text/plain": [
       "<keras.callbacks.History at 0x19da3166760>"
      ]
     },
     "execution_count": 20,
     "metadata": {},
     "output_type": "execute_result"
    }
   ],
   "source": [
    "model.fit(X_train, Y_train, epochs=50, validation_data=(X_test,Y_test))"
   ]
  },
  {
   "cell_type": "code",
   "execution_count": 21,
   "id": "314d8672",
   "metadata": {},
   "outputs": [
    {
     "data": {
      "image/png": "[encoded data removed]",
      "text/plain": [
       "<Figure size 432x288 with 1 Axes>"
      ]
     },
     "metadata": {
      "needs_background": "light"
     },
     "output_type": "display_data"
    }
   ],
   "source": [
    "plt.plot(model.history.history['loss'], label='Loss')\n",
    "plt.plot(model.history.history['val_loss'], label='Val_Loss')\n",
    "plt.title('Loss Plot')\n",
    "plt.legend()\n",
    "plt.show()"
   ]
  },
  {
   "cell_type": "code",
   "execution_count": 22,
   "id": "d747601d",
   "metadata": {},
   "outputs": [
    {
     "name": "stdout",
     "output_type": "stream",
     "text": [
      "(114, 1, 1)\n",
      "(114, 1)\n",
      "(28, 1, 1)\n",
      "(28, 1)\n"
     ]
    }
   ],
   "source": [
    "X_train = np.reshape(X_train, (X_train.shape[0], 1, X_train.shape[1]))\n",
    "X_test = np.reshape(X_test, (X_test.shape[0], 1, X_test.shape[1]))\n",
    "print(X_train.shape)\n",
    "print(Y_train.shape)\n",
    "print(X_test.shape)\n",
    "print(Y_test.shape)"
   ]
  },
  {
   "cell_type": "code",
   "execution_count": 23,
   "id": "dc52d61d",
   "metadata": {},
   "outputs": [],
   "source": [
    "trainPredict = model.predict(X_train, verbose=0)\n",
    "testPredict = model.predict(X_test, verbose=0)\n",
    "trainPredict = scaler.inverse_transform(trainPredict)\n",
    "trainY = scaler.inverse_transform(Y_train)\n",
    "testPredict = scaler.inverse_transform(testPredict)\n",
    "testY = scaler.inverse_transform(Y_test)"
   ]
  },
  {
   "cell_type": "code",
   "execution_count": 24,
   "id": "5270fac9",
   "metadata": {},
   "outputs": [
    {
     "name": "stdout",
     "output_type": "stream",
     "text": [
      "Train Score RMSE: 70.83\n",
      "Test Score RMSE: 70.83\n"
     ]
    }
   ],
   "source": [
    "trainY=trainY.reshape(1,-1)\n",
    "testY = testY.reshape(1,-1)\n",
    "trainSctrainScore = np.sqrt(mean_squared_error(trainY[0], trainPredict[:,0]))\n",
    "print('Train Score RMSE: %.2f' % (trainSctrainScore))\n",
    "testScore = np.sqrt(mean_squared_error(testY[0], testPredict[:,0]))\n",
    "print('Test Score RMSE: %.2f' % (trainSctrainScore))"
   ]
  },
  {
   "cell_type": "code",
   "execution_count": 25,
   "id": "65710abb",
   "metadata": {},
   "outputs": [
    {
     "data": {
      "image/png": "[encoded data removed]",
      "text/plain": [
       "<Figure size 432x288 with 1 Axes>"
      ]
     },
     "metadata": {
      "needs_background": "light"
     },
     "output_type": "display_data"
    }
   ],
   "source": [
    "trainPredictPlot = np.empty_like(dataset)\n",
    "trainPredictPlot[:,:] = np.nan\n",
    "trainPredictPlot[window:len(trainPredict)+window,:] = trainPredict\n",
    "testPredictPlot = np.empty_like(dataset)\n",
    "testPredictPlot[:,:] = np.nan\n",
    "testPredictPlot[len(trainPredict)+(window):len(dataset)-1,:] = testPredict\n",
    "plt.plot(scaler.inverse_transform(dataset))\n",
    "plt.plot(trainPredictPlot)\n",
    "plt.plot(testPredictPlot)\n",
    "plt.show()"
   ]
  }
 ],
 "metadata": {
  "kernelspec": {
   "display_name": "Python 3 (ipykernel)",
   "language": "python",
   "name": "python3"
  },
  "language_info": {
   "codemirror_mode": {
    "name": "ipython",
    "version": 3
   },
   "file_extension": ".py",
   "mimetype": "text/x-python",
   "name": "python",
   "nbconvert_exporter": "python",
   "pygments_lexer": "ipython3",
   "version": "3.9.12"
  }
 },
 "nbformat": 4,
 "nbformat_minor": 5
}
