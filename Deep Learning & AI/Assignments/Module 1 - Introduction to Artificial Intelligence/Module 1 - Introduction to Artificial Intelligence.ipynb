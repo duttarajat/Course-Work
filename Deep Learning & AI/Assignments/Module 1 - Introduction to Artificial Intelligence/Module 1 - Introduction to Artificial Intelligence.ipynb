{
 "cells": [
  {
   "cell_type": "markdown",
   "id": "f5e7c887",
   "metadata": {},
   "source": [
    "# Module 1 - Introduction to Artificial Intelligence"
   ]
  },
  {
   "cell_type": "raw",
   "id": "68d4a1cc",
   "metadata": {},
   "source": [
    "Problem Statement:\n",
    "In order to have a good understanding of topics coming forward in your class, your trainer wants you to have your execution environment ready.\n",
    "\n",
    "Requirements:\n",
    "You'll need to have a system of minimum 8 GB RAM\n",
    "\n",
    "Tasks to be Done:\n",
    "    A. Install Anaconda on your system with Python version 3.6 or +\n",
    "        a. Create a Tensor Flow environment in your anaconda\n",
    "        b. Download Tensor Flow in your Tensor Flow environment\n",
    "    B. Download below mentioned packages in both the envs\n",
    "        a. Pandas\n",
    "        b. Numpy\n",
    "        c. SciKit-learn\n",
    "        d. Scipy\n",
    "        e. Matplotlib\n",
    "    C. Install following packages only in your Tensor Flow environment\n",
    "        a. Keras\n",
    "        b. TFLearn"
   ]
  },
  {
   "cell_type": "code",
   "execution_count": 1,
   "id": "9b3fa86a",
   "metadata": {},
   "outputs": [],
   "source": [
    "import numpy as np"
   ]
  },
  {
   "cell_type": "code",
   "execution_count": 2,
   "id": "4194997e",
   "metadata": {},
   "outputs": [],
   "source": [
    "import pandas as pd"
   ]
  },
  {
   "cell_type": "code",
   "execution_count": 3,
   "id": "e33a3f7e",
   "metadata": {},
   "outputs": [],
   "source": [
    "import scipy as sc"
   ]
  },
  {
   "cell_type": "code",
   "execution_count": 5,
   "id": "7a8aefe0",
   "metadata": {},
   "outputs": [],
   "source": [
    "import matplotlib.pyplot as plt"
   ]
  },
  {
   "cell_type": "code",
   "execution_count": 4,
   "id": "7a2ce660",
   "metadata": {},
   "outputs": [],
   "source": [
    "import sklearn"
   ]
  },
  {
   "cell_type": "code",
   "execution_count": 6,
   "id": "e6e2217b",
   "metadata": {},
   "outputs": [],
   "source": [
    "import tensorflow as tf"
   ]
  },
  {
   "cell_type": "code",
   "execution_count": 7,
   "id": "5aabecf7",
   "metadata": {},
   "outputs": [],
   "source": [
    "import keras"
   ]
  }
 ],
 "metadata": {
  "kernelspec": {
   "display_name": "Python 3 (ipykernel)",
   "language": "python",
   "name": "python3"
  },
  "language_info": {
   "codemirror_mode": {
    "name": "ipython",
    "version": 3
   },
   "file_extension": ".py",
   "mimetype": "text/x-python",
   "name": "python",
   "nbconvert_exporter": "python",
   "pygments_lexer": "ipython3",
   "version": "3.9.12"
  }
 },
 "nbformat": 4,
 "nbformat_minor": 5
}
