{
 "cells": [
  {
   "cell_type": "markdown",
   "id": "90933f9a",
   "metadata": {},
   "source": [
    "# Module 8 - Deep Learning With TFLearn"
   ]
  },
  {
   "cell_type": "markdown",
   "id": "21eeff6e",
   "metadata": {},
   "source": [
    "#### Problem Statement:"
   ]
  },
  {
   "cell_type": "raw",
   "id": "fcc8e49b",
   "metadata": {},
   "source": [
    "Consider yourself to be Jeff, who is a Deep Learning Engineer at a prestigious company. Your company is working with a Cancer Institute to find out what are the factors which lead up to a patient having cancer."
   ]
  },
  {
   "cell_type": "markdown",
   "id": "25cd3817",
   "metadata": {},
   "source": [
    "#### Tasks to be Done:"
   ]
  },
  {
   "cell_type": "raw",
   "id": "42af26f2",
   "metadata": {},
   "source": [
    "A. Start off by loading the ‘breast_cancer’ dataset from ‘sklearn’\n",
    "    a. Print the number of samples and number of features in the data\n",
    "    b. Divide the data into train & test sets with with test set size to be equal to 0.33\n",
    "    c. Create the network:\n",
    "        i. Start with the input layer\n",
    "        ii. Add two hidden layers, where each layer has 32 nodes\n",
    "        iii. The final layer’s activation should be ‘softmax’\n",
    "        iv. Fit the model on the train set\n",
    "        v. Evaluate the accuracy for train and test set"
   ]
  },
  {
   "cell_type": "code",
   "execution_count": 1,
   "id": "15218845",
   "metadata": {},
   "outputs": [
    {
     "name": "stdout",
     "output_type": "stream",
     "text": [
      "WARNING:tensorflow:From C:\\Users\\dutta\\AppData\\Roaming\\Python\\Python39\\site-packages\\tensorflow\\python\\compat\\v2_compat.py:107: disable_resource_variables (from tensorflow.python.ops.variable_scope) is deprecated and will be removed in a future version.\n",
      "Instructions for updating:\n",
      "non-resource variables are not supported in the long term\n",
      "curses is not supported on this machine (please install/reinstall curses for an optimal experience)\n"
     ]
    }
   ],
   "source": [
    "import numpy as np\n",
    "from sklearn.datasets import load_breast_cancer\n",
    "from sklearn.model_selection import train_test_split\n",
    "import tflearn\n",
    "from tflearn.data_utils import to_categorical"
   ]
  },
  {
   "cell_type": "code",
   "execution_count": 2,
   "id": "40765b72",
   "metadata": {},
   "outputs": [
    {
     "name": "stdout",
     "output_type": "stream",
     "text": [
      "Number of Samples: 569\n",
      "Number of Features: 30\n",
      "Number of Classes: 2\n"
     ]
    }
   ],
   "source": [
    "X, Y = load_breast_cancer(return_X_y=True)\n",
    "n_feat = len(load_breast_cancer().feature_names)\n",
    "n_classes = len(set(Y))\n",
    "print('Number of Samples:', len(X.data))\n",
    "print('Number of Features:', n_feat)\n",
    "print('Number of Classes:', n_classes)"
   ]
  },
  {
   "cell_type": "code",
   "execution_count": 3,
   "id": "3586e47c",
   "metadata": {},
   "outputs": [],
   "source": [
    "X_train, X_test, Y_train, Y_test = train_test_split(X, Y, test_size=0.33, random_state=0)"
   ]
  },
  {
   "cell_type": "code",
   "execution_count": 4,
   "id": "040cc278",
   "metadata": {},
   "outputs": [],
   "source": [
    "Y_train = to_categorical(Y_train, nb_classes=2)\n",
    "Y_test = to_categorical(Y_test, nb_classes=2)"
   ]
  },
  {
   "cell_type": "code",
   "execution_count": 5,
   "id": "e42f6f45",
   "metadata": {},
   "outputs": [
    {
     "data": {
      "text/plain": [
       "((381, 30), (188, 30), (381, 2), (188, 2))"
      ]
     },
     "execution_count": 5,
     "metadata": {},
     "output_type": "execute_result"
    }
   ],
   "source": [
    "X_train.shape, X_test.shape, Y_train.shape, Y_test.shape"
   ]
  },
  {
   "cell_type": "code",
   "execution_count": 6,
   "id": "e1efdb89",
   "metadata": {},
   "outputs": [
    {
     "name": "stdout",
     "output_type": "stream",
     "text": [
      "WARNING:tensorflow:From C:\\ProgramData\\Anaconda3\\lib\\site-packages\\tflearn\\initializations.py:164: calling TruncatedNormal.__init__ (from tensorflow.python.ops.init_ops) with dtype is deprecated and will be removed in a future version.\n",
      "Instructions for updating:\n",
      "Call initializer instance with the dtype argument instead of passing it to the constructor\n"
     ]
    }
   ],
   "source": [
    "net = tflearn.input_data(shape=[None, n_feat])\n",
    "net = tflearn.fully_connected(net,32)\n",
    "net = tflearn.fully_connected(net,32)\n",
    "net = tflearn.fully_connected(net, n_classes, activation='softmax')\n",
    "net = tflearn.regression(net)"
   ]
  },
  {
   "cell_type": "code",
   "execution_count": 7,
   "id": "d8647726",
   "metadata": {},
   "outputs": [],
   "source": [
    "model = tflearn.DNN(net)"
   ]
  },
  {
   "cell_type": "code",
   "execution_count": 8,
   "id": "d42e5491",
   "metadata": {},
   "outputs": [
    {
     "name": "stdout",
     "output_type": "stream",
     "text": [
      "Training Step: 59  | total loss: \u001b[1m\u001b[32m0.25744\u001b[0m\u001b[0m | time: 0.039s\n",
      "| Adam | epoch: 010 | loss: 0.25744 -- iter: 320/381\n",
      "Training Step: 60  | total loss: \u001b[1m\u001b[32m0.25607\u001b[0m\u001b[0m | time: 0.048s\n",
      "| Adam | epoch: 010 | loss: 0.25607 -- iter: 381/381\n",
      "--\n"
     ]
    }
   ],
   "source": [
    "model.fit(X_train, Y_train)"
   ]
  },
  {
   "cell_type": "code",
   "execution_count": 9,
   "id": "4e284fd3",
   "metadata": {},
   "outputs": [
    {
     "name": "stdout",
     "output_type": "stream",
     "text": [
      "Training score: 0.90\n",
      "Test score: 0.95\n"
     ]
    }
   ],
   "source": [
    "trn_score = model.evaluate(X_train, Y_train)\n",
    "tst_score = model.evaluate(X_test, Y_test)\n",
    "print(\"Training score: {:.2f}\".format(trn_score[0]))\n",
    "print(\"Test score: {:.2f}\".format(tst_score[0]))"
   ]
  }
 ],
 "metadata": {
  "kernelspec": {
   "display_name": "Python 3 (ipykernel)",
   "language": "python",
   "name": "python3"
  },
  "language_info": {
   "codemirror_mode": {
    "name": "ipython",
    "version": 3
   },
   "file_extension": ".py",
   "mimetype": "text/x-python",
   "name": "python",
   "nbconvert_exporter": "python",
   "pygments_lexer": "ipython3",
   "version": "3.9.12"
  }
 },
 "nbformat": 4,
 "nbformat_minor": 5
}
