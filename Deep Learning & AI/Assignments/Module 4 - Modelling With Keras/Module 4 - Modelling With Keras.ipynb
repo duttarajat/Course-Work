{
 "cells": [
  {
   "cell_type": "markdown",
   "id": "234140d7",
   "metadata": {},
   "source": [
    "# Module 4 - Modelling With Keras"
   ]
  },
  {
   "cell_type": "markdown",
   "id": "df99cdcf",
   "metadata": {},
   "source": [
    "### Problem Statement:\n",
    "\n",
    "Consider yourself to be Matt, who is a Deep Learning Engineer at a prestigious company. Your company is working with the National Institute of Diabetes to find out what are the factors which lead up to a patient having diabetes."
   ]
  },
  {
   "cell_type": "markdown",
   "id": "88929e10",
   "metadata": {},
   "source": [
    "### Tasks to be Done:"
   ]
  },
  {
   "cell_type": "raw",
   "id": "14e2d844",
   "metadata": {},
   "source": [
    "A. Build a sequential model using Keras on top of this Diabetes dataset to find out if the patient has diabetes or not, using ‘Pregnancies’, ‘Glucose’ & ‘BloodPressure’ as independent columns.\n",
    "    a. This model should have 1 hidden layer with 8 nodes\n",
    "    b. Use Stochastic Gradient as the optimization algorithm\n",
    "    c. Fit the model, with number of epochs to be 100 and batch size to be 10\n",
    "B. Build another sequential model where ‘Outcome’ is the dependent variable and all other columns are predictors.\n",
    "    a. This model should have 3 hidden layers with 16 nodes in each layer\n",
    "    b. Use ‘adam’ as the optimization algorithm\n",
    "    c. Fit the model, with number of epochs to be 150 and batch size to be 10"
   ]
  },
  {
   "cell_type": "code",
   "execution_count": 1,
   "id": "8370daa1",
   "metadata": {},
   "outputs": [],
   "source": [
    "import pandas as pd\n",
    "import matplotlib.pyplot as plt\n",
    "from sklearn.preprocessing import RobustScaler\n",
    "from sklearn.model_selection import train_test_split\n",
    "from keras.models import Sequential\n",
    "from keras.layers import Dense, Dropout\n",
    "from sklearn.metrics import accuracy_score, confusion_matrix, classification_report"
   ]
  },
  {
   "cell_type": "code",
   "execution_count": 2,
   "id": "aa7c4183",
   "metadata": {},
   "outputs": [
    {
     "data": {
      "text/html": [
       "<div>\n",
       "<style scoped>\n",
       "    .dataframe tbody tr th:only-of-type {\n",
       "        vertical-align: middle;\n",
       "    }\n",
       "\n",
       "    .dataframe tbody tr th {\n",
       "        vertical-align: top;\n",
       "    }\n",
       "\n",
       "    .dataframe thead th {\n",
       "        text-align: right;\n",
       "    }\n",
       "</style>\n",
       "<table border=\"1\" class=\"dataframe\">\n",
       "  <thead>\n",
       "    <tr style=\"text-align: right;\">\n",
       "      <th></th>\n",
       "      <th>Pregnancies</th>\n",
       "      <th>Glucose</th>\n",
       "      <th>BloodPressure</th>\n",
       "      <th>SkinThickness</th>\n",
       "      <th>Insulin</th>\n",
       "      <th>BMI</th>\n",
       "      <th>DiabetesPedigreeFunction</th>\n",
       "      <th>Age</th>\n",
       "      <th>Outcome</th>\n",
       "    </tr>\n",
       "  </thead>\n",
       "  <tbody>\n",
       "    <tr>\n",
       "      <th>0</th>\n",
       "      <td>6</td>\n",
       "      <td>148</td>\n",
       "      <td>72</td>\n",
       "      <td>35</td>\n",
       "      <td>0</td>\n",
       "      <td>33.6</td>\n",
       "      <td>0.627</td>\n",
       "      <td>50</td>\n",
       "      <td>1</td>\n",
       "    </tr>\n",
       "    <tr>\n",
       "      <th>1</th>\n",
       "      <td>1</td>\n",
       "      <td>85</td>\n",
       "      <td>66</td>\n",
       "      <td>29</td>\n",
       "      <td>0</td>\n",
       "      <td>26.6</td>\n",
       "      <td>0.351</td>\n",
       "      <td>31</td>\n",
       "      <td>0</td>\n",
       "    </tr>\n",
       "    <tr>\n",
       "      <th>2</th>\n",
       "      <td>8</td>\n",
       "      <td>183</td>\n",
       "      <td>64</td>\n",
       "      <td>0</td>\n",
       "      <td>0</td>\n",
       "      <td>23.3</td>\n",
       "      <td>0.672</td>\n",
       "      <td>32</td>\n",
       "      <td>1</td>\n",
       "    </tr>\n",
       "    <tr>\n",
       "      <th>3</th>\n",
       "      <td>1</td>\n",
       "      <td>89</td>\n",
       "      <td>66</td>\n",
       "      <td>23</td>\n",
       "      <td>94</td>\n",
       "      <td>28.1</td>\n",
       "      <td>0.167</td>\n",
       "      <td>21</td>\n",
       "      <td>0</td>\n",
       "    </tr>\n",
       "    <tr>\n",
       "      <th>4</th>\n",
       "      <td>0</td>\n",
       "      <td>137</td>\n",
       "      <td>40</td>\n",
       "      <td>35</td>\n",
       "      <td>168</td>\n",
       "      <td>43.1</td>\n",
       "      <td>2.288</td>\n",
       "      <td>33</td>\n",
       "      <td>1</td>\n",
       "    </tr>\n",
       "  </tbody>\n",
       "</table>\n",
       "</div>"
      ],
      "text/plain": [
       "   Pregnancies  Glucose  BloodPressure  SkinThickness  Insulin   BMI  \\\n",
       "0            6      148             72             35        0  33.6   \n",
       "1            1       85             66             29        0  26.6   \n",
       "2            8      183             64              0        0  23.3   \n",
       "3            1       89             66             23       94  28.1   \n",
       "4            0      137             40             35      168  43.1   \n",
       "\n",
       "   DiabetesPedigreeFunction  Age  Outcome  \n",
       "0                     0.627   50        1  \n",
       "1                     0.351   31        0  \n",
       "2                     0.672   32        1  \n",
       "3                     0.167   21        0  \n",
       "4                     2.288   33        1  "
      ]
     },
     "execution_count": 2,
     "metadata": {},
     "output_type": "execute_result"
    }
   ],
   "source": [
    "diabetes = pd.read_csv('diabetes.csv')\n",
    "diabetes.head()"
   ]
  },
  {
   "cell_type": "code",
   "execution_count": 3,
   "id": "ddbba296",
   "metadata": {},
   "outputs": [
    {
     "data": {
      "text/html": [
       "<div>\n",
       "<style scoped>\n",
       "    .dataframe tbody tr th:only-of-type {\n",
       "        vertical-align: middle;\n",
       "    }\n",
       "\n",
       "    .dataframe tbody tr th {\n",
       "        vertical-align: top;\n",
       "    }\n",
       "\n",
       "    .dataframe thead th {\n",
       "        text-align: right;\n",
       "    }\n",
       "</style>\n",
       "<table border=\"1\" class=\"dataframe\">\n",
       "  <thead>\n",
       "    <tr style=\"text-align: right;\">\n",
       "      <th></th>\n",
       "      <th>Pregnancies</th>\n",
       "      <th>Glucose</th>\n",
       "      <th>BloodPressure</th>\n",
       "      <th>SkinThickness</th>\n",
       "      <th>Insulin</th>\n",
       "      <th>BMI</th>\n",
       "      <th>DiabetesPedigreeFunction</th>\n",
       "      <th>Age</th>\n",
       "      <th>Outcome</th>\n",
       "    </tr>\n",
       "  </thead>\n",
       "  <tbody>\n",
       "    <tr>\n",
       "      <th>763</th>\n",
       "      <td>10</td>\n",
       "      <td>101</td>\n",
       "      <td>76</td>\n",
       "      <td>48</td>\n",
       "      <td>180</td>\n",
       "      <td>32.9</td>\n",
       "      <td>0.171</td>\n",
       "      <td>63</td>\n",
       "      <td>0</td>\n",
       "    </tr>\n",
       "    <tr>\n",
       "      <th>764</th>\n",
       "      <td>2</td>\n",
       "      <td>122</td>\n",
       "      <td>70</td>\n",
       "      <td>27</td>\n",
       "      <td>0</td>\n",
       "      <td>36.8</td>\n",
       "      <td>0.340</td>\n",
       "      <td>27</td>\n",
       "      <td>0</td>\n",
       "    </tr>\n",
       "    <tr>\n",
       "      <th>765</th>\n",
       "      <td>5</td>\n",
       "      <td>121</td>\n",
       "      <td>72</td>\n",
       "      <td>23</td>\n",
       "      <td>112</td>\n",
       "      <td>26.2</td>\n",
       "      <td>0.245</td>\n",
       "      <td>30</td>\n",
       "      <td>0</td>\n",
       "    </tr>\n",
       "    <tr>\n",
       "      <th>766</th>\n",
       "      <td>1</td>\n",
       "      <td>126</td>\n",
       "      <td>60</td>\n",
       "      <td>0</td>\n",
       "      <td>0</td>\n",
       "      <td>30.1</td>\n",
       "      <td>0.349</td>\n",
       "      <td>47</td>\n",
       "      <td>1</td>\n",
       "    </tr>\n",
       "    <tr>\n",
       "      <th>767</th>\n",
       "      <td>1</td>\n",
       "      <td>93</td>\n",
       "      <td>70</td>\n",
       "      <td>31</td>\n",
       "      <td>0</td>\n",
       "      <td>30.4</td>\n",
       "      <td>0.315</td>\n",
       "      <td>23</td>\n",
       "      <td>0</td>\n",
       "    </tr>\n",
       "  </tbody>\n",
       "</table>\n",
       "</div>"
      ],
      "text/plain": [
       "     Pregnancies  Glucose  BloodPressure  SkinThickness  Insulin   BMI  \\\n",
       "763           10      101             76             48      180  32.9   \n",
       "764            2      122             70             27        0  36.8   \n",
       "765            5      121             72             23      112  26.2   \n",
       "766            1      126             60              0        0  30.1   \n",
       "767            1       93             70             31        0  30.4   \n",
       "\n",
       "     DiabetesPedigreeFunction  Age  Outcome  \n",
       "763                     0.171   63        0  \n",
       "764                     0.340   27        0  \n",
       "765                     0.245   30        0  \n",
       "766                     0.349   47        1  \n",
       "767                     0.315   23        0  "
      ]
     },
     "execution_count": 3,
     "metadata": {},
     "output_type": "execute_result"
    }
   ],
   "source": [
    "diabetes.tail()"
   ]
  },
  {
   "cell_type": "code",
   "execution_count": 4,
   "id": "17bcabf3",
   "metadata": {},
   "outputs": [
    {
     "data": {
      "text/plain": [
       "Pregnancies                 0\n",
       "Glucose                     0\n",
       "BloodPressure               0\n",
       "SkinThickness               0\n",
       "Insulin                     0\n",
       "BMI                         0\n",
       "DiabetesPedigreeFunction    0\n",
       "Age                         0\n",
       "Outcome                     0\n",
       "dtype: int64"
      ]
     },
     "execution_count": 4,
     "metadata": {},
     "output_type": "execute_result"
    }
   ],
   "source": [
    "diabetes.isnull().sum()"
   ]
  },
  {
   "cell_type": "code",
   "execution_count": 5,
   "id": "5f1acf60",
   "metadata": {},
   "outputs": [
    {
     "name": "stdout",
     "output_type": "stream",
     "text": [
      "<class 'pandas.core.frame.DataFrame'>\n",
      "RangeIndex: 768 entries, 0 to 767\n",
      "Data columns (total 9 columns):\n",
      " #   Column                    Non-Null Count  Dtype  \n",
      "---  ------                    --------------  -----  \n",
      " 0   Pregnancies               768 non-null    int64  \n",
      " 1   Glucose                   768 non-null    int64  \n",
      " 2   BloodPressure             768 non-null    int64  \n",
      " 3   SkinThickness             768 non-null    int64  \n",
      " 4   Insulin                   768 non-null    int64  \n",
      " 5   BMI                       768 non-null    float64\n",
      " 6   DiabetesPedigreeFunction  768 non-null    float64\n",
      " 7   Age                       768 non-null    int64  \n",
      " 8   Outcome                   768 non-null    int64  \n",
      "dtypes: float64(2), int64(7)\n",
      "memory usage: 54.1 KB\n"
     ]
    }
   ],
   "source": [
    "diabetes.info()"
   ]
  },
  {
   "cell_type": "code",
   "execution_count": 6,
   "id": "af5bafb8",
   "metadata": {},
   "outputs": [
    {
     "data": {
      "text/html": [
       "<div>\n",
       "<style scoped>\n",
       "    .dataframe tbody tr th:only-of-type {\n",
       "        vertical-align: middle;\n",
       "    }\n",
       "\n",
       "    .dataframe tbody tr th {\n",
       "        vertical-align: top;\n",
       "    }\n",
       "\n",
       "    .dataframe thead th {\n",
       "        text-align: right;\n",
       "    }\n",
       "</style>\n",
       "<table border=\"1\" class=\"dataframe\">\n",
       "  <thead>\n",
       "    <tr style=\"text-align: right;\">\n",
       "      <th></th>\n",
       "      <th>count</th>\n",
       "      <th>mean</th>\n",
       "      <th>std</th>\n",
       "      <th>min</th>\n",
       "      <th>25%</th>\n",
       "      <th>50%</th>\n",
       "      <th>75%</th>\n",
       "      <th>max</th>\n",
       "    </tr>\n",
       "  </thead>\n",
       "  <tbody>\n",
       "    <tr>\n",
       "      <th>Pregnancies</th>\n",
       "      <td>768.0</td>\n",
       "      <td>3.845052</td>\n",
       "      <td>3.369578</td>\n",
       "      <td>0.000</td>\n",
       "      <td>1.00000</td>\n",
       "      <td>3.0000</td>\n",
       "      <td>6.00000</td>\n",
       "      <td>17.00</td>\n",
       "    </tr>\n",
       "    <tr>\n",
       "      <th>Glucose</th>\n",
       "      <td>768.0</td>\n",
       "      <td>120.894531</td>\n",
       "      <td>31.972618</td>\n",
       "      <td>0.000</td>\n",
       "      <td>99.00000</td>\n",
       "      <td>117.0000</td>\n",
       "      <td>140.25000</td>\n",
       "      <td>199.00</td>\n",
       "    </tr>\n",
       "    <tr>\n",
       "      <th>BloodPressure</th>\n",
       "      <td>768.0</td>\n",
       "      <td>69.105469</td>\n",
       "      <td>19.355807</td>\n",
       "      <td>0.000</td>\n",
       "      <td>62.00000</td>\n",
       "      <td>72.0000</td>\n",
       "      <td>80.00000</td>\n",
       "      <td>122.00</td>\n",
       "    </tr>\n",
       "    <tr>\n",
       "      <th>SkinThickness</th>\n",
       "      <td>768.0</td>\n",
       "      <td>20.536458</td>\n",
       "      <td>15.952218</td>\n",
       "      <td>0.000</td>\n",
       "      <td>0.00000</td>\n",
       "      <td>23.0000</td>\n",
       "      <td>32.00000</td>\n",
       "      <td>99.00</td>\n",
       "    </tr>\n",
       "    <tr>\n",
       "      <th>Insulin</th>\n",
       "      <td>768.0</td>\n",
       "      <td>79.799479</td>\n",
       "      <td>115.244002</td>\n",
       "      <td>0.000</td>\n",
       "      <td>0.00000</td>\n",
       "      <td>30.5000</td>\n",
       "      <td>127.25000</td>\n",
       "      <td>846.00</td>\n",
       "    </tr>\n",
       "    <tr>\n",
       "      <th>BMI</th>\n",
       "      <td>768.0</td>\n",
       "      <td>31.992578</td>\n",
       "      <td>7.884160</td>\n",
       "      <td>0.000</td>\n",
       "      <td>27.30000</td>\n",
       "      <td>32.0000</td>\n",
       "      <td>36.60000</td>\n",
       "      <td>67.10</td>\n",
       "    </tr>\n",
       "    <tr>\n",
       "      <th>DiabetesPedigreeFunction</th>\n",
       "      <td>768.0</td>\n",
       "      <td>0.471876</td>\n",
       "      <td>0.331329</td>\n",
       "      <td>0.078</td>\n",
       "      <td>0.24375</td>\n",
       "      <td>0.3725</td>\n",
       "      <td>0.62625</td>\n",
       "      <td>2.42</td>\n",
       "    </tr>\n",
       "    <tr>\n",
       "      <th>Age</th>\n",
       "      <td>768.0</td>\n",
       "      <td>33.240885</td>\n",
       "      <td>11.760232</td>\n",
       "      <td>21.000</td>\n",
       "      <td>24.00000</td>\n",
       "      <td>29.0000</td>\n",
       "      <td>41.00000</td>\n",
       "      <td>81.00</td>\n",
       "    </tr>\n",
       "    <tr>\n",
       "      <th>Outcome</th>\n",
       "      <td>768.0</td>\n",
       "      <td>0.348958</td>\n",
       "      <td>0.476951</td>\n",
       "      <td>0.000</td>\n",
       "      <td>0.00000</td>\n",
       "      <td>0.0000</td>\n",
       "      <td>1.00000</td>\n",
       "      <td>1.00</td>\n",
       "    </tr>\n",
       "  </tbody>\n",
       "</table>\n",
       "</div>"
      ],
      "text/plain": [
       "                          count        mean         std     min       25%  \\\n",
       "Pregnancies               768.0    3.845052    3.369578   0.000   1.00000   \n",
       "Glucose                   768.0  120.894531   31.972618   0.000  99.00000   \n",
       "BloodPressure             768.0   69.105469   19.355807   0.000  62.00000   \n",
       "SkinThickness             768.0   20.536458   15.952218   0.000   0.00000   \n",
       "Insulin                   768.0   79.799479  115.244002   0.000   0.00000   \n",
       "BMI                       768.0   31.992578    7.884160   0.000  27.30000   \n",
       "DiabetesPedigreeFunction  768.0    0.471876    0.331329   0.078   0.24375   \n",
       "Age                       768.0   33.240885   11.760232  21.000  24.00000   \n",
       "Outcome                   768.0    0.348958    0.476951   0.000   0.00000   \n",
       "\n",
       "                               50%        75%     max  \n",
       "Pregnancies                 3.0000    6.00000   17.00  \n",
       "Glucose                   117.0000  140.25000  199.00  \n",
       "BloodPressure              72.0000   80.00000  122.00  \n",
       "SkinThickness              23.0000   32.00000   99.00  \n",
       "Insulin                    30.5000  127.25000  846.00  \n",
       "BMI                        32.0000   36.60000   67.10  \n",
       "DiabetesPedigreeFunction    0.3725    0.62625    2.42  \n",
       "Age                        29.0000   41.00000   81.00  \n",
       "Outcome                     0.0000    1.00000    1.00  "
      ]
     },
     "execution_count": 6,
     "metadata": {},
     "output_type": "execute_result"
    }
   ],
   "source": [
    "diabetes.describe().T"
   ]
  },
  {
   "cell_type": "code",
   "execution_count": 7,
   "id": "1d827d77",
   "metadata": {},
   "outputs": [
    {
     "data": {
      "image/png": "[encoded data removed]",
      "text/plain": [
       "<Figure size 432x288 with 1 Axes>"
      ]
     },
     "metadata": {},
     "output_type": "display_data"
    }
   ],
   "source": [
    "plt.pie(diabetes['Outcome'].value_counts().tolist(),labels=diabetes['Outcome'].value_counts().keys().tolist(),autopct=\"%0.1f%%\")\n",
    "plt.show()"
   ]
  },
  {
   "cell_type": "code",
   "execution_count": 8,
   "id": "9b603cff",
   "metadata": {},
   "outputs": [],
   "source": [
    "X=diabetes[['Pregnancies','Glucose','BloodPressure']]\n",
    "Y=diabetes[['Outcome']]\n",
    "X_train, X_test, Y_train, Y_test = train_test_split(X, Y, train_size=0.8, random_state=0)"
   ]
  },
  {
   "cell_type": "code",
   "execution_count": 9,
   "id": "dffa80ed",
   "metadata": {},
   "outputs": [],
   "source": [
    "scaler=RobustScaler()\n",
    "X_train=scaler.fit_transform(X_train)\n",
    "X_test=scaler.transform(X_test)"
   ]
  },
  {
   "cell_type": "code",
   "execution_count": 10,
   "id": "a4937c56",
   "metadata": {},
   "outputs": [
    {
     "name": "stdout",
     "output_type": "stream",
     "text": [
      "Model: \"sequential\"\n",
      "_________________________________________________________________\n",
      " Layer (type)                Output Shape              Param #   \n",
      "=================================================================\n",
      " dense (Dense)               (None, 8)                 32        \n",
      "                                                                 \n",
      " dense_1 (Dense)             (None, 1)                 9         \n",
      "                                                                 \n",
      "=================================================================\n",
      "Total params: 41\n",
      "Trainable params: 41\n",
      "Non-trainable params: 0\n",
      "_________________________________________________________________\n"
     ]
    }
   ],
   "source": [
    "model=Sequential()\n",
    "model.add(Dense(8,input_dim=3))\n",
    "model.add(Dense(1))\n",
    "model.compile(loss='binary_crossentropy', optimizer='sgd', metrics=['accuracy']) \n",
    "model.summary()"
   ]
  },
  {
   "cell_type": "code",
   "execution_count": 11,
   "id": "b8700755",
   "metadata": {
    "scrolled": false
   },
   "outputs": [
    {
     "name": "stdout",
     "output_type": "stream",
     "text": [
      "Epoch 1/100\n",
      "62/62 [==============================] - 2s 13ms/step - loss: 2.8386 - accuracy: 0.6889 - val_loss: 1.3838 - val_accuracy: 0.7857\n",
      "Epoch 2/100\n",
      "62/62 [==============================] - 0s 4ms/step - loss: 4.0098 - accuracy: 0.6254 - val_loss: 9.6531 - val_accuracy: 0.3571\n",
      "Epoch 3/100\n",
      "62/62 [==============================] - 0s 5ms/step - loss: 9.6819 - accuracy: 0.3616 - val_loss: 10.1282 - val_accuracy: 0.3247\n",
      "Epoch 4/100\n",
      "62/62 [==============================] - 0s 5ms/step - loss: 9.6988 - accuracy: 0.3616 - val_loss: 10.2099 - val_accuracy: 0.3247\n",
      "Epoch 5/100\n",
      "62/62 [==============================] - 0s 4ms/step - loss: 9.6610 - accuracy: 0.3599 - val_loss: 10.1189 - val_accuracy: 0.3312\n",
      "Epoch 6/100\n",
      "62/62 [==============================] - 0s 5ms/step - loss: 9.6244 - accuracy: 0.3664 - val_loss: 10.5199 - val_accuracy: 0.3052\n",
      "Epoch 7/100\n",
      "62/62 [==============================] - 0s 4ms/step - loss: 9.6649 - accuracy: 0.3664 - val_loss: 10.5199 - val_accuracy: 0.3052\n",
      "Epoch 8/100\n",
      "62/62 [==============================] - 0s 5ms/step - loss: 9.6649 - accuracy: 0.3664 - val_loss: 10.5199 - val_accuracy: 0.3052\n",
      "Epoch 9/100\n",
      "62/62 [==============================] - 0s 4ms/step - loss: 9.6649 - accuracy: 0.3664 - val_loss: 10.5199 - val_accuracy: 0.3052\n",
      "Epoch 10/100\n",
      "62/62 [==============================] - 0s 4ms/step - loss: 9.6649 - accuracy: 0.3664 - val_loss: 10.5199 - val_accuracy: 0.3052\n",
      "Epoch 11/100\n",
      "62/62 [==============================] - 0s 4ms/step - loss: 9.6649 - accuracy: 0.3664 - val_loss: 10.5199 - val_accuracy: 0.3052\n",
      "Epoch 12/100\n",
      "62/62 [==============================] - 0s 4ms/step - loss: 9.6649 - accuracy: 0.3664 - val_loss: 10.5199 - val_accuracy: 0.3052\n",
      "Epoch 13/100\n",
      "62/62 [==============================] - 0s 4ms/step - loss: 9.6649 - accuracy: 0.3664 - val_loss: 10.5199 - val_accuracy: 0.3052\n",
      "Epoch 14/100\n",
      "62/62 [==============================] - 0s 4ms/step - loss: 9.6649 - accuracy: 0.3664 - val_loss: 10.5199 - val_accuracy: 0.3052\n",
      "Epoch 15/100\n",
      "62/62 [==============================] - 0s 4ms/step - loss: 9.6649 - accuracy: 0.3664 - val_loss: 10.5199 - val_accuracy: 0.3052\n",
      "Epoch 16/100\n",
      "62/62 [==============================] - 0s 4ms/step - loss: 9.6649 - accuracy: 0.3664 - val_loss: 10.5199 - val_accuracy: 0.3052\n",
      "Epoch 17/100\n",
      "62/62 [==============================] - 0s 4ms/step - loss: 9.6649 - accuracy: 0.3664 - val_loss: 10.5199 - val_accuracy: 0.3052\n",
      "Epoch 18/100\n",
      "62/62 [==============================] - 0s 4ms/step - loss: 9.6649 - accuracy: 0.3664 - val_loss: 10.5199 - val_accuracy: 0.3052\n",
      "Epoch 19/100\n",
      "62/62 [==============================] - 0s 4ms/step - loss: 9.6649 - accuracy: 0.3664 - val_loss: 10.5199 - val_accuracy: 0.3052\n",
      "Epoch 20/100\n",
      "62/62 [==============================] - 0s 4ms/step - loss: 9.6649 - accuracy: 0.3664 - val_loss: 10.5199 - val_accuracy: 0.3052\n",
      "Epoch 21/100\n",
      "62/62 [==============================] - 0s 4ms/step - loss: 9.6649 - accuracy: 0.3664 - val_loss: 10.5199 - val_accuracy: 0.3052\n",
      "Epoch 22/100\n",
      "62/62 [==============================] - 0s 4ms/step - loss: 9.6649 - accuracy: 0.3664 - val_loss: 10.5199 - val_accuracy: 0.3052\n",
      "Epoch 23/100\n",
      "62/62 [==============================] - 0s 3ms/step - loss: 9.6649 - accuracy: 0.3664 - val_loss: 10.5199 - val_accuracy: 0.3052\n",
      "Epoch 24/100\n",
      "62/62 [==============================] - 0s 4ms/step - loss: 9.6649 - accuracy: 0.3664 - val_loss: 10.5199 - val_accuracy: 0.3052\n",
      "Epoch 25/100\n",
      "62/62 [==============================] - 0s 4ms/step - loss: 9.6649 - accuracy: 0.3664 - val_loss: 10.5199 - val_accuracy: 0.3052\n",
      "Epoch 26/100\n",
      "62/62 [==============================] - 0s 4ms/step - loss: 9.6649 - accuracy: 0.3664 - val_loss: 10.5199 - val_accuracy: 0.3052\n",
      "Epoch 27/100\n",
      "62/62 [==============================] - 0s 4ms/step - loss: 9.6649 - accuracy: 0.3664 - val_loss: 10.5199 - val_accuracy: 0.3052\n",
      "Epoch 28/100\n",
      "62/62 [==============================] - 0s 4ms/step - loss: 9.6649 - accuracy: 0.3664 - val_loss: 10.5199 - val_accuracy: 0.3052\n",
      "Epoch 29/100\n",
      "62/62 [==============================] - 0s 4ms/step - loss: 9.6649 - accuracy: 0.3664 - val_loss: 10.5199 - val_accuracy: 0.3052\n",
      "Epoch 30/100\n",
      "62/62 [==============================] - 0s 4ms/step - loss: 9.6649 - accuracy: 0.3664 - val_loss: 10.5199 - val_accuracy: 0.3052\n",
      "Epoch 31/100\n",
      "62/62 [==============================] - 0s 4ms/step - loss: 9.6649 - accuracy: 0.3664 - val_loss: 10.5199 - val_accuracy: 0.3052\n",
      "Epoch 32/100\n",
      "62/62 [==============================] - 0s 4ms/step - loss: 9.6649 - accuracy: 0.3664 - val_loss: 10.5199 - val_accuracy: 0.3052\n",
      "Epoch 33/100\n",
      "62/62 [==============================] - 0s 4ms/step - loss: 9.6649 - accuracy: 0.3664 - val_loss: 10.5199 - val_accuracy: 0.3052\n",
      "Epoch 34/100\n",
      "62/62 [==============================] - 0s 4ms/step - loss: 9.6649 - accuracy: 0.3664 - val_loss: 10.5199 - val_accuracy: 0.3052\n",
      "Epoch 35/100\n",
      "62/62 [==============================] - 0s 4ms/step - loss: 9.6649 - accuracy: 0.3664 - val_loss: 10.5199 - val_accuracy: 0.3052\n",
      "Epoch 36/100\n",
      "62/62 [==============================] - 0s 4ms/step - loss: 9.6649 - accuracy: 0.3664 - val_loss: 10.5199 - val_accuracy: 0.3052\n",
      "Epoch 37/100\n",
      "62/62 [==============================] - 0s 4ms/step - loss: 9.6649 - accuracy: 0.3664 - val_loss: 10.5199 - val_accuracy: 0.3052\n",
      "Epoch 38/100\n",
      "62/62 [==============================] - 0s 4ms/step - loss: 9.6649 - accuracy: 0.3664 - val_loss: 10.5199 - val_accuracy: 0.3052\n",
      "Epoch 39/100\n",
      "62/62 [==============================] - 0s 4ms/step - loss: 9.6649 - accuracy: 0.3664 - val_loss: 10.5199 - val_accuracy: 0.3052\n",
      "Epoch 40/100\n",
      "62/62 [==============================] - 0s 4ms/step - loss: 9.6649 - accuracy: 0.3664 - val_loss: 10.5199 - val_accuracy: 0.3052\n",
      "Epoch 41/100\n",
      "62/62 [==============================] - 0s 4ms/step - loss: 9.6649 - accuracy: 0.3664 - val_loss: 10.5199 - val_accuracy: 0.3052\n",
      "Epoch 42/100\n",
      "62/62 [==============================] - 0s 4ms/step - loss: 9.6649 - accuracy: 0.3664 - val_loss: 10.5199 - val_accuracy: 0.3052\n",
      "Epoch 43/100\n",
      "62/62 [==============================] - 0s 4ms/step - loss: 9.6649 - accuracy: 0.3664 - val_loss: 10.5199 - val_accuracy: 0.3052\n",
      "Epoch 44/100\n",
      "62/62 [==============================] - 0s 4ms/step - loss: 9.6649 - accuracy: 0.3664 - val_loss: 10.5199 - val_accuracy: 0.3052\n",
      "Epoch 45/100\n",
      "62/62 [==============================] - 0s 4ms/step - loss: 9.6649 - accuracy: 0.3664 - val_loss: 10.5199 - val_accuracy: 0.3052\n",
      "Epoch 46/100\n",
      "62/62 [==============================] - 0s 4ms/step - loss: 9.6649 - accuracy: 0.3664 - val_loss: 10.5199 - val_accuracy: 0.3052\n",
      "Epoch 47/100\n",
      "62/62 [==============================] - 0s 4ms/step - loss: 9.6649 - accuracy: 0.3664 - val_loss: 10.5199 - val_accuracy: 0.3052\n",
      "Epoch 48/100\n",
      "62/62 [==============================] - 0s 4ms/step - loss: 9.6649 - accuracy: 0.3664 - val_loss: 10.5199 - val_accuracy: 0.3052\n",
      "Epoch 49/100\n",
      "62/62 [==============================] - 0s 4ms/step - loss: 9.6649 - accuracy: 0.3664 - val_loss: 10.5199 - val_accuracy: 0.3052\n",
      "Epoch 50/100\n",
      "62/62 [==============================] - 0s 4ms/step - loss: 9.6649 - accuracy: 0.3664 - val_loss: 10.5199 - val_accuracy: 0.3052\n",
      "Epoch 51/100\n",
      "62/62 [==============================] - 0s 4ms/step - loss: 9.6649 - accuracy: 0.3664 - val_loss: 10.5199 - val_accuracy: 0.3052\n",
      "Epoch 52/100\n",
      "62/62 [==============================] - 0s 4ms/step - loss: 9.6649 - accuracy: 0.3664 - val_loss: 10.5199 - val_accuracy: 0.3052\n",
      "Epoch 53/100\n",
      "62/62 [==============================] - 0s 4ms/step - loss: 9.6649 - accuracy: 0.3664 - val_loss: 10.5199 - val_accuracy: 0.3052\n",
      "Epoch 54/100\n",
      "62/62 [==============================] - 0s 4ms/step - loss: 9.6649 - accuracy: 0.3664 - val_loss: 10.5199 - val_accuracy: 0.3052\n",
      "Epoch 55/100\n",
      "62/62 [==============================] - 0s 4ms/step - loss: 9.6649 - accuracy: 0.3664 - val_loss: 10.5199 - val_accuracy: 0.3052\n",
      "Epoch 56/100\n",
      "62/62 [==============================] - 0s 4ms/step - loss: 9.6649 - accuracy: 0.3664 - val_loss: 10.5199 - val_accuracy: 0.3052\n",
      "Epoch 57/100\n",
      "62/62 [==============================] - 0s 4ms/step - loss: 9.6649 - accuracy: 0.3664 - val_loss: 10.5199 - val_accuracy: 0.3052\n",
      "Epoch 58/100\n"
     ]
    },
    {
     "name": "stdout",
     "output_type": "stream",
     "text": [
      "62/62 [==============================] - 0s 4ms/step - loss: 9.6649 - accuracy: 0.3664 - val_loss: 10.5199 - val_accuracy: 0.3052\n",
      "Epoch 59/100\n",
      "62/62 [==============================] - 0s 4ms/step - loss: 9.6649 - accuracy: 0.3664 - val_loss: 10.5199 - val_accuracy: 0.3052\n",
      "Epoch 60/100\n",
      "62/62 [==============================] - 0s 4ms/step - loss: 9.6649 - accuracy: 0.3664 - val_loss: 10.5199 - val_accuracy: 0.3052\n",
      "Epoch 61/100\n",
      "62/62 [==============================] - 0s 4ms/step - loss: 9.6649 - accuracy: 0.3664 - val_loss: 10.5199 - val_accuracy: 0.3052\n",
      "Epoch 62/100\n",
      "62/62 [==============================] - 0s 4ms/step - loss: 9.6649 - accuracy: 0.3664 - val_loss: 10.5199 - val_accuracy: 0.3052\n",
      "Epoch 63/100\n",
      "62/62 [==============================] - 0s 4ms/step - loss: 9.6649 - accuracy: 0.3664 - val_loss: 10.5199 - val_accuracy: 0.3052\n",
      "Epoch 64/100\n",
      "62/62 [==============================] - 0s 4ms/step - loss: 9.6649 - accuracy: 0.3664 - val_loss: 10.5199 - val_accuracy: 0.3052\n",
      "Epoch 65/100\n",
      "62/62 [==============================] - 0s 4ms/step - loss: 9.6649 - accuracy: 0.3664 - val_loss: 10.5199 - val_accuracy: 0.3052\n",
      "Epoch 66/100\n",
      "62/62 [==============================] - 0s 4ms/step - loss: 9.6649 - accuracy: 0.3664 - val_loss: 10.5199 - val_accuracy: 0.3052\n",
      "Epoch 67/100\n",
      "62/62 [==============================] - 0s 4ms/step - loss: 9.6649 - accuracy: 0.3664 - val_loss: 10.5199 - val_accuracy: 0.3052\n",
      "Epoch 68/100\n",
      "62/62 [==============================] - 0s 4ms/step - loss: 9.6649 - accuracy: 0.3664 - val_loss: 10.5199 - val_accuracy: 0.3052\n",
      "Epoch 69/100\n",
      "62/62 [==============================] - 0s 4ms/step - loss: 9.6649 - accuracy: 0.3664 - val_loss: 10.5199 - val_accuracy: 0.3052\n",
      "Epoch 70/100\n",
      "62/62 [==============================] - 0s 4ms/step - loss: 9.6649 - accuracy: 0.3664 - val_loss: 10.5199 - val_accuracy: 0.3052\n",
      "Epoch 71/100\n",
      "62/62 [==============================] - 0s 4ms/step - loss: 9.6649 - accuracy: 0.3664 - val_loss: 10.5199 - val_accuracy: 0.3052\n",
      "Epoch 72/100\n",
      "62/62 [==============================] - 0s 4ms/step - loss: 9.6649 - accuracy: 0.3664 - val_loss: 10.5199 - val_accuracy: 0.3052\n",
      "Epoch 73/100\n",
      "62/62 [==============================] - 0s 4ms/step - loss: 9.6649 - accuracy: 0.3664 - val_loss: 10.5199 - val_accuracy: 0.3052\n",
      "Epoch 74/100\n",
      "62/62 [==============================] - 0s 4ms/step - loss: 9.6649 - accuracy: 0.3664 - val_loss: 10.5199 - val_accuracy: 0.3052\n",
      "Epoch 75/100\n",
      "62/62 [==============================] - 0s 4ms/step - loss: 9.6649 - accuracy: 0.3664 - val_loss: 10.5199 - val_accuracy: 0.3052\n",
      "Epoch 76/100\n",
      "62/62 [==============================] - 0s 4ms/step - loss: 9.6649 - accuracy: 0.3664 - val_loss: 10.5199 - val_accuracy: 0.3052\n",
      "Epoch 77/100\n",
      "62/62 [==============================] - 0s 4ms/step - loss: 9.6649 - accuracy: 0.3664 - val_loss: 10.5199 - val_accuracy: 0.3052\n",
      "Epoch 78/100\n",
      "62/62 [==============================] - 0s 4ms/step - loss: 9.6649 - accuracy: 0.3664 - val_loss: 10.5199 - val_accuracy: 0.3052\n",
      "Epoch 79/100\n",
      "62/62 [==============================] - 0s 4ms/step - loss: 9.6649 - accuracy: 0.3664 - val_loss: 10.5199 - val_accuracy: 0.3052\n",
      "Epoch 80/100\n",
      "62/62 [==============================] - 0s 4ms/step - loss: 9.6649 - accuracy: 0.3664 - val_loss: 10.5199 - val_accuracy: 0.3052\n",
      "Epoch 81/100\n",
      "62/62 [==============================] - 0s 4ms/step - loss: 9.6649 - accuracy: 0.3664 - val_loss: 10.5199 - val_accuracy: 0.3052\n",
      "Epoch 82/100\n",
      "62/62 [==============================] - 0s 4ms/step - loss: 9.6649 - accuracy: 0.3664 - val_loss: 10.5199 - val_accuracy: 0.3052\n",
      "Epoch 83/100\n",
      "62/62 [==============================] - 0s 4ms/step - loss: 9.6649 - accuracy: 0.3664 - val_loss: 10.5199 - val_accuracy: 0.3052\n",
      "Epoch 84/100\n",
      "62/62 [==============================] - 0s 4ms/step - loss: 9.6649 - accuracy: 0.3664 - val_loss: 10.5199 - val_accuracy: 0.3052\n",
      "Epoch 85/100\n",
      "62/62 [==============================] - 0s 4ms/step - loss: 9.6649 - accuracy: 0.3664 - val_loss: 10.5199 - val_accuracy: 0.3052\n",
      "Epoch 86/100\n",
      "62/62 [==============================] - 0s 4ms/step - loss: 9.6649 - accuracy: 0.3664 - val_loss: 10.5199 - val_accuracy: 0.3052\n",
      "Epoch 87/100\n",
      "62/62 [==============================] - 0s 4ms/step - loss: 9.6649 - accuracy: 0.3664 - val_loss: 10.5199 - val_accuracy: 0.3052\n",
      "Epoch 88/100\n",
      "62/62 [==============================] - 0s 4ms/step - loss: 9.6649 - accuracy: 0.3664 - val_loss: 10.5199 - val_accuracy: 0.3052\n",
      "Epoch 89/100\n",
      "62/62 [==============================] - 0s 4ms/step - loss: 9.6649 - accuracy: 0.3664 - val_loss: 10.5199 - val_accuracy: 0.3052\n",
      "Epoch 90/100\n",
      "62/62 [==============================] - 0s 4ms/step - loss: 9.6649 - accuracy: 0.3664 - val_loss: 10.5199 - val_accuracy: 0.3052\n",
      "Epoch 91/100\n",
      "62/62 [==============================] - 0s 4ms/step - loss: 9.6649 - accuracy: 0.3664 - val_loss: 10.5199 - val_accuracy: 0.3052\n",
      "Epoch 92/100\n",
      "62/62 [==============================] - 0s 4ms/step - loss: 9.6649 - accuracy: 0.3664 - val_loss: 10.5199 - val_accuracy: 0.3052\n",
      "Epoch 93/100\n",
      "62/62 [==============================] - 0s 4ms/step - loss: 9.6649 - accuracy: 0.3664 - val_loss: 10.5199 - val_accuracy: 0.3052\n",
      "Epoch 94/100\n",
      "62/62 [==============================] - 0s 5ms/step - loss: 9.6649 - accuracy: 0.3664 - val_loss: 10.5199 - val_accuracy: 0.3052\n",
      "Epoch 95/100\n",
      "62/62 [==============================] - 0s 5ms/step - loss: 9.6649 - accuracy: 0.3664 - val_loss: 10.5199 - val_accuracy: 0.3052\n",
      "Epoch 96/100\n",
      "62/62 [==============================] - 0s 5ms/step - loss: 9.6649 - accuracy: 0.3664 - val_loss: 10.5199 - val_accuracy: 0.3052\n",
      "Epoch 97/100\n",
      "62/62 [==============================] - 0s 4ms/step - loss: 9.6649 - accuracy: 0.3664 - val_loss: 10.5199 - val_accuracy: 0.3052\n",
      "Epoch 98/100\n",
      "62/62 [==============================] - 0s 4ms/step - loss: 9.6649 - accuracy: 0.3664 - val_loss: 10.5199 - val_accuracy: 0.3052\n",
      "Epoch 99/100\n",
      "62/62 [==============================] - 0s 4ms/step - loss: 9.6649 - accuracy: 0.3664 - val_loss: 10.5199 - val_accuracy: 0.3052\n",
      "Epoch 100/100\n",
      "62/62 [==============================] - 0s 4ms/step - loss: 9.6649 - accuracy: 0.3664 - val_loss: 10.5199 - val_accuracy: 0.3052\n"
     ]
    },
    {
     "data": {
      "text/plain": [
       "<keras.callbacks.History at 0x1cc9e0b49d0>"
      ]
     },
     "execution_count": 11,
     "metadata": {},
     "output_type": "execute_result"
    }
   ],
   "source": [
    "model.fit(X_train, Y_train, epochs=100, batch_size=10, validation_data=(X_test,Y_test))"
   ]
  },
  {
   "cell_type": "code",
   "execution_count": 12,
   "id": "f40d5d16",
   "metadata": {},
   "outputs": [
    {
     "data": {
      "image/png": "[encoded data removed]",
      "text/plain": [
       "<Figure size 432x288 with 1 Axes>"
      ]
     },
     "metadata": {
      "needs_background": "light"
     },
     "output_type": "display_data"
    }
   ],
   "source": [
    "plt.plot(model.history.history['accuracy'], label='Accuracy')\n",
    "plt.plot(model.history.history['val_accuracy'], label='Val Accuracy')\n",
    "plt.title('Accuracy Plot')\n",
    "plt.legend()\n",
    "plt.show()"
   ]
  },
  {
   "cell_type": "code",
   "execution_count": 13,
   "id": "674ac4fd",
   "metadata": {},
   "outputs": [
    {
     "data": {
      "image/png": "[encoded data removed]",
      "text/plain": [
       "<Figure size 432x288 with 1 Axes>"
      ]
     },
     "metadata": {
      "needs_background": "light"
     },
     "output_type": "display_data"
    }
   ],
   "source": [
    "plt.plot(model.history.history['loss'], label='Loss')\n",
    "plt.plot(model.history.history['val_loss'], label='Val Loss')\n",
    "plt.title('Loss Plot')\n",
    "plt.legend()\n",
    "plt.show()"
   ]
  },
  {
   "cell_type": "code",
   "execution_count": 14,
   "id": "faab4238",
   "metadata": {},
   "outputs": [
    {
     "name": "stdout",
     "output_type": "stream",
     "text": [
      "5/5 [==============================] - 0s 4ms/step\n"
     ]
    }
   ],
   "source": [
    "Y_pred = model.predict(X_test)\n",
    "Y_pred = (Y_pred > 0.5)"
   ]
  },
  {
   "cell_type": "code",
   "execution_count": 15,
   "id": "0a475b1c",
   "metadata": {
    "scrolled": true
   },
   "outputs": [
    {
     "name": "stdout",
     "output_type": "stream",
     "text": [
      "[[  3 104]\n",
      " [  3  44]]\n",
      "Accuracy Score: 30.519480519480517\n",
      "              precision    recall  f1-score   support\n",
      "\n",
      "           0       0.50      0.03      0.05       107\n",
      "           1       0.30      0.94      0.45        47\n",
      "\n",
      "    accuracy                           0.31       154\n",
      "   macro avg       0.40      0.48      0.25       154\n",
      "weighted avg       0.44      0.31      0.17       154\n",
      "\n"
     ]
    }
   ],
   "source": [
    "print(confusion_matrix(Y_test, Y_pred))\n",
    "print('Accuracy Score:', accuracy_score(Y_test, Y_pred)*100)\n",
    "print(classification_report(Y_test, Y_pred))"
   ]
  },
  {
   "cell_type": "code",
   "execution_count": null,
   "id": "1fd7ff93",
   "metadata": {},
   "outputs": [],
   "source": []
  },
  {
   "cell_type": "code",
   "execution_count": 16,
   "id": "18c40ae6",
   "metadata": {},
   "outputs": [],
   "source": [
    "X=diabetes[['Pregnancies','Glucose','BloodPressure','SkinThickness','Insulin','BMI','DiabetesPedigreeFunction','Age']]\n",
    "Y=diabetes[['Outcome']]\n",
    "X_train, X_test, Y_train, Y_test = train_test_split(X, Y, train_size=0.8, random_state=0)"
   ]
  },
  {
   "cell_type": "code",
   "execution_count": 17,
   "id": "a752ebaa",
   "metadata": {},
   "outputs": [],
   "source": [
    "scaler=RobustScaler()\n",
    "X_train=scaler.fit_transform(X_train)\n",
    "X_test=scaler.transform(X_test)"
   ]
  },
  {
   "cell_type": "code",
   "execution_count": 18,
   "id": "fe7152e9",
   "metadata": {},
   "outputs": [
    {
     "name": "stdout",
     "output_type": "stream",
     "text": [
      "Model: \"sequential_1\"\n",
      "_________________________________________________________________\n",
      " Layer (type)                Output Shape              Param #   \n",
      "=================================================================\n",
      " dense_2 (Dense)             (None, 16)                144       \n",
      "                                                                 \n",
      " dense_3 (Dense)             (None, 16)                272       \n",
      "                                                                 \n",
      " dense_4 (Dense)             (None, 16)                272       \n",
      "                                                                 \n",
      " dense_5 (Dense)             (None, 1)                 17        \n",
      "                                                                 \n",
      "=================================================================\n",
      "Total params: 705\n",
      "Trainable params: 705\n",
      "Non-trainable params: 0\n",
      "_________________________________________________________________\n"
     ]
    }
   ],
   "source": [
    "model=Sequential()\n",
    "model.add(Dense(16,input_dim=8))\n",
    "model.add(Dense(16,input_dim=8))\n",
    "model.add(Dense(16,input_dim=8))\n",
    "model.add(Dense(1))\n",
    "model.compile(loss='binary_crossentropy', optimizer='adam', metrics=['accuracy']) \n",
    "model.summary()"
   ]
  },
  {
   "cell_type": "code",
   "execution_count": 19,
   "id": "4819679c",
   "metadata": {
    "scrolled": false
   },
   "outputs": [
    {
     "name": "stdout",
     "output_type": "stream",
     "text": [
      "Epoch 1/100\n",
      "62/62 [==============================] - 2s 10ms/step - loss: 2.2420 - accuracy: 0.7085 - val_loss: 1.3653 - val_accuracy: 0.7532\n",
      "Epoch 2/100\n",
      "62/62 [==============================] - 0s 4ms/step - loss: 1.8174 - accuracy: 0.7248 - val_loss: 1.1635 - val_accuracy: 0.7532\n",
      "Epoch 3/100\n",
      "62/62 [==============================] - 0s 4ms/step - loss: 1.8289 - accuracy: 0.7280 - val_loss: 1.5202 - val_accuracy: 0.7273\n",
      "Epoch 4/100\n",
      "62/62 [==============================] - 0s 4ms/step - loss: 1.3486 - accuracy: 0.7329 - val_loss: 0.8318 - val_accuracy: 0.7208\n",
      "Epoch 5/100\n",
      "62/62 [==============================] - 0s 4ms/step - loss: 1.2616 - accuracy: 0.7296 - val_loss: 1.4252 - val_accuracy: 0.6948\n",
      "Epoch 6/100\n",
      "62/62 [==============================] - 0s 4ms/step - loss: 2.0200 - accuracy: 0.6612 - val_loss: 1.1707 - val_accuracy: 0.7078\n",
      "Epoch 7/100\n",
      "62/62 [==============================] - 0s 4ms/step - loss: 2.0305 - accuracy: 0.6596 - val_loss: 2.0355 - val_accuracy: 0.6948\n",
      "Epoch 8/100\n",
      "62/62 [==============================] - 0s 4ms/step - loss: 1.8744 - accuracy: 0.6515 - val_loss: 1.0568 - val_accuracy: 0.7403\n",
      "Epoch 9/100\n",
      "62/62 [==============================] - 0s 4ms/step - loss: 1.2612 - accuracy: 0.6922 - val_loss: 0.7722 - val_accuracy: 0.7468\n",
      "Epoch 10/100\n",
      "62/62 [==============================] - 0s 4ms/step - loss: 1.0259 - accuracy: 0.7199 - val_loss: 0.6543 - val_accuracy: 0.7468\n",
      "Epoch 11/100\n",
      "62/62 [==============================] - 0s 4ms/step - loss: 0.8747 - accuracy: 0.7296 - val_loss: 0.6819 - val_accuracy: 0.7338\n",
      "Epoch 12/100\n",
      "62/62 [==============================] - 0s 4ms/step - loss: 0.7345 - accuracy: 0.7313 - val_loss: 0.4590 - val_accuracy: 0.7532\n",
      "Epoch 13/100\n",
      "62/62 [==============================] - 0s 4ms/step - loss: 0.6336 - accuracy: 0.7394 - val_loss: 0.4436 - val_accuracy: 0.7597\n",
      "Epoch 14/100\n",
      "62/62 [==============================] - 0s 4ms/step - loss: 0.5562 - accuracy: 0.7541 - val_loss: 0.4439 - val_accuracy: 0.7662\n",
      "Epoch 15/100\n",
      "62/62 [==============================] - 0s 4ms/step - loss: 0.5822 - accuracy: 0.7606 - val_loss: 0.4619 - val_accuracy: 0.7922\n",
      "Epoch 16/100\n",
      "62/62 [==============================] - 0s 4ms/step - loss: 0.5802 - accuracy: 0.7573 - val_loss: 0.5302 - val_accuracy: 0.7987\n",
      "Epoch 17/100\n",
      "62/62 [==============================] - 0s 4ms/step - loss: 0.5786 - accuracy: 0.7573 - val_loss: 0.5972 - val_accuracy: 0.8052\n",
      "Epoch 18/100\n",
      "62/62 [==============================] - 0s 4ms/step - loss: 0.5764 - accuracy: 0.7671 - val_loss: 0.5281 - val_accuracy: 0.7857\n",
      "Epoch 19/100\n",
      "62/62 [==============================] - 0s 4ms/step - loss: 0.5767 - accuracy: 0.7671 - val_loss: 0.5977 - val_accuracy: 0.7922\n",
      "Epoch 20/100\n",
      "62/62 [==============================] - 0s 4ms/step - loss: 0.5774 - accuracy: 0.7638 - val_loss: 0.5305 - val_accuracy: 0.7922\n",
      "Epoch 21/100\n",
      "62/62 [==============================] - 0s 4ms/step - loss: 0.5797 - accuracy: 0.7590 - val_loss: 0.5297 - val_accuracy: 0.7987\n",
      "Epoch 22/100\n",
      "62/62 [==============================] - 0s 4ms/step - loss: 0.5758 - accuracy: 0.7573 - val_loss: 0.5961 - val_accuracy: 0.8052\n",
      "Epoch 23/100\n",
      "62/62 [==============================] - 0s 4ms/step - loss: 0.5946 - accuracy: 0.7638 - val_loss: 0.6627 - val_accuracy: 0.8052\n",
      "Epoch 24/100\n",
      "62/62 [==============================] - 0s 4ms/step - loss: 0.5938 - accuracy: 0.7590 - val_loss: 0.6582 - val_accuracy: 0.8052\n",
      "Epoch 25/100\n",
      "62/62 [==============================] - 0s 4ms/step - loss: 0.5963 - accuracy: 0.7687 - val_loss: 0.5922 - val_accuracy: 0.8117\n",
      "Epoch 26/100\n",
      "62/62 [==============================] - 0s 4ms/step - loss: 0.5582 - accuracy: 0.7573 - val_loss: 0.5943 - val_accuracy: 0.8247\n",
      "Epoch 27/100\n",
      "62/62 [==============================] - 0s 4ms/step - loss: 0.5864 - accuracy: 0.7459 - val_loss: 0.4635 - val_accuracy: 0.7662\n",
      "Epoch 28/100\n",
      "62/62 [==============================] - 0s 4ms/step - loss: 0.5886 - accuracy: 0.7573 - val_loss: 0.5935 - val_accuracy: 0.8182\n",
      "Epoch 29/100\n",
      "62/62 [==============================] - 0s 4ms/step - loss: 0.5957 - accuracy: 0.7638 - val_loss: 0.6626 - val_accuracy: 0.8182\n",
      "Epoch 30/100\n",
      "62/62 [==============================] - 0s 4ms/step - loss: 0.5950 - accuracy: 0.7655 - val_loss: 0.5855 - val_accuracy: 0.8182\n",
      "Epoch 31/100\n",
      "62/62 [==============================] - 0s 4ms/step - loss: 0.5950 - accuracy: 0.7704 - val_loss: 0.5862 - val_accuracy: 0.8247\n",
      "Epoch 32/100\n",
      "62/62 [==============================] - 0s 4ms/step - loss: 0.5940 - accuracy: 0.7671 - val_loss: 0.5849 - val_accuracy: 0.8247\n",
      "Epoch 33/100\n",
      "62/62 [==============================] - 0s 4ms/step - loss: 2.1709 - accuracy: 0.5261 - val_loss: 1.7137 - val_accuracy: 0.5065\n",
      "Epoch 34/100\n",
      "62/62 [==============================] - 0s 4ms/step - loss: 1.0922 - accuracy: 0.6629 - val_loss: 0.6246 - val_accuracy: 0.6883\n",
      "Epoch 35/100\n",
      "62/62 [==============================] - 0s 4ms/step - loss: 0.6311 - accuracy: 0.7231 - val_loss: 0.4688 - val_accuracy: 0.7597\n",
      "Epoch 36/100\n",
      "62/62 [==============================] - 0s 4ms/step - loss: 0.6691 - accuracy: 0.7427 - val_loss: 1.1543 - val_accuracy: 0.6364\n",
      "Epoch 37/100\n",
      "62/62 [==============================] - 0s 4ms/step - loss: 0.8649 - accuracy: 0.6889 - val_loss: 0.7901 - val_accuracy: 0.7013\n",
      "Epoch 38/100\n",
      "62/62 [==============================] - 0s 4ms/step - loss: 1.2737 - accuracy: 0.6547 - val_loss: 1.3009 - val_accuracy: 0.6883\n",
      "Epoch 39/100\n",
      "62/62 [==============================] - 0s 4ms/step - loss: 1.0399 - accuracy: 0.7052 - val_loss: 0.5221 - val_accuracy: 0.7532\n",
      "Epoch 40/100\n",
      "62/62 [==============================] - 0s 4ms/step - loss: 0.5990 - accuracy: 0.7573 - val_loss: 0.5164 - val_accuracy: 0.7792\n",
      "Epoch 41/100\n",
      "62/62 [==============================] - 0s 4ms/step - loss: 0.5931 - accuracy: 0.7427 - val_loss: 0.5660 - val_accuracy: 0.7922\n",
      "Epoch 42/100\n",
      "62/62 [==============================] - 0s 4ms/step - loss: 0.5852 - accuracy: 0.7606 - val_loss: 0.5434 - val_accuracy: 0.8117\n",
      "Epoch 43/100\n",
      "62/62 [==============================] - 0s 4ms/step - loss: 0.5722 - accuracy: 0.7590 - val_loss: 0.5368 - val_accuracy: 0.7987\n",
      "Epoch 44/100\n",
      "62/62 [==============================] - 0s 4ms/step - loss: 0.5653 - accuracy: 0.7655 - val_loss: 0.5307 - val_accuracy: 0.7987\n",
      "Epoch 45/100\n",
      "62/62 [==============================] - 0s 4ms/step - loss: 0.5656 - accuracy: 0.7655 - val_loss: 0.6019 - val_accuracy: 0.7987\n",
      "Epoch 46/100\n",
      "62/62 [==============================] - 0s 5ms/step - loss: 0.5472 - accuracy: 0.7638 - val_loss: 0.5288 - val_accuracy: 0.8117\n",
      "Epoch 47/100\n",
      "62/62 [==============================] - 0s 4ms/step - loss: 0.5641 - accuracy: 0.7720 - val_loss: 0.5352 - val_accuracy: 0.7922\n",
      "Epoch 48/100\n",
      "62/62 [==============================] - 0s 4ms/step - loss: 0.5800 - accuracy: 0.7671 - val_loss: 0.5974 - val_accuracy: 0.7987\n",
      "Epoch 49/100\n",
      "62/62 [==============================] - 0s 4ms/step - loss: 0.5764 - accuracy: 0.7606 - val_loss: 0.5972 - val_accuracy: 0.7987\n",
      "Epoch 50/100\n",
      "62/62 [==============================] - 0s 4ms/step - loss: 0.5769 - accuracy: 0.7638 - val_loss: 0.5946 - val_accuracy: 0.8052\n",
      "Epoch 51/100\n",
      "62/62 [==============================] - 0s 4ms/step - loss: 0.5590 - accuracy: 0.7638 - val_loss: 0.5943 - val_accuracy: 0.8052\n",
      "Epoch 52/100\n",
      "62/62 [==============================] - 0s 4ms/step - loss: 0.5768 - accuracy: 0.7590 - val_loss: 0.5939 - val_accuracy: 0.7987\n",
      "Epoch 53/100\n",
      "62/62 [==============================] - 0s 4ms/step - loss: 0.5751 - accuracy: 0.7573 - val_loss: 0.5906 - val_accuracy: 0.8182\n",
      "Epoch 54/100\n",
      "62/62 [==============================] - 0s 4ms/step - loss: 0.8151 - accuracy: 0.7182 - val_loss: 0.6725 - val_accuracy: 0.7662\n",
      "Epoch 55/100\n",
      "62/62 [==============================] - 0s 4ms/step - loss: 0.5771 - accuracy: 0.7248 - val_loss: 0.6481 - val_accuracy: 0.7857\n",
      "Epoch 56/100\n",
      "62/62 [==============================] - 0s 4ms/step - loss: 0.5416 - accuracy: 0.7313 - val_loss: 0.6375 - val_accuracy: 0.7727\n",
      "Epoch 57/100\n",
      "62/62 [==============================] - 0s 4ms/step - loss: 0.5365 - accuracy: 0.7362 - val_loss: 0.5567 - val_accuracy: 0.7597\n",
      "Epoch 58/100\n",
      "62/62 [==============================] - 0s 4ms/step - loss: 0.5556 - accuracy: 0.7459 - val_loss: 0.6476 - val_accuracy: 0.7597\n"
     ]
    },
    {
     "name": "stdout",
     "output_type": "stream",
     "text": [
      "Epoch 59/100\n",
      "62/62 [==============================] - 0s 4ms/step - loss: 0.5569 - accuracy: 0.7199 - val_loss: 0.5627 - val_accuracy: 0.7727\n",
      "Epoch 60/100\n",
      "62/62 [==============================] - 0s 4ms/step - loss: 0.5392 - accuracy: 0.7410 - val_loss: 0.5509 - val_accuracy: 0.7792\n",
      "Epoch 61/100\n",
      "62/62 [==============================] - 0s 4ms/step - loss: 0.5326 - accuracy: 0.7443 - val_loss: 0.5635 - val_accuracy: 0.7662\n",
      "Epoch 62/100\n",
      "62/62 [==============================] - 0s 4ms/step - loss: 0.5369 - accuracy: 0.7427 - val_loss: 0.5515 - val_accuracy: 0.7662\n",
      "Epoch 63/100\n",
      "62/62 [==============================] - 0s 4ms/step - loss: 0.5283 - accuracy: 0.7476 - val_loss: 0.6175 - val_accuracy: 0.7792\n",
      "Epoch 64/100\n",
      "62/62 [==============================] - 0s 4ms/step - loss: 0.5450 - accuracy: 0.7410 - val_loss: 0.6076 - val_accuracy: 0.7857\n",
      "Epoch 65/100\n",
      "62/62 [==============================] - 0s 4ms/step - loss: 0.5614 - accuracy: 0.7410 - val_loss: 0.5221 - val_accuracy: 0.8312\n",
      "Epoch 66/100\n",
      "62/62 [==============================] - 0s 4ms/step - loss: 0.5825 - accuracy: 0.7590 - val_loss: 0.5938 - val_accuracy: 0.8182\n",
      "Epoch 67/100\n",
      "62/62 [==============================] - 0s 4ms/step - loss: 0.5775 - accuracy: 0.7655 - val_loss: 0.6188 - val_accuracy: 0.8052\n",
      "Epoch 68/100\n",
      "62/62 [==============================] - 0s 4ms/step - loss: 0.5756 - accuracy: 0.7638 - val_loss: 0.6007 - val_accuracy: 0.8117\n",
      "Epoch 69/100\n",
      "62/62 [==============================] - 0s 4ms/step - loss: 0.5760 - accuracy: 0.7638 - val_loss: 0.5980 - val_accuracy: 0.8117\n",
      "Epoch 70/100\n",
      "62/62 [==============================] - 0s 4ms/step - loss: 0.5812 - accuracy: 0.7606 - val_loss: 0.5339 - val_accuracy: 0.7143\n",
      "Epoch 71/100\n",
      "62/62 [==============================] - 0s 4ms/step - loss: 0.5687 - accuracy: 0.7215 - val_loss: 0.4925 - val_accuracy: 0.7597\n",
      "Epoch 72/100\n",
      "62/62 [==============================] - 0s 4ms/step - loss: 0.5309 - accuracy: 0.7443 - val_loss: 0.4659 - val_accuracy: 0.7922\n",
      "Epoch 73/100\n",
      "62/62 [==============================] - 0s 4ms/step - loss: 0.5386 - accuracy: 0.7524 - val_loss: 0.5389 - val_accuracy: 0.7792\n",
      "Epoch 74/100\n",
      "62/62 [==============================] - 0s 4ms/step - loss: 0.6367 - accuracy: 0.6808 - val_loss: 0.5257 - val_accuracy: 0.7143\n",
      "Epoch 75/100\n",
      "62/62 [==============================] - 0s 4ms/step - loss: 0.5378 - accuracy: 0.7150 - val_loss: 0.5603 - val_accuracy: 0.7727\n",
      "Epoch 76/100\n",
      "62/62 [==============================] - 0s 4ms/step - loss: 0.5184 - accuracy: 0.7345 - val_loss: 0.5445 - val_accuracy: 0.7987\n",
      "Epoch 77/100\n",
      "62/62 [==============================] - 0s 4ms/step - loss: 0.5491 - accuracy: 0.7345 - val_loss: 0.6903 - val_accuracy: 0.8052\n",
      "Epoch 78/100\n",
      "62/62 [==============================] - 0s 4ms/step - loss: 0.5642 - accuracy: 0.7476 - val_loss: 0.6796 - val_accuracy: 0.8182\n",
      "Epoch 79/100\n",
      "62/62 [==============================] - 0s 4ms/step - loss: 0.5637 - accuracy: 0.7508 - val_loss: 0.6808 - val_accuracy: 0.8377\n",
      "Epoch 80/100\n",
      "62/62 [==============================] - 0s 4ms/step - loss: 0.5801 - accuracy: 0.7573 - val_loss: 0.6703 - val_accuracy: 0.8117\n",
      "Epoch 81/100\n",
      "62/62 [==============================] - 0s 4ms/step - loss: 0.6664 - accuracy: 0.7410 - val_loss: 1.4420 - val_accuracy: 0.5260\n",
      "Epoch 82/100\n",
      "62/62 [==============================] - 0s 4ms/step - loss: 1.7959 - accuracy: 0.4984 - val_loss: 1.2001 - val_accuracy: 0.5065\n",
      "Epoch 83/100\n",
      "62/62 [==============================] - 0s 4ms/step - loss: 1.0827 - accuracy: 0.5668 - val_loss: 0.9604 - val_accuracy: 0.5519\n",
      "Epoch 84/100\n",
      "62/62 [==============================] - 0s 4ms/step - loss: 0.7196 - accuracy: 0.6498 - val_loss: 0.6030 - val_accuracy: 0.6883\n",
      "Epoch 85/100\n",
      "62/62 [==============================] - 0s 4ms/step - loss: 0.6358 - accuracy: 0.6922 - val_loss: 0.5654 - val_accuracy: 0.6818\n",
      "Epoch 86/100\n",
      "62/62 [==============================] - 0s 4ms/step - loss: 0.6056 - accuracy: 0.7068 - val_loss: 0.5401 - val_accuracy: 0.7208\n",
      "Epoch 87/100\n",
      "62/62 [==============================] - 0s 4ms/step - loss: 0.5859 - accuracy: 0.7215 - val_loss: 0.5213 - val_accuracy: 0.7403\n",
      "Epoch 88/100\n",
      "62/62 [==============================] - 0s 4ms/step - loss: 0.5537 - accuracy: 0.7264 - val_loss: 0.5091 - val_accuracy: 0.7532\n",
      "Epoch 89/100\n",
      "62/62 [==============================] - 0s 4ms/step - loss: 0.5551 - accuracy: 0.7264 - val_loss: 0.5000 - val_accuracy: 0.7468\n",
      "Epoch 90/100\n",
      "62/62 [==============================] - 0s 4ms/step - loss: 0.5328 - accuracy: 0.7427 - val_loss: 0.5701 - val_accuracy: 0.7338\n",
      "Epoch 91/100\n",
      "62/62 [==============================] - 0s 4ms/step - loss: 0.5266 - accuracy: 0.7410 - val_loss: 0.5614 - val_accuracy: 0.7597\n",
      "Epoch 92/100\n",
      "62/62 [==============================] - 0s 4ms/step - loss: 0.5232 - accuracy: 0.7394 - val_loss: 0.4786 - val_accuracy: 0.7857\n",
      "Epoch 93/100\n",
      "62/62 [==============================] - 0s 4ms/step - loss: 0.5318 - accuracy: 0.7492 - val_loss: 0.5644 - val_accuracy: 0.7597\n",
      "Epoch 94/100\n",
      "62/62 [==============================] - 0s 4ms/step - loss: 0.5204 - accuracy: 0.7378 - val_loss: 0.5667 - val_accuracy: 0.7792\n",
      "Epoch 95/100\n",
      "62/62 [==============================] - 0s 4ms/step - loss: 0.5197 - accuracy: 0.7394 - val_loss: 0.5479 - val_accuracy: 0.7922\n",
      "Epoch 96/100\n",
      "62/62 [==============================] - 0s 4ms/step - loss: 0.5189 - accuracy: 0.7410 - val_loss: 0.5624 - val_accuracy: 0.7727\n",
      "Epoch 97/100\n",
      "62/62 [==============================] - 0s 4ms/step - loss: 0.5165 - accuracy: 0.7476 - val_loss: 0.5448 - val_accuracy: 0.7987\n",
      "Epoch 98/100\n",
      "62/62 [==============================] - 0s 4ms/step - loss: 0.5151 - accuracy: 0.7443 - val_loss: 0.5393 - val_accuracy: 0.8117\n",
      "Epoch 99/100\n",
      "62/62 [==============================] - 0s 4ms/step - loss: 0.5160 - accuracy: 0.7557 - val_loss: 0.5436 - val_accuracy: 0.7987\n",
      "Epoch 100/100\n",
      "62/62 [==============================] - 0s 4ms/step - loss: 0.5243 - accuracy: 0.7394 - val_loss: 0.5569 - val_accuracy: 0.7857\n"
     ]
    },
    {
     "data": {
      "text/plain": [
       "<keras.callbacks.History at 0x1cc9f6d58b0>"
      ]
     },
     "execution_count": 19,
     "metadata": {},
     "output_type": "execute_result"
    }
   ],
   "source": [
    "model.fit(X_train, Y_train, epochs=100, batch_size=10, validation_data=(X_test,Y_test))"
   ]
  },
  {
   "cell_type": "code",
   "execution_count": 20,
   "id": "a7a9a796",
   "metadata": {},
   "outputs": [
    {
     "data": {
      "image/png": "[encoded data removed]",
      "text/plain": [
       "<Figure size 432x288 with 1 Axes>"
      ]
     },
     "metadata": {
      "needs_background": "light"
     },
     "output_type": "display_data"
    }
   ],
   "source": [
    "plt.plot(model.history.history['accuracy'], label='Accuracy')\n",
    "plt.plot(model.history.history['val_accuracy'], label='Val Accuracy')\n",
    "plt.title('Accuracy Plot')\n",
    "plt.legend()\n",
    "plt.show()"
   ]
  },
  {
   "cell_type": "code",
   "execution_count": 21,
   "id": "d899a71e",
   "metadata": {},
   "outputs": [
    {
     "data": {
      "image/png": "[encoded data removed]",
      "text/plain": [
       "<Figure size 432x288 with 1 Axes>"
      ]
     },
     "metadata": {
      "needs_background": "light"
     },
     "output_type": "display_data"
    }
   ],
   "source": [
    "plt.plot(model.history.history['loss'], label='Loss')\n",
    "plt.plot(model.history.history['val_loss'], label='Val Loss')\n",
    "plt.title('Loss Plot')\n",
    "plt.legend()\n",
    "plt.show()"
   ]
  },
  {
   "cell_type": "code",
   "execution_count": 22,
   "id": "185eaa5d",
   "metadata": {},
   "outputs": [
    {
     "name": "stdout",
     "output_type": "stream",
     "text": [
      "5/5 [==============================] - 0s 6ms/step\n"
     ]
    }
   ],
   "source": [
    "Y_pred = model.predict(X_test)\n",
    "Y_pred = (Y_pred > 0.5)"
   ]
  },
  {
   "cell_type": "code",
   "execution_count": 23,
   "id": "540ae987",
   "metadata": {},
   "outputs": [
    {
     "name": "stdout",
     "output_type": "stream",
     "text": [
      "[[94 13]\n",
      " [20 27]]\n",
      "Accuracy Score: 78.57142857142857\n",
      "              precision    recall  f1-score   support\n",
      "\n",
      "           0       0.82      0.88      0.85       107\n",
      "           1       0.68      0.57      0.62        47\n",
      "\n",
      "    accuracy                           0.79       154\n",
      "   macro avg       0.75      0.73      0.74       154\n",
      "weighted avg       0.78      0.79      0.78       154\n",
      "\n"
     ]
    }
   ],
   "source": [
    "print(confusion_matrix(Y_test, Y_pred))\n",
    "print('Accuracy Score:', accuracy_score(Y_test, Y_pred)*100)\n",
    "print(classification_report(Y_test, Y_pred))"
   ]
  }
 ],
 "metadata": {
  "kernelspec": {
   "display_name": "Python 3 (ipykernel)",
   "language": "python",
   "name": "python3"
  },
  "language_info": {
   "codemirror_mode": {
    "name": "ipython",
    "version": 3
   },
   "file_extension": ".py",
   "mimetype": "text/x-python",
   "name": "python",
   "nbconvert_exporter": "python",
   "pygments_lexer": "ipython3",
   "version": "3.9.12"
  }
 },
 "nbformat": 4,
 "nbformat_minor": 5
}
