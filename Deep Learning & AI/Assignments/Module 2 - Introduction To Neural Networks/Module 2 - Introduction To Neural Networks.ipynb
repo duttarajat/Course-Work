{
 "cells": [
  {
   "cell_type": "markdown",
   "id": "67513267",
   "metadata": {},
   "source": [
    "# Module 2 - Introduction To Neural Networks"
   ]
  },
  {
   "cell_type": "raw",
   "id": "b81493f4",
   "metadata": {},
   "source": [
    "Tasks to be Done:\n",
    "    A. Shows how you can create a session in Tensor Flow\n",
    "    B. Define constants and perform computation such as addition and subtraction with those constants using the session.\n",
    "    C. Print Hello World using the same\n",
    "    D. Create a simple Linear Equation y = mx+c in tensor flow, where m and c are variables and x is a placeholder\n",
    "        a. Feed in a scalar value to x\n",
    "        b. Feed in a vector of 5 values to x\n",
    "        c. Choose arbitrary values for m and c"
   ]
  },
  {
   "cell_type": "code",
   "execution_count": 1,
   "id": "fcf1f640",
   "metadata": {},
   "outputs": [],
   "source": [
    "import tensorflow as tf"
   ]
  },
  {
   "cell_type": "code",
   "execution_count": 2,
   "id": "bec1ddb2",
   "metadata": {},
   "outputs": [
    {
     "name": "stdout",
     "output_type": "stream",
     "text": [
      "2.10.0\n"
     ]
    }
   ],
   "source": [
    "print(tf.__version__)"
   ]
  },
  {
   "cell_type": "code",
   "execution_count": null,
   "id": "a388a326",
   "metadata": {},
   "outputs": [],
   "source": []
  },
  {
   "cell_type": "code",
   "execution_count": 3,
   "id": "2c5ca050",
   "metadata": {},
   "outputs": [],
   "source": [
    "#    A. Show how you can create a session in Tensor Flow"
   ]
  },
  {
   "cell_type": "code",
   "execution_count": 4,
   "id": "313936d6",
   "metadata": {},
   "outputs": [],
   "source": [
    "sess = tf.compat.v1.Session()"
   ]
  },
  {
   "cell_type": "code",
   "execution_count": 5,
   "id": "1de9199f",
   "metadata": {},
   "outputs": [],
   "source": [
    "sess.close()"
   ]
  },
  {
   "cell_type": "code",
   "execution_count": null,
   "id": "1a567ba3",
   "metadata": {},
   "outputs": [],
   "source": []
  },
  {
   "cell_type": "raw",
   "id": "ec932576",
   "metadata": {},
   "source": [
    "    B. Define constants and perform computation such as addition and subtraction with those constants using the session."
   ]
  },
  {
   "cell_type": "code",
   "execution_count": 6,
   "id": "90ffa77b",
   "metadata": {},
   "outputs": [
    {
     "name": "stdout",
     "output_type": "stream",
     "text": [
      "6\n"
     ]
    }
   ],
   "source": [
    "with tf.compat.v1.Session() as sess:\n",
    "    x = tf.constant(2)\n",
    "    y = tf.constant(4)\n",
    "    z = tf.add(x, y)\n",
    "    sum = sess.run(z)\n",
    "    print(sum)\n",
    "    sess.close()"
   ]
  },
  {
   "cell_type": "code",
   "execution_count": 7,
   "id": "835e38ae",
   "metadata": {},
   "outputs": [
    {
     "name": "stdout",
     "output_type": "stream",
     "text": [
      "-2\n"
     ]
    }
   ],
   "source": [
    "with tf.compat.v1.Session() as sess:\n",
    "    x = tf.constant(2)\n",
    "    y = tf.constant(4)\n",
    "    z = tf.subtract(x, y)\n",
    "    dif = sess.run(z)\n",
    "    print(dif)\n",
    "    sess.close()"
   ]
  },
  {
   "cell_type": "code",
   "execution_count": 8,
   "id": "1bf74375",
   "metadata": {},
   "outputs": [
    {
     "name": "stdout",
     "output_type": "stream",
     "text": [
      "8\n"
     ]
    }
   ],
   "source": [
    "with tf.compat.v1.Session() as sess:\n",
    "    x = tf.constant(2)\n",
    "    y = tf.constant(4)\n",
    "    z = tf.multiply(x, y)\n",
    "    mul = sess.run(z)\n",
    "    print(mul)\n",
    "    sess.close()"
   ]
  },
  {
   "cell_type": "code",
   "execution_count": 9,
   "id": "a274efc8",
   "metadata": {},
   "outputs": [
    {
     "name": "stdout",
     "output_type": "stream",
     "text": [
      "0.5\n"
     ]
    }
   ],
   "source": [
    "with tf.compat.v1.Session() as sess:\n",
    "    x = tf.constant(2)\n",
    "    y = tf.constant(4)\n",
    "    z = tf.divide(x, y)\n",
    "    div = sess.run(z)\n",
    "    print(div)\n",
    "    sess.close()"
   ]
  },
  {
   "cell_type": "code",
   "execution_count": null,
   "id": "21837efa",
   "metadata": {},
   "outputs": [],
   "source": []
  },
  {
   "cell_type": "raw",
   "id": "ebcd9bbe",
   "metadata": {},
   "source": [
    "    C. Print Hello World using the same"
   ]
  },
  {
   "cell_type": "code",
   "execution_count": 10,
   "id": "b4d60c20",
   "metadata": {},
   "outputs": [
    {
     "name": "stdout",
     "output_type": "stream",
     "text": [
      "Hello World\r\n"
     ]
    }
   ],
   "source": [
    "with tf.compat.v1.Session() as sess:\n",
    "    x = 'Hello World'\n",
    "    y = tf.print(x)\n",
    "    sess.run(y)\n",
    "    sess.close()"
   ]
  },
  {
   "cell_type": "code",
   "execution_count": null,
   "id": "afd24fef",
   "metadata": {},
   "outputs": [],
   "source": []
  },
  {
   "cell_type": "raw",
   "id": "cd7b7235",
   "metadata": {},
   "source": [
    "    D. Create a simple Linear Equation y = mx+c in tensor flow, where m and c are variables and x is a placeholder\n",
    "        a. Feed in a scalar value to x\n",
    "        b. Feed in a vector of 5 values to x\n",
    "        c. Choose arbitrary values for m and c"
   ]
  },
  {
   "cell_type": "code",
   "execution_count": 11,
   "id": "0d936c58",
   "metadata": {
    "scrolled": false
   },
   "outputs": [
    {
     "name": "stdout",
     "output_type": "stream",
     "text": [
      "16\n"
     ]
    }
   ],
   "source": [
    "with tf.compat.v1.Session() as sess:\n",
    "    x = tf.constant(3)\n",
    "    m = tf.constant(5)\n",
    "    c = tf.constant(1)\n",
    "    res = tf.add((tf.multiply(x, m)),c)\n",
    "    y = sess.run(res)\n",
    "    print(y)\n",
    "    sess.close()"
   ]
  },
  {
   "cell_type": "code",
   "execution_count": 12,
   "id": "7fddd853",
   "metadata": {},
   "outputs": [
    {
     "name": "stdout",
     "output_type": "stream",
     "text": [
      "[11 31 51 71 91]\n"
     ]
    }
   ],
   "source": [
    "with tf.compat.v1.Session() as sess:\n",
    "    x = tf.constant([1,3,5,7,9])\n",
    "    m = tf.constant(10)\n",
    "    c = tf.constant(1)\n",
    "    res = tf.add((tf.multiply(x, m)),c)\n",
    "    y = sess.run(res)\n",
    "    print(y)\n",
    "    sess.close()"
   ]
  }
 ],
 "metadata": {
  "kernelspec": {
   "display_name": "Python 3 (ipykernel)",
   "language": "python",
   "name": "python3"
  },
  "language_info": {
   "codemirror_mode": {
    "name": "ipython",
    "version": 3
   },
   "file_extension": ".py",
   "mimetype": "text/x-python",
   "name": "python",
   "nbconvert_exporter": "python",
   "pygments_lexer": "ipython3",
   "version": "3.9.12"
  }
 },
 "nbformat": 4,
 "nbformat_minor": 5
}
