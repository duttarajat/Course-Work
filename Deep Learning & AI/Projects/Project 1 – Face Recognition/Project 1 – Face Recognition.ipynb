{
 "cells": [
  {
   "cell_type": "code",
   "execution_count": 1,
   "id": "d704803f",
   "metadata": {},
   "outputs": [],
   "source": [
    "import cv2, glob"
   ]
  },
  {
   "cell_type": "code",
   "execution_count": 2,
   "id": "19f3f00c",
   "metadata": {},
   "outputs": [],
   "source": [
    "gimage=glob.glob('*.jpg')"
   ]
  },
  {
   "cell_type": "code",
   "execution_count": 3,
   "id": "5fae625b",
   "metadata": {},
   "outputs": [],
   "source": [
    "detect=cv2.CascadeClassifier('haarcascade_frontalface_default.xml')"
   ]
  },
  {
   "cell_type": "code",
   "execution_count": 4,
   "id": "eb4475d4",
   "metadata": {},
   "outputs": [],
   "source": [
    "for timage in gimage:\n",
    "    image=cv2.imread(timage)\n",
    "    grayimg=cv2.cvtColor(image, cv2.COLOR_BGR2GRAY)\n",
    "    face=detect.detectMultiScale(grayimg, 1.25, 3)\n",
    "    for (x,y,w,h) in face:\n",
    "        cv2.rectangle(image, (x,y), (x+w, y+h), (0,255,0), 2)\n",
    "    cv2.imshow('Detect Images', image)\n",
    "    cv2.waitKey(2000)\n",
    "    cv2.destroyAllWindows()"
   ]
  }
 ],
 "metadata": {
  "kernelspec": {
   "display_name": "Python 3 (ipykernel)",
   "language": "python",
   "name": "python3"
  },
  "language_info": {
   "codemirror_mode": {
    "name": "ipython",
    "version": 3
   },
   "file_extension": ".py",
   "mimetype": "text/x-python",
   "name": "python",
   "nbconvert_exporter": "python",
   "pygments_lexer": "ipython3",
   "version": "3.9.12"
  }
 },
 "nbformat": 4,
 "nbformat_minor": 5
}
